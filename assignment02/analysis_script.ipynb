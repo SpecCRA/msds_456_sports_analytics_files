{
 "nbformat": 4,
 "nbformat_minor": 2,
 "metadata": {
  "language_info": {
   "name": "python",
   "codemirror_mode": {
    "name": "ipython",
    "version": 3
   },
   "version": "3.7.4-final"
  },
  "orig_nbformat": 2,
  "file_extension": ".py",
  "mimetype": "text/x-python",
  "name": "python",
  "npconvert_exporter": "python",
  "pygments_lexer": "ipython3",
  "version": 3,
  "kernelspec": {
   "name": "python3",
   "display_name": "Python 3"
  }
 },
 "cells": [
  {
   "cell_type": "markdown",
   "execution_count": null,
   "metadata": {},
   "outputs": [],
   "source": [
    "# Setup"
   ]
  },
  {
   "cell_type": "code",
   "execution_count": 7,
   "metadata": {},
   "outputs": [],
   "source": [
    "import pandas as pd\n",
    "import numpy as np\n",
    "import math"
   ]
  },
  {
   "cell_type": "markdown",
   "execution_count": null,
   "metadata": {},
   "outputs": [],
   "source": [
    "# Load Data"
   ]
  },
  {
   "cell_type": "code",
   "execution_count": 2,
   "metadata": {},
   "outputs": [],
   "source": [
    "teams_file = './data_files/2015-20_team_ratings.csv'\n",
    "teams_df = pd.read_csv(teams_file)"
   ]
  },
  {
   "cell_type": "code",
   "execution_count": 3,
   "metadata": {},
   "outputs": [
    {
     "data": {
      "text/html": "<div>\n<style scoped>\n    .dataframe tbody tr th:only-of-type {\n        vertical-align: middle;\n    }\n\n    .dataframe tbody tr th {\n        vertical-align: top;\n    }\n\n    .dataframe thead th {\n        text-align: right;\n    }\n</style>\n<table border=\"1\" class=\"dataframe\">\n  <thead>\n    <tr style=\"text-align: right;\">\n      <th></th>\n      <th>Unnamed: 0</th>\n      <th>Rk</th>\n      <th>Team</th>\n      <th>Conf</th>\n      <th>Div</th>\n      <th>W</th>\n      <th>L</th>\n      <th>W/L%</th>\n      <th>MOV</th>\n      <th>ORtg</th>\n      <th>DRtg</th>\n      <th>NRtg</th>\n      <th>MOV/A</th>\n      <th>ORtg/A</th>\n      <th>DRtg/A</th>\n      <th>NRtg/A</th>\n      <th>season</th>\n    </tr>\n  </thead>\n  <tbody>\n    <tr>\n      <td>0</td>\n      <td>0</td>\n      <td>1</td>\n      <td>Milwaukee Bucks</td>\n      <td>E</td>\n      <td>C</td>\n      <td>41</td>\n      <td>7</td>\n      <td>0.854</td>\n      <td>12.27</td>\n      <td>114.62</td>\n      <td>102.88</td>\n      <td>11.74</td>\n      <td>10.95</td>\n      <td>114.21</td>\n      <td>103.78</td>\n      <td>10.44</td>\n      <td>2019-20</td>\n    </tr>\n    <tr>\n      <td>1</td>\n      <td>1</td>\n      <td>2</td>\n      <td>Los Angeles Lakers</td>\n      <td>W</td>\n      <td>P</td>\n      <td>36</td>\n      <td>11</td>\n      <td>0.766</td>\n      <td>6.94</td>\n      <td>113.38</td>\n      <td>106.60</td>\n      <td>6.77</td>\n      <td>7.22</td>\n      <td>113.14</td>\n      <td>106.07</td>\n      <td>7.07</td>\n      <td>2019-20</td>\n    </tr>\n    <tr>\n      <td>2</td>\n      <td>2</td>\n      <td>3</td>\n      <td>Dallas Mavericks</td>\n      <td>W</td>\n      <td>SW</td>\n      <td>29</td>\n      <td>19</td>\n      <td>0.604</td>\n      <td>5.85</td>\n      <td>117.87</td>\n      <td>111.93</td>\n      <td>5.94</td>\n      <td>6.18</td>\n      <td>118.09</td>\n      <td>111.86</td>\n      <td>6.23</td>\n      <td>2019-20</td>\n    </tr>\n    <tr>\n      <td>3</td>\n      <td>3</td>\n      <td>4</td>\n      <td>Boston Celtics</td>\n      <td>E</td>\n      <td>A</td>\n      <td>32</td>\n      <td>15</td>\n      <td>0.681</td>\n      <td>6.87</td>\n      <td>113.53</td>\n      <td>106.56</td>\n      <td>6.97</td>\n      <td>5.96</td>\n      <td>113.14</td>\n      <td>107.11</td>\n      <td>6.03</td>\n      <td>2019-20</td>\n    </tr>\n    <tr>\n      <td>4</td>\n      <td>4</td>\n      <td>5</td>\n      <td>Los Angeles Clippers</td>\n      <td>W</td>\n      <td>P</td>\n      <td>33</td>\n      <td>15</td>\n      <td>0.688</td>\n      <td>5.79</td>\n      <td>113.07</td>\n      <td>107.44</td>\n      <td>5.62</td>\n      <td>6.06</td>\n      <td>112.80</td>\n      <td>106.90</td>\n      <td>5.9</td>\n      <td>2019-20</td>\n    </tr>\n  </tbody>\n</table>\n</div>",
      "text/plain": "   Unnamed: 0  Rk                  Team Conf Div   W   L   W/L%    MOV  \\\n0           0   1       Milwaukee Bucks    E   C  41   7  0.854  12.27   \n1           1   2    Los Angeles Lakers    W   P  36  11  0.766   6.94   \n2           2   3      Dallas Mavericks    W  SW  29  19  0.604   5.85   \n3           3   4        Boston Celtics    E   A  32  15  0.681   6.87   \n4           4   5  Los Angeles Clippers    W   P  33  15  0.688   5.79   \n\n     ORtg    DRtg   NRtg  MOV/A  ORtg/A  DRtg/A NRtg/A   season  \n0  114.62  102.88  11.74  10.95  114.21  103.78  10.44  2019-20  \n1  113.38  106.60   6.77   7.22  113.14  106.07   7.07  2019-20  \n2  117.87  111.93   5.94   6.18  118.09  111.86   6.23  2019-20  \n3  113.53  106.56   6.97   5.96  113.14  107.11   6.03  2019-20  \n4  113.07  107.44   5.62   6.06  112.80  106.90    5.9  2019-20  "
     },
     "execution_count": 3,
     "metadata": {},
     "output_type": "execute_result"
    }
   ],
   "source": [
    "teams_df.head()"
   ]
  },
  {
   "cell_type": "markdown",
   "execution_count": null,
   "metadata": {},
   "outputs": [],
   "source": [
    "# Question 1: Win Expectation"
   ]
  },
  {
   "cell_type": "code",
   "execution_count": null,
   "metadata": {},
   "outputs": [],
   "source": [
    "# win %  = ortg ^ x / (ortg + drtg) ^ x\n",
    "# figure out x for lowest error\n",
    "# https://en.wikipedia.org/wiki/Pythagorean_expectation\n",
    "# Morey says 13.91\n",
    "# https://www.nbastuffer.com/analytics101/pythagorean-winning-percentage/\n",
    "# this site says 16.5\n",
    "# so calculate mae"
   ]
  },
  {
   "cell_type": "code",
   "execution_count": 5,
   "metadata": {},
   "outputs": [],
   "source": [
    "# Add up total games played\n",
    "# most should be 82\n",
    "teams_df['G'] = teams_df.W + teams_df.L"
   ]
  },
  {
   "cell_type": "code",
   "execution_count": 75,
   "metadata": {},
   "outputs": [],
   "source": [
    "def calc_expectation(in_df, x, out_dict):\n",
    "    df = in_df.copy()\n",
    "    df['rounded_wins'] = in_df.G * (in_df.ORtg ** x) / (in_df.ORtg ** x + in_df.DRtg ** x)\n",
    "    #in_df.rounded_wins = math.floor(expected_wins)\n",
    "\n",
    "    #print(df.head())\n",
    "\n",
    "    w_std = df.rounded_wins.std()\n",
    "    n = len(df)\n",
    "\n",
    "    df['abs_error'] = abs(df.rounded_wins - df.W)\n",
    "    df['se'] = float(w_std / np.sqrt(n))\n",
    "\n",
    "    # print(df.abs_error.mean())\n",
    "    # print(df.se.mean())\n",
    "\n",
    "    out_dict[x] = {'se': df.se.mean(), 'mae':df.abs_error.mean()}"
   ]
  },
  {
   "cell_type": "code",
   "execution_count": null,
   "metadata": {},
   "outputs": [],
   "source": []
  },
  {
   "cell_type": "code",
   "execution_count": 79,
   "metadata": {},
   "outputs": [],
   "source": [
    "calc_df = teams_df[['G', 'W', 'L', 'ORtg', 'DRtg']].copy()\n",
    "results_dict = dict()"
   ]
  },
  {
   "cell_type": "code",
   "execution_count": 80,
   "metadata": {},
   "outputs": [
    {
     "name": "stdout",
     "output_type": "stream",
     "text": "8.74661295817776\n0.5559254340217776\n8.12115314534777\n0.568235586313577\n7.5008966331650075\n0.5882108082289218\n6.884776570872502\n0.6149074360823298\n6.273534341393199\n0.6472391680394897\n5.668272749621451\n0.6841091218077936\n5.070022552457779\n0.7244972146464049\n4.479733297078285\n0.7675041526882335\n3.9151506374648224\n0.8123642794022742\n3.396204295439574\n0.8584403771761913\n2.9560869593399404\n0.9052100875600602\n2.5829037907360983\n0.9522497707146601\n2.313016028622644\n0.9992187865378362\n2.177822684143679\n1.0458454587961767\n2.1901020934745667\n1.0919150719869806\n2.298883743961574\n1.1372598270060357\n2.4909600898027233\n1.1817505194999312\n2.7771756174694877\n1.2252896691234507\n3.1205043359570768\n1.2678058462897759\n"
    }
   ],
   "source": [
    "# Go through whole numbers of 1-20\n",
    "for i in range(1,20):\n",
    "    #print(i)\n",
    "    calc_expectation(calc_df, i, results_dict)"
   ]
  },
  {
   "cell_type": "code",
   "execution_count": 81,
   "metadata": {},
   "outputs": [
    {
     "data": {
      "text/plain": "{1: {'se': 0.5559254340217776, 'mae': 8.74661295817776},\n 2: {'se': 0.568235586313577, 'mae': 8.12115314534777},\n 3: {'se': 0.5882108082289218, 'mae': 7.5008966331650075},\n 4: {'se': 0.6149074360823298, 'mae': 6.884776570872502},\n 5: {'se': 0.6472391680394897, 'mae': 6.273534341393199},\n 6: {'se': 0.6841091218077936, 'mae': 5.668272749621451},\n 7: {'se': 0.7244972146464049, 'mae': 5.070022552457779},\n 8: {'se': 0.7675041526882335, 'mae': 4.479733297078285},\n 9: {'se': 0.8123642794022742, 'mae': 3.9151506374648224},\n 10: {'se': 0.8584403771761913, 'mae': 3.396204295439574},\n 11: {'se': 0.9052100875600602, 'mae': 2.9560869593399404},\n 12: {'se': 0.9522497707146601, 'mae': 2.5829037907360983},\n 13: {'se': 0.9992187865378362, 'mae': 2.313016028622644},\n 14: {'se': 1.0458454587961767, 'mae': 2.177822684143679},\n 15: {'se': 1.0919150719869806, 'mae': 2.1901020934745667},\n 16: {'se': 1.1372598270060357, 'mae': 2.298883743961574},\n 17: {'se': 1.1817505194999312, 'mae': 2.4909600898027233},\n 18: {'se': 1.2252896691234507, 'mae': 2.7771756174694877},\n 19: {'se': 1.2678058462897759, 'mae': 3.1205043359570768}}"
     },
     "execution_count": 81,
     "metadata": {},
     "output_type": "execute_result"
    }
   ],
   "source": [
    "results_dict"
   ]
  },
  {
   "cell_type": "code",
   "execution_count": 82,
   "metadata": {},
   "outputs": [],
   "source": [
    "results_df = pd.DataFrame.from_dict(results_dict)"
   ]
  },
  {
   "cell_type": "code",
   "execution_count": 83,
   "metadata": {},
   "outputs": [
    {
     "data": {
      "text/html": "<div>\n<style scoped>\n    .dataframe tbody tr th:only-of-type {\n        vertical-align: middle;\n    }\n\n    .dataframe tbody tr th {\n        vertical-align: top;\n    }\n\n    .dataframe thead th {\n        text-align: right;\n    }\n</style>\n<table border=\"1\" class=\"dataframe\">\n  <thead>\n    <tr style=\"text-align: right;\">\n      <th></th>\n      <th>1</th>\n      <th>2</th>\n      <th>3</th>\n      <th>4</th>\n      <th>5</th>\n      <th>6</th>\n      <th>7</th>\n      <th>8</th>\n      <th>9</th>\n      <th>10</th>\n      <th>11</th>\n      <th>12</th>\n      <th>13</th>\n      <th>14</th>\n      <th>15</th>\n      <th>16</th>\n      <th>17</th>\n      <th>18</th>\n      <th>19</th>\n    </tr>\n  </thead>\n  <tbody>\n    <tr>\n      <td>se</td>\n      <td>0.555925</td>\n      <td>0.568236</td>\n      <td>0.588211</td>\n      <td>0.614907</td>\n      <td>0.647239</td>\n      <td>0.684109</td>\n      <td>0.724497</td>\n      <td>0.767504</td>\n      <td>0.812364</td>\n      <td>0.858440</td>\n      <td>0.905210</td>\n      <td>0.952250</td>\n      <td>0.999219</td>\n      <td>1.045845</td>\n      <td>1.091915</td>\n      <td>1.137260</td>\n      <td>1.181751</td>\n      <td>1.225290</td>\n      <td>1.267806</td>\n    </tr>\n    <tr>\n      <td>mae</td>\n      <td>8.746613</td>\n      <td>8.121153</td>\n      <td>7.500897</td>\n      <td>6.884777</td>\n      <td>6.273534</td>\n      <td>5.668273</td>\n      <td>5.070023</td>\n      <td>4.479733</td>\n      <td>3.915151</td>\n      <td>3.396204</td>\n      <td>2.956087</td>\n      <td>2.582904</td>\n      <td>2.313016</td>\n      <td>2.177823</td>\n      <td>2.190102</td>\n      <td>2.298884</td>\n      <td>2.490960</td>\n      <td>2.777176</td>\n      <td>3.120504</td>\n    </tr>\n  </tbody>\n</table>\n</div>",
      "text/plain": "           1         2         3         4         5         6         7   \\\nse   0.555925  0.568236  0.588211  0.614907  0.647239  0.684109  0.724497   \nmae  8.746613  8.121153  7.500897  6.884777  6.273534  5.668273  5.070023   \n\n           8         9         10        11        12        13        14  \\\nse   0.767504  0.812364  0.858440  0.905210  0.952250  0.999219  1.045845   \nmae  4.479733  3.915151  3.396204  2.956087  2.582904  2.313016  2.177823   \n\n           15        16        17        18        19  \nse   1.091915  1.137260  1.181751  1.225290  1.267806  \nmae  2.190102  2.298884  2.490960  2.777176  3.120504  "
     },
     "execution_count": 83,
     "metadata": {},
     "output_type": "execute_result"
    }
   ],
   "source": [
    "results_df"
   ]
  },
  {
   "cell_type": "code",
   "execution_count": 88,
   "metadata": {},
   "outputs": [
    {
     "name": "stdout",
     "output_type": "stream",
     "text": "3.396204295439574\n0.8584403771761913\n3.3477889779879\n0.8630938456726082\n3.300016061717185\n0.8677537049100285\n3.252337643801435\n0.872419500565937\n3.2059694055471026\n0.8770907878489602\n3.162580201518585\n0.8817671313359942\n3.1196872045780446\n0.8864481048105868\n3.077890413680149\n0.8911332911027485\n3.0370306874144015\n0.8958222819302364\n2.996254613429181\n0.9005146777414562\n2.956086959339944\n0.9052100875600602\n2.916486731246307\n0.9099081288312586\n"
    }
   ],
   "source": [
    "# fine tune by decimals\n",
    "results_dict = dict()\n",
    "for i in np.arange(10, 11.2, 0.1):\n",
    "    calc_expectation(calc_df, i, results_dict)"
   ]
  },
  {
   "cell_type": "code",
   "execution_count": 89,
   "metadata": {},
   "outputs": [
    {
     "data": {
      "text/plain": "{10.0: {'se': 0.8584403771761913, 'mae': 3.396204295439574},\n 10.1: {'se': 0.8630938456726082, 'mae': 3.3477889779879},\n 10.2: {'se': 0.8677537049100285, 'mae': 3.300016061717185},\n 10.299999999999999: {'se': 0.872419500565937, 'mae': 3.252337643801435},\n 10.399999999999999: {'se': 0.8770907878489602, 'mae': 3.2059694055471026},\n 10.499999999999998: {'se': 0.8817671313359942, 'mae': 3.162580201518585},\n 10.599999999999998: {'se': 0.8864481048105868, 'mae': 3.1196872045780446},\n 10.699999999999998: {'se': 0.8911332911027485, 'mae': 3.077890413680149},\n 10.799999999999997: {'se': 0.8958222819302364, 'mae': 3.0370306874144015},\n 10.899999999999997: {'se': 0.9005146777414562, 'mae': 2.996254613429181},\n 10.999999999999996: {'se': 0.9052100875600602, 'mae': 2.956086959339944},\n 11.099999999999996: {'se': 0.9099081288312586, 'mae': 2.916486731246307}}"
     },
     "execution_count": 89,
     "metadata": {},
     "output_type": "execute_result"
    }
   ],
   "source": [
    "results_dict"
   ]
  },
  {
   "cell_type": "code",
   "execution_count": 95,
   "metadata": {},
   "outputs": [],
   "source": [
    "# use 10.8 as calculation\n",
    "calc_df = teams_df[['Team', 'G', 'W', 'L', 'ORtg', 'DRtg']].copy()\n",
    "\n",
    "calc_df['expected_wins'] = calc_df.G * (calc_df.ORtg ** 10.8) / (calc_df.ORtg ** 10.8 + calc_df.DRtg ** 10.8)\n",
    "calc_df.expected_wins = calc_df.expected_wins.round(0)"
   ]
  },
  {
   "cell_type": "code",
   "execution_count": 96,
   "metadata": {},
   "outputs": [
    {
     "data": {
      "text/plain": "0      37.0\n1      31.0\n2      31.0\n3      31.0\n4      30.0\n       ... \n145    32.0\n146    27.0\n147    26.0\n148    22.0\n149    21.0\nName: expected_wins, Length: 150, dtype: float64"
     },
     "execution_count": 96,
     "metadata": {},
     "output_type": "execute_result"
    }
   ],
   "source": [
    "calc_df.expected_wins"
   ]
  },
  {
   "cell_type": "code",
   "execution_count": 103,
   "metadata": {},
   "outputs": [],
   "source": [
    "# Morey's exponent\n",
    "calc_df['expected_wins2'] = calc_df.G * (calc_df.ORtg ** 13.91) / (calc_df.ORtg ** 13.91 + calc_df.DRtg ** 13.91)\n",
    "calc_df.expected_wins2 = calc_df.expected_wins2.round(0)"
   ]
  },
  {
   "cell_type": "code",
   "execution_count": 105,
   "metadata": {},
   "outputs": [],
   "source": [
    "# nbastuffer exponent\n",
    "calc_df['expected_wins3'] = calc_df.G * (calc_df.ORtg ** 16.5) / (calc_df.ORtg ** 16.5 + calc_df.DRtg ** 16.5)\n",
    "calc_df.expected_wins3 = calc_df.expected_wins3.round(0)"
   ]
  },
  {
   "cell_type": "code",
   "execution_count": 106,
   "metadata": {},
   "outputs": [
    {
     "data": {
      "text/html": "<div>\n<style scoped>\n    .dataframe tbody tr th:only-of-type {\n        vertical-align: middle;\n    }\n\n    .dataframe tbody tr th {\n        vertical-align: top;\n    }\n\n    .dataframe thead th {\n        text-align: right;\n    }\n</style>\n<table border=\"1\" class=\"dataframe\">\n  <thead>\n    <tr style=\"text-align: right;\">\n      <th></th>\n      <th>Team</th>\n      <th>G</th>\n      <th>W</th>\n      <th>L</th>\n      <th>ORtg</th>\n      <th>DRtg</th>\n      <th>expected_wins</th>\n      <th>expected_wins2</th>\n      <th>expected_wins3</th>\n    </tr>\n  </thead>\n  <tbody>\n    <tr>\n      <td>13</td>\n      <td>San Antonio Spurs</td>\n      <td>47</td>\n      <td>21</td>\n      <td>26</td>\n      <td>112.44</td>\n      <td>113.30</td>\n      <td>23.0</td>\n      <td>22.0</td>\n      <td>22.0</td>\n    </tr>\n    <tr>\n      <td>41</td>\n      <td>San Antonio Spurs</td>\n      <td>82</td>\n      <td>48</td>\n      <td>34</td>\n      <td>113.30</td>\n      <td>111.55</td>\n      <td>44.0</td>\n      <td>45.0</td>\n      <td>46.0</td>\n    </tr>\n    <tr>\n      <td>67</td>\n      <td>San Antonio Spurs</td>\n      <td>82</td>\n      <td>47</td>\n      <td>35</td>\n      <td>108.49</td>\n      <td>105.36</td>\n      <td>47.0</td>\n      <td>49.0</td>\n      <td>51.0</td>\n    </tr>\n    <tr>\n      <td>91</td>\n      <td>San Antonio Spurs</td>\n      <td>82</td>\n      <td>61</td>\n      <td>21</td>\n      <td>111.81</td>\n      <td>104.25</td>\n      <td>56.0</td>\n      <td>60.0</td>\n      <td>62.0</td>\n    </tr>\n    <tr>\n      <td>120</td>\n      <td>San Antonio Spurs</td>\n      <td>82</td>\n      <td>67</td>\n      <td>15</td>\n      <td>111.04</td>\n      <td>99.55</td>\n      <td>63.0</td>\n      <td>67.0</td>\n      <td>70.0</td>\n    </tr>\n  </tbody>\n</table>\n</div>",
      "text/plain": "                  Team   G   W   L    ORtg    DRtg  expected_wins  \\\n13   San Antonio Spurs  47  21  26  112.44  113.30           23.0   \n41   San Antonio Spurs  82  48  34  113.30  111.55           44.0   \n67   San Antonio Spurs  82  47  35  108.49  105.36           47.0   \n91   San Antonio Spurs  82  61  21  111.81  104.25           56.0   \n120  San Antonio Spurs  82  67  15  111.04   99.55           63.0   \n\n     expected_wins2  expected_wins3  \n13             22.0            22.0  \n41             45.0            46.0  \n67             49.0            51.0  \n91             60.0            62.0  \n120            67.0            70.0  "
     },
     "execution_count": 106,
     "metadata": {},
     "output_type": "execute_result"
    }
   ],
   "source": [
    "calc_df[calc_df.Team == 'San Antonio Spurs']"
   ]
  },
  {
   "cell_type": "markdown",
   "execution_count": null,
   "metadata": {},
   "outputs": [],
   "source": [
    "Spurs are over performing this season."
   ]
  },
  {
   "cell_type": "markdown",
   "execution_count": null,
   "metadata": {},
   "outputs": [],
   "source": [
    "# Question 2"
   ]
  },
  {
   "cell_type": "markdown",
   "execution_count": null,
   "metadata": {},
   "outputs": [],
   "source": [
    "Data Sources:\n",
    "\n",
    "* Basketball-Reference\n",
    "* NBA.com/stats\n",
    "\n",
    "Method: \n",
    "\n",
    "I just eyeballed it and picked young, interesting prospects for the sake of analysis."
   ]
  },
  {
   "cell_type": "code",
   "execution_count": 101,
   "metadata": {},
   "outputs": [],
   "source": [
    "players_file = './data_files/players_comparison.csv'\n",
    "players_df = pd.read_csv(players_file)"
   ]
  },
  {
   "cell_type": "code",
   "execution_count": 102,
   "metadata": {},
   "outputs": [
    {
     "data": {
      "text/html": "<div>\n<style scoped>\n    .dataframe tbody tr th:only-of-type {\n        vertical-align: middle;\n    }\n\n    .dataframe tbody tr th {\n        vertical-align: top;\n    }\n\n    .dataframe thead th {\n        text-align: right;\n    }\n</style>\n<table border=\"1\" class=\"dataframe\">\n  <thead>\n    <tr style=\"text-align: right;\">\n      <th></th>\n      <th>Unnamed: 0</th>\n      <th>Luka Doncic</th>\n      <th>Bradley Beal</th>\n      <th>Zach LaVine</th>\n      <th>Trae Young</th>\n    </tr>\n  </thead>\n  <tbody>\n    <tr>\n      <td>0</td>\n      <td>usg</td>\n      <td>36.10</td>\n      <td>32.40</td>\n      <td>30.8</td>\n      <td>33.80</td>\n    </tr>\n    <tr>\n      <td>1</td>\n      <td>3p_perc_cs</td>\n      <td>30.20</td>\n      <td>35.80</td>\n      <td>41.8</td>\n      <td>47.80</td>\n    </tr>\n    <tr>\n      <td>2</td>\n      <td>ast_perc</td>\n      <td>45.90</td>\n      <td>28.40</td>\n      <td>21.0</td>\n      <td>42.00</td>\n    </tr>\n    <tr>\n      <td>3</td>\n      <td>def_per_g</td>\n      <td>1.60</td>\n      <td>1.80</td>\n      <td>2.1</td>\n      <td>1.90</td>\n    </tr>\n    <tr>\n      <td>4</td>\n      <td>fg_diff</td>\n      <td>1.30</td>\n      <td>2.40</td>\n      <td>-4.6</td>\n      <td>3.50</td>\n    </tr>\n    <tr>\n      <td>5</td>\n      <td>pr_ppp</td>\n      <td>1.06</td>\n      <td>0.97</td>\n      <td>0.9</td>\n      <td>0.96</td>\n    </tr>\n  </tbody>\n</table>\n</div>",
      "text/plain": "   Unnamed: 0  Luka Doncic  Bradley Beal  Zach LaVine  Trae Young\n0         usg        36.10         32.40         30.8       33.80\n1  3p_perc_cs        30.20         35.80         41.8       47.80\n2    ast_perc        45.90         28.40         21.0       42.00\n3   def_per_g         1.60          1.80          2.1        1.90\n4     fg_diff         1.30          2.40         -4.6        3.50\n5      pr_ppp         1.06          0.97          0.9        0.96"
     },
     "execution_count": 102,
     "metadata": {},
     "output_type": "execute_result"
    }
   ],
   "source": [
    "players_df"
   ]
  },
  {
   "cell_type": "markdown",
   "execution_count": null,
   "metadata": {},
   "outputs": [],
   "source": [
    "# Question 3"
   ]
  },
  {
   "cell_type": "code",
   "execution_count": 107,
   "metadata": {},
   "outputs": [
    {
     "data": {
      "text/plain": "-6.560000000000002"
     },
     "execution_count": 107,
     "metadata": {},
     "output_type": "execute_result"
    }
   ],
   "source": [
    "# Subtract Derozan's ortg an drtg\n",
    "112.44 - 119"
   ]
  },
  {
   "cell_type": "code",
   "execution_count": 108,
   "metadata": {},
   "outputs": [
    {
     "data": {
      "text/plain": "0.29999999999999716"
     },
     "execution_count": 108,
     "metadata": {},
     "output_type": "execute_result"
    }
   ],
   "source": [
    "113.30 - 113"
   ]
  },
  {
   "cell_type": "code",
   "execution_count": 109,
   "metadata": {},
   "outputs": [
    {
     "data": {
      "text/plain": "111.44"
     },
     "execution_count": 109,
     "metadata": {},
     "output_type": "execute_result"
    }
   ],
   "source": [
    "# Add Luka's\n",
    "118 + -6.560000000000002"
   ]
  },
  {
   "cell_type": "code",
   "execution_count": 110,
   "metadata": {},
   "outputs": [
    {
     "data": {
      "text/plain": "108.3"
     },
     "execution_count": 110,
     "metadata": {},
     "output_type": "execute_result"
    }
   ],
   "source": [
    "0.29999999999999716 + 108"
   ]
  },
  {
   "cell_type": "code",
   "execution_count": 111,
   "metadata": {},
   "outputs": [
    {
     "name": "stdout",
     "output_type": "stream",
     "text": "-1.0\n5.0\n"
    }
   ],
   "source": [
    "# diffs\n",
    "print(111.44 - 112.44)\n",
    "print(113.30 - 108.3)"
   ]
  },
  {
   "cell_type": "code",
   "execution_count": 112,
   "metadata": {},
   "outputs": [
    {
     "data": {
      "text/plain": "27.098424555127075"
     },
     "execution_count": 112,
     "metadata": {},
     "output_type": "execute_result"
    }
   ],
   "source": [
    "47 * (111.44**10.8) / (111.44**10.8 + 108.3**10.8)"
   ]
  }
 ]
}