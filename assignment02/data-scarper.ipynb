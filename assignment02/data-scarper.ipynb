{
 "nbformat": 4,
 "nbformat_minor": 2,
 "metadata": {
  "language_info": {
   "name": "python",
   "codemirror_mode": {
    "name": "ipython",
    "version": 3
   },
   "version": "3.7.3-final"
  },
  "orig_nbformat": 2,
  "file_extension": ".py",
  "mimetype": "text/x-python",
  "name": "python",
  "npconvert_exporter": "python",
  "pygments_lexer": "ipython3",
  "version": 3,
  "kernelspec": {
   "name": "python37364bitanaconda3virtualenv5470959b24dd46dd886cb0abd3cf0cd1",
   "display_name": "Python 3.7.3 64-bit ('anaconda3': virtualenv)"
  }
 },
 "cells": [
  {
   "cell_type": "markdown",
   "execution_count": null,
   "metadata": {},
   "outputs": [],
   "source": [
    "# Import Modules"
   ]
  },
  {
   "cell_type": "code",
   "execution_count": 5,
   "metadata": {},
   "outputs": [],
   "source": [
    "import pandas as pd\n",
    "import numpy as np"
   ]
  },
  {
   "cell_type": "markdown",
   "execution_count": null,
   "metadata": {},
   "outputs": [],
   "source": [
    "## NBA-API modules"
   ]
  },
  {
   "cell_type": "code",
   "execution_count": 9,
   "metadata": {},
   "outputs": [],
   "source": [
    "from nba_api.stats.static import players\n",
    "from nba_api.stats.static import teams"
   ]
  },
  {
   "cell_type": "markdown",
   "execution_count": null,
   "metadata": {},
   "outputs": [],
   "source": [
    "# Load Data"
   ]
  },
  {
   "cell_type": "code",
   "execution_count": 35,
   "metadata": {},
   "outputs": [],
   "source": [
    "team_ratings_file = './data_files/2019-20_team_ratings.csv'\n",
    "\n",
    "ratings_df = pd.read_csv(team_ratings_file)"
   ]
  },
  {
   "cell_type": "markdown",
   "execution_count": null,
   "metadata": {},
   "outputs": [],
   "source": [
    "# Combine datasets"
   ]
  },
  {
   "cell_type": "code",
   "execution_count": 12,
   "metadata": {},
   "outputs": [],
   "source": [
    "# combine 5 years of ort, nrtg, and misc\n",
    "seasons = ['2019-20', '2018-19', '2017-18', '2016-17', '2015-16']\n",
    "ratings_df = pd.DataFrame()"
   ]
  },
  {
   "cell_type": "code",
   "execution_count": null,
   "metadata": {},
   "outputs": [],
   "source": [
    "# assign season to dataframe"
   ]
  },
  {
   "cell_type": "code",
   "execution_count": null,
   "metadata": {},
   "outputs": [],
   "source": [
    "# merge two dataframes"
   ]
  },
  {
   "cell_type": "code",
   "execution_count": 38,
   "metadata": {},
   "outputs": [],
   "source": [
    "def create_filepath(year_input):\n",
    "    file_path = './data_files/{}_team_ratings.csv'.format(year_input)\n",
    "    return file_path"
   ]
  },
  {
   "cell_type": "code",
   "execution_count": 44,
   "metadata": {},
   "outputs": [
    {
     "name": "stdout",
     "output_type": "stream",
     "text": "./data_files/2019-20_team_ratings.csv\n"
    }
   ],
   "source": [
    "path_string = './data_files/' + seasons[0] + '_team_ratings.csv'\n",
    "print(path_string)"
   ]
  },
  {
   "cell_type": "code",
   "execution_count": 18,
   "metadata": {},
   "outputs": [],
   "source": [
    "def combine_dfs(file_path, df):\n",
    "    try:\n",
    "        str(input_season)\n",
    "    except:\n",
    "        print('Broken season input')\n",
    "    file_path = './data_files/{}_team_ratings.csv'.format(input_season)\n",
    "    print(file_path)\n",
    "\n",
    "    temp_df = pd.read_csv(file_path)\n",
    "\n",
    "    # assign season to dataframe\n",
    "    temp_df['season'] = input_season\n",
    "    df = pd.concat([df, temp_df])\n",
    "\n",
    "    return df"
   ]
  },
  {
   "cell_type": "code",
   "execution_count": 39,
   "metadata": {},
   "outputs": [
    {
     "name": "stdout",
     "output_type": "stream",
     "text": "./data_files/2019-20_team_ratings.csv\n./data_files/2018-19_team_ratings.csv\n"
    }
   ],
   "source": [
    "for season in seasons[:2]:  \n",
    "    print(create_filepath(season))"
   ]
  },
  {
   "cell_type": "code",
   "execution_count": 40,
   "metadata": {},
   "outputs": [],
   "source": [
    "path_string = \"./data_files/{}_team_ratings.csv\""
   ]
  },
  {
   "cell_type": "code",
   "execution_count": 41,
   "metadata": {},
   "outputs": [
    {
     "name": "stdout",
     "output_type": "stream",
     "text": "./data_files/{}_team_ratings.csv\n"
    }
   ],
   "source": [
    "print(path_string)"
   ]
  },
  {
   "cell_type": "code",
   "execution_count": 42,
   "metadata": {},
   "outputs": [
    {
     "name": "stdout",
     "output_type": "stream",
     "text": "./data_files/2019-20_team_ratings.csv\n"
    }
   ],
   "source": [
    "print(path_string.format(seasons[0]))"
   ]
  },
  {
   "cell_type": "code",
   "execution_count": 36,
   "metadata": {},
   "outputs": [
    {
     "data": {
      "text/html": "<div>\n<style scoped>\n    .dataframe tbody tr th:only-of-type {\n        vertical-align: middle;\n    }\n\n    .dataframe tbody tr th {\n        vertical-align: top;\n    }\n\n    .dataframe thead th {\n        text-align: right;\n    }\n</style>\n<table border=\"1\" class=\"dataframe\">\n  <thead>\n    <tr style=\"text-align: right;\">\n      <th></th>\n      <th>Rk</th>\n      <th>Team</th>\n      <th>Conf</th>\n      <th>Div</th>\n      <th>W</th>\n      <th>L</th>\n      <th>W/L%</th>\n      <th>MOV</th>\n      <th>ORtg</th>\n      <th>DRtg</th>\n      <th>NRtg</th>\n      <th>MOV/A</th>\n      <th>ORtg/A</th>\n      <th>DRtg/A</th>\n      <th>NRtg/A</th>\n    </tr>\n  </thead>\n  <tbody>\n    <tr>\n      <th>0</th>\n      <td>1</td>\n      <td>Milwaukee Bucks</td>\n      <td>E</td>\n      <td>C</td>\n      <td>41</td>\n      <td>7</td>\n      <td>0.854</td>\n      <td>12.27</td>\n      <td>114.62</td>\n      <td>102.88</td>\n      <td>11.74</td>\n      <td>10.95</td>\n      <td>114.21</td>\n      <td>103.78</td>\n      <td>10.44</td>\n    </tr>\n    <tr>\n      <th>1</th>\n      <td>2</td>\n      <td>Los Angeles Lakers</td>\n      <td>W</td>\n      <td>P</td>\n      <td>36</td>\n      <td>11</td>\n      <td>0.766</td>\n      <td>6.94</td>\n      <td>113.38</td>\n      <td>106.60</td>\n      <td>6.77</td>\n      <td>7.22</td>\n      <td>113.14</td>\n      <td>106.07</td>\n      <td>7.07</td>\n    </tr>\n    <tr>\n      <th>2</th>\n      <td>3</td>\n      <td>Dallas Mavericks</td>\n      <td>W</td>\n      <td>SW</td>\n      <td>29</td>\n      <td>19</td>\n      <td>0.604</td>\n      <td>5.85</td>\n      <td>117.87</td>\n      <td>111.93</td>\n      <td>5.94</td>\n      <td>6.18</td>\n      <td>118.09</td>\n      <td>111.86</td>\n      <td>6.23</td>\n    </tr>\n    <tr>\n      <th>3</th>\n      <td>4</td>\n      <td>Boston Celtics</td>\n      <td>E</td>\n      <td>A</td>\n      <td>32</td>\n      <td>15</td>\n      <td>0.681</td>\n      <td>6.87</td>\n      <td>113.53</td>\n      <td>106.56</td>\n      <td>6.97</td>\n      <td>5.96</td>\n      <td>113.14</td>\n      <td>107.11</td>\n      <td>6.03</td>\n    </tr>\n    <tr>\n      <th>4</th>\n      <td>5</td>\n      <td>Los Angeles Clippers</td>\n      <td>W</td>\n      <td>P</td>\n      <td>33</td>\n      <td>15</td>\n      <td>0.688</td>\n      <td>5.79</td>\n      <td>113.07</td>\n      <td>107.44</td>\n      <td>5.62</td>\n      <td>6.06</td>\n      <td>112.80</td>\n      <td>106.90</td>\n      <td>5.90</td>\n    </tr>\n  </tbody>\n</table>\n</div>",
      "text/plain": "   Rk                  Team Conf Div   W   L   W/L%    MOV    ORtg    DRtg  \\\n0   1       Milwaukee Bucks    E   C  41   7  0.854  12.27  114.62  102.88   \n1   2    Los Angeles Lakers    W   P  36  11  0.766   6.94  113.38  106.60   \n2   3      Dallas Mavericks    W  SW  29  19  0.604   5.85  117.87  111.93   \n3   4        Boston Celtics    E   A  32  15  0.681   6.87  113.53  106.56   \n4   5  Los Angeles Clippers    W   P  33  15  0.688   5.79  113.07  107.44   \n\n    NRtg  MOV/A  ORtg/A  DRtg/A  NRtg/A  \n0  11.74  10.95  114.21  103.78   10.44  \n1   6.77   7.22  113.14  106.07    7.07  \n2   5.94   6.18  118.09  111.86    6.23  \n3   6.97   5.96  113.14  107.11    6.03  \n4   5.62   6.06  112.80  106.90    5.90  "
     },
     "execution_count": 36,
     "metadata": {},
     "output_type": "execute_result"
    }
   ],
   "source": [
    "ratings_df.head()"
   ]
  },
  {
   "cell_type": "code",
   "execution_count": 17,
   "metadata": {},
   "outputs": [
    {
     "data": {
      "text/html": "<div>\n<style scoped>\n    .dataframe tbody tr th:only-of-type {\n        vertical-align: middle;\n    }\n\n    .dataframe tbody tr th {\n        vertical-align: top;\n    }\n\n    .dataframe thead th {\n        text-align: right;\n    }\n</style>\n<table border=\"1\" class=\"dataframe\">\n  <thead>\n    <tr style=\"text-align: right;\">\n      <th></th>\n    </tr>\n  </thead>\n  <tbody>\n  </tbody>\n</table>\n</div>",
      "text/plain": "Empty DataFrame\nColumns: []\nIndex: []"
     },
     "execution_count": 17,
     "metadata": {},
     "output_type": "execute_result"
    }
   ],
   "source": [
    "ratings_df.tail()"
   ]
  },
  {
   "cell_type": "markdown",
   "execution_count": null,
   "metadata": {},
   "outputs": [],
   "source": [
    "# Transformations, Calculations"
   ]
  },
  {
   "cell_type": "code",
   "execution_count": 8,
   "metadata": {},
   "outputs": [],
   "source": [
    "# Calculate expected wins\n",
    "# Boolean for under, over, or just right"
   ]
  },
  {
   "cell_type": "code",
   "execution_count": 10,
   "metadata": {},
   "outputs": [],
   "source": [
    "players = players.get_active_players()"
   ]
  }
 ]
}