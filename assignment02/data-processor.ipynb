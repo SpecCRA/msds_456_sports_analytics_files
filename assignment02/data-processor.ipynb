{
 "nbformat": 4,
 "nbformat_minor": 2,
 "metadata": {
  "language_info": {
   "name": "python",
   "codemirror_mode": {
    "name": "ipython",
    "version": 3
   },
   "version": "3.7.4-final"
  },
  "orig_nbformat": 2,
  "file_extension": ".py",
  "mimetype": "text/x-python",
  "name": "python",
  "npconvert_exporter": "python",
  "pygments_lexer": "ipython3",
  "version": 3,
  "kernelspec": {
   "name": "python3",
   "display_name": "Python 3"
  }
 },
 "cells": [
  {
   "cell_type": "markdown",
   "execution_count": null,
   "metadata": {},
   "outputs": [],
   "source": [
    "# Import Modules"
   ]
  },
  {
   "cell_type": "code",
   "execution_count": 4,
   "metadata": {},
   "outputs": [],
   "source": [
    "import pandas as pd\n",
    "import numpy as np"
   ]
  },
  {
   "cell_type": "markdown",
   "execution_count": null,
   "metadata": {},
   "outputs": [],
   "source": [
    "# NBA_API Modules"
   ]
  },
  {
   "cell_type": "code",
   "execution_count": 5,
   "metadata": {},
   "outputs": [],
   "source": [
    "from nba_api.stats.static import players\n",
    "from nba_api.stats.static import teams"
   ]
  },
  {
   "cell_type": "markdown",
   "execution_count": null,
   "metadata": {},
   "outputs": [],
   "source": [
    "# Load Data"
   ]
  },
  {
   "cell_type": "code",
   "execution_count": 6,
   "metadata": {},
   "outputs": [],
   "source": [
    "team_ratings_file = './data_files/2019-20_team_ratings.csv'\n",
    "\n",
    "ratings_df = pd.read_csv(team_ratings_file)"
   ]
  },
  {
   "cell_type": "markdown",
   "execution_count": null,
   "metadata": {},
   "outputs": [],
   "source": [
    "# Combine datasets"
   ]
  },
  {
   "cell_type": "code",
   "execution_count": 7,
   "metadata": {},
   "outputs": [],
   "source": [
    "def create_filepath(year_input):\n",
    "    file_path = './data_files/{}_team_ratings.csv'.format(year_input)\n",
    "    return file_path"
   ]
  },
  {
   "cell_type": "code",
   "execution_count": 8,
   "metadata": {},
   "outputs": [],
   "source": [
    "def assign_season(input_season):\n",
    "    season_file = create_filepath(input_season)\n",
    "    #print(season_file)\n",
    "\n",
    "    df = pd.read_csv(season_file) # read in csv file\n",
    "\n",
    "    df['season'] = input_season # assign season to dataframe\n",
    "\n",
    "    return df"
   ]
  },
  {
   "cell_type": "code",
   "execution_count": 9,
   "metadata": {},
   "outputs": [],
   "source": [
    "# combine 5 years of ort, nrtg, and misc\n",
    "seasons = ['2019-20', '2018-19', '2017-18', '2016-17', '2015-16']"
   ]
  },
  {
   "cell_type": "code",
   "execution_count": 10,
   "metadata": {},
   "outputs": [],
   "source": [
    "ratings_df = pd.DataFrame()"
   ]
  },
  {
   "cell_type": "code",
   "execution_count": 11,
   "metadata": {},
   "outputs": [],
   "source": [
    "for season in seasons:\n",
    "    df = assign_season(season)\n",
    "    # if i == 0:\n",
    "    #     ratings_df = ratings_df.append(df)\n",
    "    # else:\n",
    "    #     pass\n",
    "    ratings_df = ratings_df.append(df, sort=False)"
   ]
  },
  {
   "cell_type": "code",
   "execution_count": 12,
   "metadata": {},
   "outputs": [
    {
     "data": {
      "text/html": "<div>\n<style scoped>\n    .dataframe tbody tr th:only-of-type {\n        vertical-align: middle;\n    }\n\n    .dataframe tbody tr th {\n        vertical-align: top;\n    }\n\n    .dataframe thead th {\n        text-align: right;\n    }\n</style>\n<table border=\"1\" class=\"dataframe\">\n  <thead>\n    <tr style=\"text-align: right;\">\n      <th></th>\n      <th>Rk</th>\n      <th>Team</th>\n      <th>Conf</th>\n      <th>Div</th>\n      <th>W</th>\n      <th>L</th>\n      <th>W/L%</th>\n      <th>MOV</th>\n      <th>ORtg</th>\n      <th>DRtg</th>\n      <th>NRtg</th>\n      <th>MOV/A</th>\n      <th>ORtg/A</th>\n      <th>DRtg/A</th>\n      <th>NRtg/A</th>\n      <th>season</th>\n    </tr>\n  </thead>\n  <tbody>\n    <tr>\n      <td>0</td>\n      <td>1</td>\n      <td>Milwaukee Bucks</td>\n      <td>E</td>\n      <td>C</td>\n      <td>41</td>\n      <td>7</td>\n      <td>0.854</td>\n      <td>12.27</td>\n      <td>114.62</td>\n      <td>102.88</td>\n      <td>11.74</td>\n      <td>10.95</td>\n      <td>114.21</td>\n      <td>103.78</td>\n      <td>10.44</td>\n      <td>2019-20</td>\n    </tr>\n    <tr>\n      <td>1</td>\n      <td>2</td>\n      <td>Los Angeles Lakers</td>\n      <td>W</td>\n      <td>P</td>\n      <td>36</td>\n      <td>11</td>\n      <td>0.766</td>\n      <td>6.94</td>\n      <td>113.38</td>\n      <td>106.60</td>\n      <td>6.77</td>\n      <td>7.22</td>\n      <td>113.14</td>\n      <td>106.07</td>\n      <td>7.07</td>\n      <td>2019-20</td>\n    </tr>\n    <tr>\n      <td>2</td>\n      <td>3</td>\n      <td>Dallas Mavericks</td>\n      <td>W</td>\n      <td>SW</td>\n      <td>29</td>\n      <td>19</td>\n      <td>0.604</td>\n      <td>5.85</td>\n      <td>117.87</td>\n      <td>111.93</td>\n      <td>5.94</td>\n      <td>6.18</td>\n      <td>118.09</td>\n      <td>111.86</td>\n      <td>6.23</td>\n      <td>2019-20</td>\n    </tr>\n    <tr>\n      <td>3</td>\n      <td>4</td>\n      <td>Boston Celtics</td>\n      <td>E</td>\n      <td>A</td>\n      <td>32</td>\n      <td>15</td>\n      <td>0.681</td>\n      <td>6.87</td>\n      <td>113.53</td>\n      <td>106.56</td>\n      <td>6.97</td>\n      <td>5.96</td>\n      <td>113.14</td>\n      <td>107.11</td>\n      <td>6.03</td>\n      <td>2019-20</td>\n    </tr>\n    <tr>\n      <td>4</td>\n      <td>5</td>\n      <td>Los Angeles Clippers</td>\n      <td>W</td>\n      <td>P</td>\n      <td>33</td>\n      <td>15</td>\n      <td>0.688</td>\n      <td>5.79</td>\n      <td>113.07</td>\n      <td>107.44</td>\n      <td>5.62</td>\n      <td>6.06</td>\n      <td>112.80</td>\n      <td>106.90</td>\n      <td>5.9</td>\n      <td>2019-20</td>\n    </tr>\n  </tbody>\n</table>\n</div>",
      "text/plain": "   Rk                  Team Conf Div   W   L   W/L%    MOV    ORtg    DRtg  \\\n0   1       Milwaukee Bucks    E   C  41   7  0.854  12.27  114.62  102.88   \n1   2    Los Angeles Lakers    W   P  36  11  0.766   6.94  113.38  106.60   \n2   3      Dallas Mavericks    W  SW  29  19  0.604   5.85  117.87  111.93   \n3   4        Boston Celtics    E   A  32  15  0.681   6.87  113.53  106.56   \n4   5  Los Angeles Clippers    W   P  33  15  0.688   5.79  113.07  107.44   \n\n    NRtg  MOV/A  ORtg/A  DRtg/A NRtg/A   season  \n0  11.74  10.95  114.21  103.78  10.44  2019-20  \n1   6.77   7.22  113.14  106.07   7.07  2019-20  \n2   5.94   6.18  118.09  111.86   6.23  2019-20  \n3   6.97   5.96  113.14  107.11   6.03  2019-20  \n4   5.62   6.06  112.80  106.90    5.9  2019-20  "
     },
     "execution_count": 12,
     "metadata": {},
     "output_type": "execute_result"
    }
   ],
   "source": [
    "ratings_df.head()"
   ]
  },
  {
   "cell_type": "code",
   "execution_count": 13,
   "metadata": {},
   "outputs": [
    {
     "data": {
      "text/html": "<div>\n<style scoped>\n    .dataframe tbody tr th:only-of-type {\n        vertical-align: middle;\n    }\n\n    .dataframe tbody tr th {\n        vertical-align: top;\n    }\n\n    .dataframe thead th {\n        text-align: right;\n    }\n</style>\n<table border=\"1\" class=\"dataframe\">\n  <thead>\n    <tr style=\"text-align: right;\">\n      <th></th>\n      <th>Rk</th>\n      <th>Team</th>\n      <th>Conf</th>\n      <th>Div</th>\n      <th>W</th>\n      <th>L</th>\n      <th>W/L%</th>\n      <th>MOV</th>\n      <th>ORtg</th>\n      <th>DRtg</th>\n      <th>NRtg</th>\n      <th>MOV/A</th>\n      <th>ORtg/A</th>\n      <th>DRtg/A</th>\n      <th>NRtg/A</th>\n      <th>season</th>\n    </tr>\n  </thead>\n  <tbody>\n    <tr>\n      <td>25</td>\n      <td>26</td>\n      <td>Milwaukee Bucks</td>\n      <td>E</td>\n      <td>C</td>\n      <td>33</td>\n      <td>49</td>\n      <td>0.402</td>\n      <td>-4.18</td>\n      <td>105.06</td>\n      <td>109.65</td>\n      <td>-4.59</td>\n      <td>-3.98</td>\n      <td>105.32</td>\n      <td>109.69</td>\n      <td>-4.37</td>\n      <td>2015-16</td>\n    </tr>\n    <tr>\n      <td>26</td>\n      <td>27</td>\n      <td>Phoenix Suns</td>\n      <td>W</td>\n      <td>P</td>\n      <td>23</td>\n      <td>59</td>\n      <td>0.280</td>\n      <td>-6.66</td>\n      <td>102.94</td>\n      <td>109.80</td>\n      <td>-6.86</td>\n      <td>-6.32</td>\n      <td>102.95</td>\n      <td>109.45</td>\n      <td>-6.50</td>\n      <td>2015-16</td>\n    </tr>\n    <tr>\n      <td>27</td>\n      <td>28</td>\n      <td>Brooklyn Nets</td>\n      <td>E</td>\n      <td>A</td>\n      <td>21</td>\n      <td>61</td>\n      <td>0.256</td>\n      <td>-7.35</td>\n      <td>103.74</td>\n      <td>111.60</td>\n      <td>-7.86</td>\n      <td>-7.11</td>\n      <td>104.06</td>\n      <td>111.66</td>\n      <td>-7.61</td>\n      <td>2015-16</td>\n    </tr>\n    <tr>\n      <td>28</td>\n      <td>29</td>\n      <td>Los Angeles Lakers</td>\n      <td>W</td>\n      <td>P</td>\n      <td>17</td>\n      <td>65</td>\n      <td>0.207</td>\n      <td>-9.56</td>\n      <td>102.29</td>\n      <td>112.40</td>\n      <td>-10.12</td>\n      <td>-8.92</td>\n      <td>102.49</td>\n      <td>111.92</td>\n      <td>-9.43</td>\n      <td>2015-16</td>\n    </tr>\n    <tr>\n      <td>29</td>\n      <td>30</td>\n      <td>Philadelphia 76ers</td>\n      <td>E</td>\n      <td>A</td>\n      <td>10</td>\n      <td>72</td>\n      <td>0.122</td>\n      <td>-10.23</td>\n      <td>99.65</td>\n      <td>110.15</td>\n      <td>-10.50</td>\n      <td>-9.92</td>\n      <td>99.83</td>\n      <td>110.01</td>\n      <td>-10.18S</td>\n      <td>2015-16</td>\n    </tr>\n  </tbody>\n</table>\n</div>",
      "text/plain": "    Rk                Team Conf Div   W   L   W/L%    MOV    ORtg    DRtg  \\\n25  26     Milwaukee Bucks    E   C  33  49  0.402  -4.18  105.06  109.65   \n26  27        Phoenix Suns    W   P  23  59  0.280  -6.66  102.94  109.80   \n27  28       Brooklyn Nets    E   A  21  61  0.256  -7.35  103.74  111.60   \n28  29  Los Angeles Lakers    W   P  17  65  0.207  -9.56  102.29  112.40   \n29  30  Philadelphia 76ers    E   A  10  72  0.122 -10.23   99.65  110.15   \n\n     NRtg  MOV/A  ORtg/A  DRtg/A   NRtg/A   season  \n25  -4.59  -3.98  105.32  109.69    -4.37  2015-16  \n26  -6.86  -6.32  102.95  109.45    -6.50  2015-16  \n27  -7.86  -7.11  104.06  111.66    -7.61  2015-16  \n28 -10.12  -8.92  102.49  111.92    -9.43  2015-16  \n29 -10.50  -9.92   99.83  110.01  -10.18S  2015-16  "
     },
     "execution_count": 13,
     "metadata": {},
     "output_type": "execute_result"
    }
   ],
   "source": [
    "ratings_df.tail()"
   ]
  },
  {
   "cell_type": "code",
   "execution_count": 14,
   "metadata": {},
   "outputs": [],
   "source": [
    "ratings_df.reset_index().drop('index', axis=1, inplace=True)"
   ]
  },
  {
   "cell_type": "code",
   "execution_count": 15,
   "metadata": {},
   "outputs": [],
   "source": [
    "# export ratings df\n",
    "combined_filename = '2015-20_team_ratings.csv'\n",
    "combined_path = './data_files/{}'.format(combined_filename)\n",
    "\n",
    "ratings_df.to_csv(combined_path)"
   ]
  },
  {
   "cell_type": "markdown",
   "execution_count": null,
   "metadata": {},
   "outputs": [],
   "source": [
    "# Transformations, Calculations"
   ]
  },
  {
   "cell_type": "code",
   "execution_count": 16,
   "metadata": {},
   "outputs": [],
   "source": [
    "# Calculate expected wins\n",
    "# Boolean for under, over, or just right"
   ]
  },
  {
   "cell_type": "code",
   "execution_count": 17,
   "metadata": {},
   "outputs": [],
   "source": [
    "players = players.get_active_players()"
   ]
  },
  {
   "cell_type": "markdown",
   "execution_count": null,
   "metadata": {},
   "outputs": [],
   "source": [
    "# Players Data"
   ]
  },
  {
   "cell_type": "code",
   "execution_count": 19,
   "metadata": {},
   "outputs": [],
   "source": [
    "players_dict = {'Luka Doncic': {'usg': 36.1, '3p_perc_cs': 30.2, 'ast_perc': 45.9, 'def_per_g': 1.6, 'fg_diff': 1.3, 'pr_ppp': 1.06},\n",
    "                'Bradley Beal': {'usg': 32.4, '3p_perc_cs': 35.8, 'ast_perc': 28.4,'def_per_g': 1.8, 'fg_diff': 2.4, 'pr_ppp': 0.97},\n",
    "                'Zach LaVine': {'usg': 30.8, '3p_perc_cs': 41.8, 'ast_perc': 21.0,'def_per_g': 2.1, 'fg_diff': -4.6, 'pr_ppp': 0.90},\n",
    "                'Trae Young': {'usg': 33.8, '3p_perc_cs': 47.8, 'ast_perc': 42.0,'def_per_g': 1.9, 'fg_diff': 3.5, 'pr_ppp': 0.96}\n",
    "                }"
   ]
  },
  {
   "cell_type": "code",
   "execution_count": 20,
   "metadata": {},
   "outputs": [],
   "source": [
    "players_df = pd.DataFrame.from_dict(players_dict)"
   ]
  },
  {
   "cell_type": "code",
   "execution_count": 21,
   "metadata": {},
   "outputs": [],
   "source": [
    "players_filename = 'players_comparison.csv'\n",
    "path = './data_files/{}'\n",
    "players_file = path.format(players_filename)\n",
    "players_df.to_csv(players_file)"
   ]
  }
 ]
}