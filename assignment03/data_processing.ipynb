{
 "nbformat": 4,
 "nbformat_minor": 2,
 "metadata": {
  "language_info": {
   "name": "python",
   "codemirror_mode": {
    "name": "ipython",
    "version": 3
   },
   "version": "3.7.4-final"
  },
  "orig_nbformat": 2,
  "file_extension": ".py",
  "mimetype": "text/x-python",
  "name": "python",
  "npconvert_exporter": "python",
  "pygments_lexer": "ipython3",
  "version": 3,
  "kernelspec": {
   "name": "python37464bitbaseconda1e0c91686aae43d9a876dfdafaecff22",
   "display_name": "Python 3.7.4 64-bit ('base': conda)"
  }
 },
 "cells": [
  {
   "cell_type": "markdown",
   "metadata": {},
   "source": [
    "# Setup"
   ]
  },
  {
   "cell_type": "code",
   "execution_count": 2,
   "metadata": {},
   "outputs": [],
   "source": [
    "import pandas as pd\n",
    "import numpy as np"
   ]
  },
  {
   "cell_type": "markdown",
   "metadata": {},
   "source": [
    "# Question 1"
   ]
  },
  {
   "cell_type": "code",
   "execution_count": 3,
   "metadata": {},
   "outputs": [],
   "source": [
    "# Import historic four factors\n",
    "historic_ff_df = pd.read_csv('./data_files/2013-19_team_ff.csv')\n",
    "\n",
    "# Import current four factors\n",
    "curr_ff_df = pd.read_csv('./data_files/2019-20_team_ff.csv')"
   ]
  },
  {
   "cell_type": "code",
   "execution_count": 5,
   "metadata": {},
   "outputs": [
    {
     "data": {
      "text/html": "<div>\n<style scoped>\n    .dataframe tbody tr th:only-of-type {\n        vertical-align: middle;\n    }\n\n    .dataframe tbody tr th {\n        vertical-align: top;\n    }\n\n    .dataframe thead th {\n        text-align: right;\n    }\n</style>\n<table border=\"1\" class=\"dataframe\">\n  <thead>\n    <tr style=\"text-align: right;\">\n      <th></th>\n      <th>Unnamed: 0</th>\n      <th>TEAM_ID</th>\n      <th>TEAM_NAME</th>\n      <th>GP</th>\n      <th>W</th>\n      <th>L</th>\n      <th>W_PCT</th>\n      <th>MIN</th>\n      <th>EFG_PCT</th>\n      <th>FTA_RATE</th>\n      <th>...</th>\n      <th>FTA_RATE_RANK</th>\n      <th>TM_TOV_PCT_RANK</th>\n      <th>OREB_PCT_RANK</th>\n      <th>OPP_EFG_PCT_RANK</th>\n      <th>OPP_FTA_RATE_RANK</th>\n      <th>OPP_TOV_PCT_RANK</th>\n      <th>OPP_OREB_PCT_RANK</th>\n      <th>CFID</th>\n      <th>CFPARAMS</th>\n      <th>season</th>\n    </tr>\n  </thead>\n  <tbody>\n    <tr>\n      <td>0</td>\n      <td>0</td>\n      <td>1610612737</td>\n      <td>Atlanta Hawks</td>\n      <td>82</td>\n      <td>38</td>\n      <td>44</td>\n      <td>0.463</td>\n      <td>3966.0</td>\n      <td>0.515</td>\n      <td>0.266</td>\n      <td>...</td>\n      <td>21</td>\n      <td>21</td>\n      <td>28</td>\n      <td>19</td>\n      <td>9</td>\n      <td>9</td>\n      <td>13</td>\n      <td>10</td>\n      <td>Atlanta Hawks</td>\n      <td>2013-14</td>\n    </tr>\n    <tr>\n      <td>1</td>\n      <td>1</td>\n      <td>1610612738</td>\n      <td>Boston Celtics</td>\n      <td>82</td>\n      <td>25</td>\n      <td>57</td>\n      <td>0.305</td>\n      <td>3946.0</td>\n      <td>0.477</td>\n      <td>0.248</td>\n      <td>...</td>\n      <td>25</td>\n      <td>28</td>\n      <td>7</td>\n      <td>16</td>\n      <td>19</td>\n      <td>18</td>\n      <td>16</td>\n      <td>10</td>\n      <td>Boston Celtics</td>\n      <td>2013-14</td>\n    </tr>\n    <tr>\n      <td>2</td>\n      <td>2</td>\n      <td>1610612751</td>\n      <td>Brooklyn Nets</td>\n      <td>82</td>\n      <td>44</td>\n      <td>38</td>\n      <td>0.537</td>\n      <td>3976.0</td>\n      <td>0.514</td>\n      <td>0.313</td>\n      <td>...</td>\n      <td>5</td>\n      <td>16</td>\n      <td>27</td>\n      <td>18</td>\n      <td>25</td>\n      <td>2</td>\n      <td>26</td>\n      <td>10</td>\n      <td>Brooklyn Nets</td>\n      <td>2013-14</td>\n    </tr>\n    <tr>\n      <td>3</td>\n      <td>3</td>\n      <td>1610612766</td>\n      <td>Charlotte Bobcats</td>\n      <td>82</td>\n      <td>43</td>\n      <td>39</td>\n      <td>0.524</td>\n      <td>3981.0</td>\n      <td>0.481</td>\n      <td>0.297</td>\n      <td>...</td>\n      <td>10</td>\n      <td>1</td>\n      <td>24</td>\n      <td>9</td>\n      <td>2</td>\n      <td>28</td>\n      <td>1</td>\n      <td>10</td>\n      <td>Charlotte Bobcats</td>\n      <td>2013-14</td>\n    </tr>\n    <tr>\n      <td>4</td>\n      <td>4</td>\n      <td>1610612741</td>\n      <td>Chicago Bulls</td>\n      <td>82</td>\n      <td>48</td>\n      <td>34</td>\n      <td>0.585</td>\n      <td>3986.0</td>\n      <td>0.471</td>\n      <td>0.290</td>\n      <td>...</td>\n      <td>14</td>\n      <td>27</td>\n      <td>3</td>\n      <td>2</td>\n      <td>4</td>\n      <td>13</td>\n      <td>12</td>\n      <td>10</td>\n      <td>Chicago Bulls</td>\n      <td>2013-14</td>\n    </tr>\n  </tbody>\n</table>\n<p>5 rows × 32 columns</p>\n</div>",
      "text/plain": "   Unnamed: 0     TEAM_ID          TEAM_NAME  GP   W   L  W_PCT     MIN  \\\n0           0  1610612737      Atlanta Hawks  82  38  44  0.463  3966.0   \n1           1  1610612738     Boston Celtics  82  25  57  0.305  3946.0   \n2           2  1610612751      Brooklyn Nets  82  44  38  0.537  3976.0   \n3           3  1610612766  Charlotte Bobcats  82  43  39  0.524  3981.0   \n4           4  1610612741      Chicago Bulls  82  48  34  0.585  3986.0   \n\n   EFG_PCT  FTA_RATE  ...  FTA_RATE_RANK  TM_TOV_PCT_RANK  OREB_PCT_RANK  \\\n0    0.515     0.266  ...             21               21             28   \n1    0.477     0.248  ...             25               28              7   \n2    0.514     0.313  ...              5               16             27   \n3    0.481     0.297  ...             10                1             24   \n4    0.471     0.290  ...             14               27              3   \n\n   OPP_EFG_PCT_RANK  OPP_FTA_RATE_RANK  OPP_TOV_PCT_RANK  OPP_OREB_PCT_RANK  \\\n0                19                  9                 9                 13   \n1                16                 19                18                 16   \n2                18                 25                 2                 26   \n3                 9                  2                28                  1   \n4                 2                  4                13                 12   \n\n   CFID           CFPARAMS   season  \n0    10      Atlanta Hawks  2013-14  \n1    10     Boston Celtics  2013-14  \n2    10      Brooklyn Nets  2013-14  \n3    10  Charlotte Bobcats  2013-14  \n4    10      Chicago Bulls  2013-14  \n\n[5 rows x 32 columns]"
     },
     "execution_count": 5,
     "metadata": {},
     "output_type": "execute_result"
    }
   ],
   "source": [
    "historic_ff_df.head()"
   ]
  },
  {
   "cell_type": "code",
   "execution_count": 6,
   "metadata": {},
   "outputs": [
    {
     "data": {
      "text/html": "<div>\n<style scoped>\n    .dataframe tbody tr th:only-of-type {\n        vertical-align: middle;\n    }\n\n    .dataframe tbody tr th {\n        vertical-align: top;\n    }\n\n    .dataframe thead th {\n        text-align: right;\n    }\n</style>\n<table border=\"1\" class=\"dataframe\">\n  <thead>\n    <tr style=\"text-align: right;\">\n      <th></th>\n      <th>Unnamed: 0</th>\n      <th>TEAM_ID</th>\n      <th>TEAM_NAME</th>\n      <th>GP</th>\n      <th>W</th>\n      <th>L</th>\n      <th>W_PCT</th>\n      <th>MIN</th>\n      <th>EFG_PCT</th>\n      <th>FTA_RATE</th>\n      <th>...</th>\n      <th>FTA_RATE_RANK</th>\n      <th>TM_TOV_PCT_RANK</th>\n      <th>OREB_PCT_RANK</th>\n      <th>OPP_EFG_PCT_RANK</th>\n      <th>OPP_FTA_RATE_RANK</th>\n      <th>OPP_TOV_PCT_RANK</th>\n      <th>OPP_OREB_PCT_RANK</th>\n      <th>CFID</th>\n      <th>CFPARAMS</th>\n      <th>season</th>\n    </tr>\n  </thead>\n  <tbody>\n    <tr>\n      <td>0</td>\n      <td>0</td>\n      <td>1610612737</td>\n      <td>Atlanta Hawks</td>\n      <td>56</td>\n      <td>15</td>\n      <td>41</td>\n      <td>0.268</td>\n      <td>2713.0</td>\n      <td>0.512</td>\n      <td>0.257</td>\n      <td>...</td>\n      <td>15</td>\n      <td>29</td>\n      <td>14</td>\n      <td>24</td>\n      <td>29</td>\n      <td>13</td>\n      <td>28</td>\n      <td>10</td>\n      <td>Atlanta Hawks</td>\n      <td>2019-20</td>\n    </tr>\n    <tr>\n      <td>1</td>\n      <td>1</td>\n      <td>1610612738</td>\n      <td>Boston Celtics</td>\n      <td>54</td>\n      <td>38</td>\n      <td>16</td>\n      <td>0.704</td>\n      <td>2607.0</td>\n      <td>0.532</td>\n      <td>0.256</td>\n      <td>...</td>\n      <td>17</td>\n      <td>9</td>\n      <td>10</td>\n      <td>5</td>\n      <td>24</td>\n      <td>5</td>\n      <td>12</td>\n      <td>10</td>\n      <td>Boston Celtics</td>\n      <td>2019-20</td>\n    </tr>\n    <tr>\n      <td>2</td>\n      <td>2</td>\n      <td>1610612751</td>\n      <td>Brooklyn Nets</td>\n      <td>53</td>\n      <td>25</td>\n      <td>28</td>\n      <td>0.472</td>\n      <td>2574.0</td>\n      <td>0.516</td>\n      <td>0.264</td>\n      <td>...</td>\n      <td>11</td>\n      <td>25</td>\n      <td>9</td>\n      <td>4</td>\n      <td>8</td>\n      <td>26</td>\n      <td>11</td>\n      <td>10</td>\n      <td>Brooklyn Nets</td>\n      <td>2019-20</td>\n    </tr>\n    <tr>\n      <td>3</td>\n      <td>3</td>\n      <td>1610612766</td>\n      <td>Charlotte Hornets</td>\n      <td>54</td>\n      <td>18</td>\n      <td>36</td>\n      <td>0.333</td>\n      <td>2612.0</td>\n      <td>0.503</td>\n      <td>0.249</td>\n      <td>...</td>\n      <td>22</td>\n      <td>24</td>\n      <td>8</td>\n      <td>27</td>\n      <td>1</td>\n      <td>11</td>\n      <td>30</td>\n      <td>10</td>\n      <td>Charlotte Hornets</td>\n      <td>2019-20</td>\n    </tr>\n    <tr>\n      <td>4</td>\n      <td>4</td>\n      <td>1610612741</td>\n      <td>Chicago Bulls</td>\n      <td>55</td>\n      <td>19</td>\n      <td>36</td>\n      <td>0.345</td>\n      <td>2655.0</td>\n      <td>0.511</td>\n      <td>0.236</td>\n      <td>...</td>\n      <td>25</td>\n      <td>26</td>\n      <td>21</td>\n      <td>26</td>\n      <td>30</td>\n      <td>1</td>\n      <td>21</td>\n      <td>10</td>\n      <td>Chicago Bulls</td>\n      <td>2019-20</td>\n    </tr>\n  </tbody>\n</table>\n<p>5 rows × 32 columns</p>\n</div>",
      "text/plain": "   Unnamed: 0     TEAM_ID          TEAM_NAME  GP   W   L  W_PCT     MIN  \\\n0           0  1610612737      Atlanta Hawks  56  15  41  0.268  2713.0   \n1           1  1610612738     Boston Celtics  54  38  16  0.704  2607.0   \n2           2  1610612751      Brooklyn Nets  53  25  28  0.472  2574.0   \n3           3  1610612766  Charlotte Hornets  54  18  36  0.333  2612.0   \n4           4  1610612741      Chicago Bulls  55  19  36  0.345  2655.0   \n\n   EFG_PCT  FTA_RATE  ...  FTA_RATE_RANK  TM_TOV_PCT_RANK  OREB_PCT_RANK  \\\n0    0.512     0.257  ...             15               29             14   \n1    0.532     0.256  ...             17                9             10   \n2    0.516     0.264  ...             11               25              9   \n3    0.503     0.249  ...             22               24              8   \n4    0.511     0.236  ...             25               26             21   \n\n   OPP_EFG_PCT_RANK  OPP_FTA_RATE_RANK  OPP_TOV_PCT_RANK  OPP_OREB_PCT_RANK  \\\n0                24                 29                13                 28   \n1                 5                 24                 5                 12   \n2                 4                  8                26                 11   \n3                27                  1                11                 30   \n4                26                 30                 1                 21   \n\n   CFID           CFPARAMS   season  \n0    10      Atlanta Hawks  2019-20  \n1    10     Boston Celtics  2019-20  \n2    10      Brooklyn Nets  2019-20  \n3    10  Charlotte Hornets  2019-20  \n4    10      Chicago Bulls  2019-20  \n\n[5 rows x 32 columns]"
     },
     "execution_count": 6,
     "metadata": {},
     "output_type": "execute_result"
    }
   ],
   "source": [
    "curr_ff_df.head()"
   ]
  },
  {
   "cell_type": "code",
   "execution_count": 13,
   "metadata": {},
   "outputs": [
    {
     "data": {
      "text/plain": "Index(['EFG_PCT', 'FTA_RATE', 'TM_TOV_PCT', 'OREB_PCT', 'OPP_EFG_PCT',\n       'OPP_FTA_RATE', 'OPP_TOV_PCT', 'OPP_OREB_PCT'],\n      dtype='object')"
     },
     "execution_count": 13,
     "metadata": {},
     "output_type": "execute_result"
    }
   ],
   "source": [
    "historic_ff_df.columns[8:16]"
   ]
  },
  {
   "cell_type": "code",
   "execution_count": 18,
   "metadata": {},
   "outputs": [
    {
     "data": {
      "text/html": "<div>\n<style scoped>\n    .dataframe tbody tr th:only-of-type {\n        vertical-align: middle;\n    }\n\n    .dataframe tbody tr th {\n        vertical-align: top;\n    }\n\n    .dataframe thead th {\n        text-align: right;\n    }\n</style>\n<table border=\"1\" class=\"dataframe\">\n  <thead>\n    <tr style=\"text-align: right;\">\n      <th></th>\n      <th>EFG_PCT</th>\n      <th>FTA_RATE</th>\n      <th>TM_TOV_PCT</th>\n      <th>OREB_PCT</th>\n      <th>OPP_EFG_PCT</th>\n      <th>OPP_FTA_RATE</th>\n      <th>OPP_TOV_PCT</th>\n      <th>OPP_OREB_PCT</th>\n    </tr>\n  </thead>\n  <tbody>\n    <tr>\n      <td>EFG_PCT</td>\n      <td>1.000000</td>\n      <td>-0.087553</td>\n      <td>-0.214892</td>\n      <td>-0.388352</td>\n      <td>0.036658</td>\n      <td>-0.264198</td>\n      <td>-0.059789</td>\n      <td>-0.183348</td>\n    </tr>\n    <tr>\n      <td>FTA_RATE</td>\n      <td>-0.087553</td>\n      <td>1.000000</td>\n      <td>0.274866</td>\n      <td>0.338402</td>\n      <td>-0.163751</td>\n      <td>0.205985</td>\n      <td>0.099712</td>\n      <td>0.274730</td>\n    </tr>\n    <tr>\n      <td>TM_TOV_PCT</td>\n      <td>-0.214892</td>\n      <td>0.274866</td>\n      <td>1.000000</td>\n      <td>0.346038</td>\n      <td>-0.196418</td>\n      <td>0.377221</td>\n      <td>0.291927</td>\n      <td>0.443597</td>\n    </tr>\n    <tr>\n      <td>OREB_PCT</td>\n      <td>-0.388352</td>\n      <td>0.338402</td>\n      <td>0.346038</td>\n      <td>1.000000</td>\n      <td>-0.198367</td>\n      <td>0.204070</td>\n      <td>0.016948</td>\n      <td>0.155639</td>\n    </tr>\n    <tr>\n      <td>OPP_EFG_PCT</td>\n      <td>0.036658</td>\n      <td>-0.163751</td>\n      <td>-0.196418</td>\n      <td>-0.198367</td>\n      <td>1.000000</td>\n      <td>-0.098373</td>\n      <td>-0.096006</td>\n      <td>-0.113172</td>\n    </tr>\n    <tr>\n      <td>OPP_FTA_RATE</td>\n      <td>-0.264198</td>\n      <td>0.205985</td>\n      <td>0.377221</td>\n      <td>0.204070</td>\n      <td>-0.098373</td>\n      <td>1.000000</td>\n      <td>0.352552</td>\n      <td>0.447068</td>\n    </tr>\n    <tr>\n      <td>OPP_TOV_PCT</td>\n      <td>-0.059789</td>\n      <td>0.099712</td>\n      <td>0.291927</td>\n      <td>0.016948</td>\n      <td>-0.096006</td>\n      <td>0.352552</td>\n      <td>1.000000</td>\n      <td>0.535968</td>\n    </tr>\n    <tr>\n      <td>OPP_OREB_PCT</td>\n      <td>-0.183348</td>\n      <td>0.274730</td>\n      <td>0.443597</td>\n      <td>0.155639</td>\n      <td>-0.113172</td>\n      <td>0.447068</td>\n      <td>0.535968</td>\n      <td>1.000000</td>\n    </tr>\n  </tbody>\n</table>\n</div>",
      "text/plain": "               EFG_PCT  FTA_RATE  TM_TOV_PCT  OREB_PCT  OPP_EFG_PCT  \\\nEFG_PCT       1.000000 -0.087553   -0.214892 -0.388352     0.036658   \nFTA_RATE     -0.087553  1.000000    0.274866  0.338402    -0.163751   \nTM_TOV_PCT   -0.214892  0.274866    1.000000  0.346038    -0.196418   \nOREB_PCT     -0.388352  0.338402    0.346038  1.000000    -0.198367   \nOPP_EFG_PCT   0.036658 -0.163751   -0.196418 -0.198367     1.000000   \nOPP_FTA_RATE -0.264198  0.205985    0.377221  0.204070    -0.098373   \nOPP_TOV_PCT  -0.059789  0.099712    0.291927  0.016948    -0.096006   \nOPP_OREB_PCT -0.183348  0.274730    0.443597  0.155639    -0.113172   \n\n              OPP_FTA_RATE  OPP_TOV_PCT  OPP_OREB_PCT  \nEFG_PCT          -0.264198    -0.059789     -0.183348  \nFTA_RATE          0.205985     0.099712      0.274730  \nTM_TOV_PCT        0.377221     0.291927      0.443597  \nOREB_PCT          0.204070     0.016948      0.155639  \nOPP_EFG_PCT      -0.098373    -0.096006     -0.113172  \nOPP_FTA_RATE      1.000000     0.352552      0.447068  \nOPP_TOV_PCT       0.352552     1.000000      0.535968  \nOPP_OREB_PCT      0.447068     0.535968      1.000000  "
     },
     "execution_count": 18,
     "metadata": {},
     "output_type": "execute_result"
    }
   ],
   "source": [
    "historic_ff_df[historic_ff_df.columns[8:16]].corr()"
   ]
  },
  {
   "cell_type": "code",
   "execution_count": 17,
   "metadata": {},
   "outputs": [],
   "source": [
    "# Export correlation table for report\n",
    "historic_ff_df[historic_ff_df.columns[8:16]].corr().to_excel('ff_corr.xlsx')"
   ]
  },
  {
   "cell_type": "code",
   "execution_count": 47,
   "metadata": {},
   "outputs": [
    {
     "data": {
      "text/html": "<div>\n<style scoped>\n    .dataframe tbody tr th:only-of-type {\n        vertical-align: middle;\n    }\n\n    .dataframe tbody tr th {\n        vertical-align: top;\n    }\n\n    .dataframe thead th {\n        text-align: right;\n    }\n</style>\n<table border=\"1\" class=\"dataframe\">\n  <thead>\n    <tr style=\"text-align: right;\">\n      <th></th>\n      <th>TEAM_NAME</th>\n      <th>GP</th>\n      <th>W</th>\n      <th>L</th>\n      <th>W_PCT</th>\n      <th>MIN</th>\n      <th>EFG_PCT</th>\n      <th>FTA_RATE</th>\n      <th>TM_TOV_PCT</th>\n      <th>OREB_PCT</th>\n      <th>OPP_EFG_PCT</th>\n      <th>OPP_FTA_RATE</th>\n      <th>OPP_TOV_PCT</th>\n      <th>OPP_OREB_PCT</th>\n    </tr>\n  </thead>\n  <tbody>\n    <tr>\n      <td>0</td>\n      <td>Atlanta Hawks</td>\n      <td>56</td>\n      <td>15</td>\n      <td>41</td>\n      <td>0.268</td>\n      <td>2713.0</td>\n      <td>0.512</td>\n      <td>0.257</td>\n      <td>0.159</td>\n      <td>0.265</td>\n      <td>0.541</td>\n      <td>0.302</td>\n      <td>0.147</td>\n      <td>0.294</td>\n    </tr>\n    <tr>\n      <td>1</td>\n      <td>Boston Celtics</td>\n      <td>54</td>\n      <td>38</td>\n      <td>16</td>\n      <td>0.704</td>\n      <td>2607.0</td>\n      <td>0.532</td>\n      <td>0.256</td>\n      <td>0.137</td>\n      <td>0.280</td>\n      <td>0.508</td>\n      <td>0.279</td>\n      <td>0.153</td>\n      <td>0.267</td>\n    </tr>\n    <tr>\n      <td>2</td>\n      <td>Brooklyn Nets</td>\n      <td>53</td>\n      <td>25</td>\n      <td>28</td>\n      <td>0.472</td>\n      <td>2574.0</td>\n      <td>0.516</td>\n      <td>0.264</td>\n      <td>0.152</td>\n      <td>0.281</td>\n      <td>0.505</td>\n      <td>0.237</td>\n      <td>0.126</td>\n      <td>0.266</td>\n    </tr>\n    <tr>\n      <td>3</td>\n      <td>Charlotte Hornets</td>\n      <td>54</td>\n      <td>18</td>\n      <td>36</td>\n      <td>0.333</td>\n      <td>2612.0</td>\n      <td>0.503</td>\n      <td>0.249</td>\n      <td>0.152</td>\n      <td>0.281</td>\n      <td>0.548</td>\n      <td>0.208</td>\n      <td>0.149</td>\n      <td>0.295</td>\n    </tr>\n    <tr>\n      <td>4</td>\n      <td>Chicago Bulls</td>\n      <td>55</td>\n      <td>19</td>\n      <td>36</td>\n      <td>0.345</td>\n      <td>2655.0</td>\n      <td>0.511</td>\n      <td>0.236</td>\n      <td>0.152</td>\n      <td>0.261</td>\n      <td>0.543</td>\n      <td>0.302</td>\n      <td>0.178</td>\n      <td>0.275</td>\n    </tr>\n    <tr>\n      <td>5</td>\n      <td>Cleveland Cavaliers</td>\n      <td>54</td>\n      <td>14</td>\n      <td>40</td>\n      <td>0.259</td>\n      <td>2607.0</td>\n      <td>0.517</td>\n      <td>0.220</td>\n      <td>0.165</td>\n      <td>0.297</td>\n      <td>0.560</td>\n      <td>0.215</td>\n      <td>0.128</td>\n      <td>0.261</td>\n    </tr>\n    <tr>\n      <td>6</td>\n      <td>Dallas Mavericks</td>\n      <td>55</td>\n      <td>33</td>\n      <td>22</td>\n      <td>0.600</td>\n      <td>2655.0</td>\n      <td>0.546</td>\n      <td>0.261</td>\n      <td>0.125</td>\n      <td>0.281</td>\n      <td>0.519</td>\n      <td>0.231</td>\n      <td>0.120</td>\n      <td>0.265</td>\n    </tr>\n    <tr>\n      <td>7</td>\n      <td>Denver Nuggets</td>\n      <td>55</td>\n      <td>38</td>\n      <td>17</td>\n      <td>0.691</td>\n      <td>2670.0</td>\n      <td>0.526</td>\n      <td>0.233</td>\n      <td>0.135</td>\n      <td>0.299</td>\n      <td>0.522</td>\n      <td>0.254</td>\n      <td>0.145</td>\n      <td>0.271</td>\n    </tr>\n    <tr>\n      <td>8</td>\n      <td>Detroit Pistons</td>\n      <td>57</td>\n      <td>19</td>\n      <td>38</td>\n      <td>0.333</td>\n      <td>2761.0</td>\n      <td>0.530</td>\n      <td>0.264</td>\n      <td>0.156</td>\n      <td>0.277</td>\n      <td>0.536</td>\n      <td>0.232</td>\n      <td>0.143</td>\n      <td>0.284</td>\n    </tr>\n    <tr>\n      <td>9</td>\n      <td>Golden State Warriors</td>\n      <td>55</td>\n      <td>12</td>\n      <td>43</td>\n      <td>0.218</td>\n      <td>2665.0</td>\n      <td>0.492</td>\n      <td>0.265</td>\n      <td>0.144</td>\n      <td>0.255</td>\n      <td>0.550</td>\n      <td>0.240</td>\n      <td>0.156</td>\n      <td>0.281</td>\n    </tr>\n    <tr>\n      <td>10</td>\n      <td>Houston Rockets</td>\n      <td>54</td>\n      <td>34</td>\n      <td>20</td>\n      <td>0.630</td>\n      <td>2602.0</td>\n      <td>0.535</td>\n      <td>0.291</td>\n      <td>0.139</td>\n      <td>0.264</td>\n      <td>0.529</td>\n      <td>0.249</td>\n      <td>0.150</td>\n      <td>0.278</td>\n    </tr>\n    <tr>\n      <td>11</td>\n      <td>Indiana Pacers</td>\n      <td>55</td>\n      <td>32</td>\n      <td>23</td>\n      <td>0.582</td>\n      <td>2660.0</td>\n      <td>0.535</td>\n      <td>0.215</td>\n      <td>0.129</td>\n      <td>0.245</td>\n      <td>0.513</td>\n      <td>0.249</td>\n      <td>0.145</td>\n      <td>0.281</td>\n    </tr>\n    <tr>\n      <td>12</td>\n      <td>LA Clippers</td>\n      <td>55</td>\n      <td>37</td>\n      <td>18</td>\n      <td>0.673</td>\n      <td>2655.0</td>\n      <td>0.529</td>\n      <td>0.289</td>\n      <td>0.145</td>\n      <td>0.284</td>\n      <td>0.504</td>\n      <td>0.275</td>\n      <td>0.139</td>\n      <td>0.267</td>\n    </tr>\n    <tr>\n      <td>13</td>\n      <td>Los Angeles Lakers</td>\n      <td>53</td>\n      <td>41</td>\n      <td>12</td>\n      <td>0.774</td>\n      <td>2554.0</td>\n      <td>0.552</td>\n      <td>0.268</td>\n      <td>0.150</td>\n      <td>0.289</td>\n      <td>0.512</td>\n      <td>0.256</td>\n      <td>0.153</td>\n      <td>0.265</td>\n    </tr>\n    <tr>\n      <td>14</td>\n      <td>Memphis Grizzlies</td>\n      <td>54</td>\n      <td>28</td>\n      <td>26</td>\n      <td>0.519</td>\n      <td>2597.0</td>\n      <td>0.533</td>\n      <td>0.228</td>\n      <td>0.146</td>\n      <td>0.262</td>\n      <td>0.523</td>\n      <td>0.277</td>\n      <td>0.142</td>\n      <td>0.273</td>\n    </tr>\n    <tr>\n      <td>15</td>\n      <td>Miami Heat</td>\n      <td>54</td>\n      <td>35</td>\n      <td>19</td>\n      <td>0.648</td>\n      <td>2632.0</td>\n      <td>0.545</td>\n      <td>0.297</td>\n      <td>0.149</td>\n      <td>0.264</td>\n      <td>0.518</td>\n      <td>0.265</td>\n      <td>0.135</td>\n      <td>0.241</td>\n    </tr>\n    <tr>\n      <td>16</td>\n      <td>Milwaukee Bucks</td>\n      <td>54</td>\n      <td>46</td>\n      <td>8</td>\n      <td>0.852</td>\n      <td>2597.0</td>\n      <td>0.556</td>\n      <td>0.268</td>\n      <td>0.139</td>\n      <td>0.244</td>\n      <td>0.485</td>\n      <td>0.218</td>\n      <td>0.134</td>\n      <td>0.228</td>\n    </tr>\n    <tr>\n      <td>17</td>\n      <td>Minnesota Timberwolves</td>\n      <td>53</td>\n      <td>16</td>\n      <td>37</td>\n      <td>0.302</td>\n      <td>2584.0</td>\n      <td>0.509</td>\n      <td>0.277</td>\n      <td>0.148</td>\n      <td>0.270</td>\n      <td>0.533</td>\n      <td>0.276</td>\n      <td>0.148</td>\n      <td>0.269</td>\n    </tr>\n    <tr>\n      <td>18</td>\n      <td>New Orleans Pelicans</td>\n      <td>55</td>\n      <td>23</td>\n      <td>32</td>\n      <td>0.418</td>\n      <td>2665.0</td>\n      <td>0.537</td>\n      <td>0.250</td>\n      <td>0.153</td>\n      <td>0.283</td>\n      <td>0.531</td>\n      <td>0.272</td>\n      <td>0.137</td>\n      <td>0.270</td>\n    </tr>\n    <tr>\n      <td>19</td>\n      <td>New York Knicks</td>\n      <td>55</td>\n      <td>17</td>\n      <td>38</td>\n      <td>0.309</td>\n      <td>2660.0</td>\n      <td>0.495</td>\n      <td>0.255</td>\n      <td>0.143</td>\n      <td>0.297</td>\n      <td>0.542</td>\n      <td>0.297</td>\n      <td>0.141</td>\n      <td>0.256</td>\n    </tr>\n    <tr>\n      <td>20</td>\n      <td>Oklahoma City Thunder</td>\n      <td>55</td>\n      <td>33</td>\n      <td>22</td>\n      <td>0.600</td>\n      <td>2660.0</td>\n      <td>0.533</td>\n      <td>0.288</td>\n      <td>0.136</td>\n      <td>0.242</td>\n      <td>0.520</td>\n      <td>0.208</td>\n      <td>0.140</td>\n      <td>0.270</td>\n    </tr>\n    <tr>\n      <td>21</td>\n      <td>Orlando Magic</td>\n      <td>55</td>\n      <td>24</td>\n      <td>31</td>\n      <td>0.436</td>\n      <td>2645.0</td>\n      <td>0.494</td>\n      <td>0.249</td>\n      <td>0.129</td>\n      <td>0.265</td>\n      <td>0.527</td>\n      <td>0.217</td>\n      <td>0.152</td>\n      <td>0.255</td>\n    </tr>\n    <tr>\n      <td>22</td>\n      <td>Philadelphia 76ers</td>\n      <td>55</td>\n      <td>34</td>\n      <td>21</td>\n      <td>0.618</td>\n      <td>2650.0</td>\n      <td>0.528</td>\n      <td>0.253</td>\n      <td>0.146</td>\n      <td>0.277</td>\n      <td>0.515</td>\n      <td>0.285</td>\n      <td>0.142</td>\n      <td>0.242</td>\n    </tr>\n    <tr>\n      <td>23</td>\n      <td>Phoenix Suns</td>\n      <td>55</td>\n      <td>22</td>\n      <td>33</td>\n      <td>0.400</td>\n      <td>2655.0</td>\n      <td>0.525</td>\n      <td>0.273</td>\n      <td>0.144</td>\n      <td>0.257</td>\n      <td>0.539</td>\n      <td>0.282</td>\n      <td>0.156</td>\n      <td>0.272</td>\n    </tr>\n    <tr>\n      <td>24</td>\n      <td>Portland Trail Blazers</td>\n      <td>56</td>\n      <td>25</td>\n      <td>31</td>\n      <td>0.446</td>\n      <td>2698.0</td>\n      <td>0.525</td>\n      <td>0.238</td>\n      <td>0.126</td>\n      <td>0.263</td>\n      <td>0.520</td>\n      <td>0.267</td>\n      <td>0.124</td>\n      <td>0.292</td>\n    </tr>\n    <tr>\n      <td>25</td>\n      <td>Sacramento Kings</td>\n      <td>54</td>\n      <td>21</td>\n      <td>33</td>\n      <td>0.389</td>\n      <td>2622.0</td>\n      <td>0.527</td>\n      <td>0.222</td>\n      <td>0.148</td>\n      <td>0.260</td>\n      <td>0.541</td>\n      <td>0.274</td>\n      <td>0.152</td>\n      <td>0.270</td>\n    </tr>\n    <tr>\n      <td>26</td>\n      <td>San Antonio Spurs</td>\n      <td>54</td>\n      <td>23</td>\n      <td>31</td>\n      <td>0.426</td>\n      <td>2622.0</td>\n      <td>0.530</td>\n      <td>0.256</td>\n      <td>0.123</td>\n      <td>0.235</td>\n      <td>0.539</td>\n      <td>0.245</td>\n      <td>0.124</td>\n      <td>0.249</td>\n    </tr>\n    <tr>\n      <td>27</td>\n      <td>Toronto Raptors</td>\n      <td>55</td>\n      <td>40</td>\n      <td>15</td>\n      <td>0.727</td>\n      <td>2660.0</td>\n      <td>0.537</td>\n      <td>0.249</td>\n      <td>0.142</td>\n      <td>0.260</td>\n      <td>0.503</td>\n      <td>0.257</td>\n      <td>0.168</td>\n      <td>0.290</td>\n    </tr>\n    <tr>\n      <td>28</td>\n      <td>Utah Jazz</td>\n      <td>54</td>\n      <td>36</td>\n      <td>18</td>\n      <td>0.667</td>\n      <td>2597.0</td>\n      <td>0.552</td>\n      <td>0.267</td>\n      <td>0.151</td>\n      <td>0.259</td>\n      <td>0.510</td>\n      <td>0.237</td>\n      <td>0.122</td>\n      <td>0.249</td>\n    </tr>\n    <tr>\n      <td>29</td>\n      <td>Washington Wizards</td>\n      <td>53</td>\n      <td>20</td>\n      <td>33</td>\n      <td>0.377</td>\n      <td>2554.0</td>\n      <td>0.529</td>\n      <td>0.262</td>\n      <td>0.134</td>\n      <td>0.263</td>\n      <td>0.554</td>\n      <td>0.292</td>\n      <td>0.150</td>\n      <td>0.295</td>\n    </tr>\n  </tbody>\n</table>\n</div>",
      "text/plain": "                 TEAM_NAME  GP   W   L  W_PCT     MIN  EFG_PCT  FTA_RATE  \\\n0            Atlanta Hawks  56  15  41  0.268  2713.0    0.512     0.257   \n1           Boston Celtics  54  38  16  0.704  2607.0    0.532     0.256   \n2            Brooklyn Nets  53  25  28  0.472  2574.0    0.516     0.264   \n3        Charlotte Hornets  54  18  36  0.333  2612.0    0.503     0.249   \n4            Chicago Bulls  55  19  36  0.345  2655.0    0.511     0.236   \n5      Cleveland Cavaliers  54  14  40  0.259  2607.0    0.517     0.220   \n6         Dallas Mavericks  55  33  22  0.600  2655.0    0.546     0.261   \n7           Denver Nuggets  55  38  17  0.691  2670.0    0.526     0.233   \n8          Detroit Pistons  57  19  38  0.333  2761.0    0.530     0.264   \n9    Golden State Warriors  55  12  43  0.218  2665.0    0.492     0.265   \n10         Houston Rockets  54  34  20  0.630  2602.0    0.535     0.291   \n11          Indiana Pacers  55  32  23  0.582  2660.0    0.535     0.215   \n12             LA Clippers  55  37  18  0.673  2655.0    0.529     0.289   \n13      Los Angeles Lakers  53  41  12  0.774  2554.0    0.552     0.268   \n14       Memphis Grizzlies  54  28  26  0.519  2597.0    0.533     0.228   \n15              Miami Heat  54  35  19  0.648  2632.0    0.545     0.297   \n16         Milwaukee Bucks  54  46   8  0.852  2597.0    0.556     0.268   \n17  Minnesota Timberwolves  53  16  37  0.302  2584.0    0.509     0.277   \n18    New Orleans Pelicans  55  23  32  0.418  2665.0    0.537     0.250   \n19         New York Knicks  55  17  38  0.309  2660.0    0.495     0.255   \n20   Oklahoma City Thunder  55  33  22  0.600  2660.0    0.533     0.288   \n21           Orlando Magic  55  24  31  0.436  2645.0    0.494     0.249   \n22      Philadelphia 76ers  55  34  21  0.618  2650.0    0.528     0.253   \n23            Phoenix Suns  55  22  33  0.400  2655.0    0.525     0.273   \n24  Portland Trail Blazers  56  25  31  0.446  2698.0    0.525     0.238   \n25        Sacramento Kings  54  21  33  0.389  2622.0    0.527     0.222   \n26       San Antonio Spurs  54  23  31  0.426  2622.0    0.530     0.256   \n27         Toronto Raptors  55  40  15  0.727  2660.0    0.537     0.249   \n28               Utah Jazz  54  36  18  0.667  2597.0    0.552     0.267   \n29      Washington Wizards  53  20  33  0.377  2554.0    0.529     0.262   \n\n    TM_TOV_PCT  OREB_PCT  OPP_EFG_PCT  OPP_FTA_RATE  OPP_TOV_PCT  OPP_OREB_PCT  \n0        0.159     0.265        0.541         0.302        0.147         0.294  \n1        0.137     0.280        0.508         0.279        0.153         0.267  \n2        0.152     0.281        0.505         0.237        0.126         0.266  \n3        0.152     0.281        0.548         0.208        0.149         0.295  \n4        0.152     0.261        0.543         0.302        0.178         0.275  \n5        0.165     0.297        0.560         0.215        0.128         0.261  \n6        0.125     0.281        0.519         0.231        0.120         0.265  \n7        0.135     0.299        0.522         0.254        0.145         0.271  \n8        0.156     0.277        0.536         0.232        0.143         0.284  \n9        0.144     0.255        0.550         0.240        0.156         0.281  \n10       0.139     0.264        0.529         0.249        0.150         0.278  \n11       0.129     0.245        0.513         0.249        0.145         0.281  \n12       0.145     0.284        0.504         0.275        0.139         0.267  \n13       0.150     0.289        0.512         0.256        0.153         0.265  \n14       0.146     0.262        0.523         0.277        0.142         0.273  \n15       0.149     0.264        0.518         0.265        0.135         0.241  \n16       0.139     0.244        0.485         0.218        0.134         0.228  \n17       0.148     0.270        0.533         0.276        0.148         0.269  \n18       0.153     0.283        0.531         0.272        0.137         0.270  \n19       0.143     0.297        0.542         0.297        0.141         0.256  \n20       0.136     0.242        0.520         0.208        0.140         0.270  \n21       0.129     0.265        0.527         0.217        0.152         0.255  \n22       0.146     0.277        0.515         0.285        0.142         0.242  \n23       0.144     0.257        0.539         0.282        0.156         0.272  \n24       0.126     0.263        0.520         0.267        0.124         0.292  \n25       0.148     0.260        0.541         0.274        0.152         0.270  \n26       0.123     0.235        0.539         0.245        0.124         0.249  \n27       0.142     0.260        0.503         0.257        0.168         0.290  \n28       0.151     0.259        0.510         0.237        0.122         0.249  \n29       0.134     0.263        0.554         0.292        0.150         0.295  "
     },
     "execution_count": 47,
     "metadata": {},
     "output_type": "execute_result"
    }
   ],
   "source": [
    "curr_ff_df[curr_ff_df.columns[2:16]]"
   ]
  },
  {
   "cell_type": "code",
   "execution_count": 26,
   "metadata": {},
   "outputs": [
    {
     "data": {
      "text/html": "<div>\n<style scoped>\n    .dataframe tbody tr th:only-of-type {\n        vertical-align: middle;\n    }\n\n    .dataframe tbody tr th {\n        vertical-align: top;\n    }\n\n    .dataframe thead th {\n        text-align: right;\n    }\n</style>\n<table border=\"1\" class=\"dataframe\">\n  <thead>\n    <tr style=\"text-align: right;\">\n      <th></th>\n      <th>EFG_PCT_RANK</th>\n      <th>FTA_RATE_RANK</th>\n      <th>TM_TOV_PCT_RANK</th>\n      <th>OREB_PCT_RANK</th>\n      <th>OPP_EFG_PCT_RANK</th>\n      <th>OPP_FTA_RATE_RANK</th>\n      <th>OPP_TOV_PCT_RANK</th>\n      <th>OPP_OREB_PCT_RANK</th>\n    </tr>\n  </thead>\n  <tbody>\n    <tr>\n      <td>0</td>\n      <td>24</td>\n      <td>15</td>\n      <td>29</td>\n      <td>14</td>\n      <td>24</td>\n      <td>29</td>\n      <td>13</td>\n      <td>28</td>\n    </tr>\n    <tr>\n      <td>1</td>\n      <td>12</td>\n      <td>17</td>\n      <td>9</td>\n      <td>10</td>\n      <td>5</td>\n      <td>24</td>\n      <td>5</td>\n      <td>12</td>\n    </tr>\n    <tr>\n      <td>2</td>\n      <td>23</td>\n      <td>11</td>\n      <td>25</td>\n      <td>9</td>\n      <td>4</td>\n      <td>8</td>\n      <td>26</td>\n      <td>11</td>\n    </tr>\n    <tr>\n      <td>3</td>\n      <td>27</td>\n      <td>22</td>\n      <td>24</td>\n      <td>8</td>\n      <td>27</td>\n      <td>1</td>\n      <td>11</td>\n      <td>30</td>\n    </tr>\n    <tr>\n      <td>4</td>\n      <td>25</td>\n      <td>25</td>\n      <td>26</td>\n      <td>21</td>\n      <td>26</td>\n      <td>30</td>\n      <td>1</td>\n      <td>21</td>\n    </tr>\n    <tr>\n      <td>5</td>\n      <td>22</td>\n      <td>29</td>\n      <td>30</td>\n      <td>3</td>\n      <td>30</td>\n      <td>3</td>\n      <td>25</td>\n      <td>8</td>\n    </tr>\n    <tr>\n      <td>6</td>\n      <td>4</td>\n      <td>14</td>\n      <td>2</td>\n      <td>7</td>\n      <td>11</td>\n      <td>6</td>\n      <td>30</td>\n      <td>10</td>\n    </tr>\n    <tr>\n      <td>7</td>\n      <td>19</td>\n      <td>26</td>\n      <td>7</td>\n      <td>1</td>\n      <td>14</td>\n      <td>14</td>\n      <td>14</td>\n      <td>18</td>\n    </tr>\n    <tr>\n      <td>8</td>\n      <td>14</td>\n      <td>12</td>\n      <td>28</td>\n      <td>11</td>\n      <td>20</td>\n      <td>7</td>\n      <td>16</td>\n      <td>25</td>\n    </tr>\n    <tr>\n      <td>9</td>\n      <td>30</td>\n      <td>10</td>\n      <td>14</td>\n      <td>26</td>\n      <td>28</td>\n      <td>10</td>\n      <td>3</td>\n      <td>23</td>\n    </tr>\n    <tr>\n      <td>10</td>\n      <td>9</td>\n      <td>2</td>\n      <td>10</td>\n      <td>17</td>\n      <td>17</td>\n      <td>12</td>\n      <td>10</td>\n      <td>22</td>\n    </tr>\n    <tr>\n      <td>11</td>\n      <td>8</td>\n      <td>30</td>\n      <td>5</td>\n      <td>27</td>\n      <td>8</td>\n      <td>13</td>\n      <td>15</td>\n      <td>24</td>\n    </tr>\n    <tr>\n      <td>12</td>\n      <td>15</td>\n      <td>3</td>\n      <td>16</td>\n      <td>5</td>\n      <td>3</td>\n      <td>21</td>\n      <td>21</td>\n      <td>13</td>\n    </tr>\n    <tr>\n      <td>13</td>\n      <td>3</td>\n      <td>8</td>\n      <td>22</td>\n      <td>4</td>\n      <td>7</td>\n      <td>15</td>\n      <td>6</td>\n      <td>9</td>\n    </tr>\n    <tr>\n      <td>14</td>\n      <td>10</td>\n      <td>27</td>\n      <td>17</td>\n      <td>20</td>\n      <td>15</td>\n      <td>23</td>\n      <td>18</td>\n      <td>20</td>\n    </tr>\n    <tr>\n      <td>15</td>\n      <td>5</td>\n      <td>1</td>\n      <td>21</td>\n      <td>16</td>\n      <td>10</td>\n      <td>17</td>\n      <td>23</td>\n      <td>2</td>\n    </tr>\n    <tr>\n      <td>16</td>\n      <td>1</td>\n      <td>7</td>\n      <td>11</td>\n      <td>28</td>\n      <td>1</td>\n      <td>5</td>\n      <td>24</td>\n      <td>1</td>\n    </tr>\n    <tr>\n      <td>17</td>\n      <td>26</td>\n      <td>5</td>\n      <td>19</td>\n      <td>13</td>\n      <td>19</td>\n      <td>22</td>\n      <td>12</td>\n      <td>14</td>\n    </tr>\n    <tr>\n      <td>18</td>\n      <td>6</td>\n      <td>20</td>\n      <td>27</td>\n      <td>6</td>\n      <td>18</td>\n      <td>19</td>\n      <td>22</td>\n      <td>16</td>\n    </tr>\n    <tr>\n      <td>19</td>\n      <td>28</td>\n      <td>18</td>\n      <td>13</td>\n      <td>2</td>\n      <td>25</td>\n      <td>28</td>\n      <td>19</td>\n      <td>7</td>\n    </tr>\n    <tr>\n      <td>20</td>\n      <td>11</td>\n      <td>4</td>\n      <td>8</td>\n      <td>29</td>\n      <td>12</td>\n      <td>2</td>\n      <td>20</td>\n      <td>17</td>\n    </tr>\n    <tr>\n      <td>21</td>\n      <td>29</td>\n      <td>23</td>\n      <td>4</td>\n      <td>15</td>\n      <td>16</td>\n      <td>4</td>\n      <td>7</td>\n      <td>6</td>\n    </tr>\n    <tr>\n      <td>22</td>\n      <td>17</td>\n      <td>19</td>\n      <td>18</td>\n      <td>12</td>\n      <td>9</td>\n      <td>26</td>\n      <td>17</td>\n      <td>3</td>\n    </tr>\n    <tr>\n      <td>23</td>\n      <td>20</td>\n      <td>6</td>\n      <td>15</td>\n      <td>25</td>\n      <td>22</td>\n      <td>25</td>\n      <td>4</td>\n      <td>19</td>\n    </tr>\n    <tr>\n      <td>24</td>\n      <td>21</td>\n      <td>24</td>\n      <td>3</td>\n      <td>19</td>\n      <td>13</td>\n      <td>18</td>\n      <td>28</td>\n      <td>27</td>\n    </tr>\n    <tr>\n      <td>25</td>\n      <td>18</td>\n      <td>28</td>\n      <td>20</td>\n      <td>22</td>\n      <td>23</td>\n      <td>20</td>\n      <td>8</td>\n      <td>15</td>\n    </tr>\n    <tr>\n      <td>26</td>\n      <td>13</td>\n      <td>16</td>\n      <td>1</td>\n      <td>30</td>\n      <td>21</td>\n      <td>11</td>\n      <td>27</td>\n      <td>4</td>\n    </tr>\n    <tr>\n      <td>27</td>\n      <td>7</td>\n      <td>21</td>\n      <td>12</td>\n      <td>23</td>\n      <td>2</td>\n      <td>16</td>\n      <td>2</td>\n      <td>26</td>\n    </tr>\n    <tr>\n      <td>28</td>\n      <td>2</td>\n      <td>9</td>\n      <td>23</td>\n      <td>24</td>\n      <td>6</td>\n      <td>9</td>\n      <td>29</td>\n      <td>5</td>\n    </tr>\n    <tr>\n      <td>29</td>\n      <td>16</td>\n      <td>13</td>\n      <td>6</td>\n      <td>18</td>\n      <td>29</td>\n      <td>27</td>\n      <td>9</td>\n      <td>29</td>\n    </tr>\n  </tbody>\n</table>\n</div>",
      "text/plain": "    EFG_PCT_RANK  FTA_RATE_RANK  TM_TOV_PCT_RANK  OREB_PCT_RANK  \\\n0             24             15               29             14   \n1             12             17                9             10   \n2             23             11               25              9   \n3             27             22               24              8   \n4             25             25               26             21   \n5             22             29               30              3   \n6              4             14                2              7   \n7             19             26                7              1   \n8             14             12               28             11   \n9             30             10               14             26   \n10             9              2               10             17   \n11             8             30                5             27   \n12            15              3               16              5   \n13             3              8               22              4   \n14            10             27               17             20   \n15             5              1               21             16   \n16             1              7               11             28   \n17            26              5               19             13   \n18             6             20               27              6   \n19            28             18               13              2   \n20            11              4                8             29   \n21            29             23                4             15   \n22            17             19               18             12   \n23            20              6               15             25   \n24            21             24                3             19   \n25            18             28               20             22   \n26            13             16                1             30   \n27             7             21               12             23   \n28             2              9               23             24   \n29            16             13                6             18   \n\n    OPP_EFG_PCT_RANK  OPP_FTA_RATE_RANK  OPP_TOV_PCT_RANK  OPP_OREB_PCT_RANK  \n0                 24                 29                13                 28  \n1                  5                 24                 5                 12  \n2                  4                  8                26                 11  \n3                 27                  1                11                 30  \n4                 26                 30                 1                 21  \n5                 30                  3                25                  8  \n6                 11                  6                30                 10  \n7                 14                 14                14                 18  \n8                 20                  7                16                 25  \n9                 28                 10                 3                 23  \n10                17                 12                10                 22  \n11                 8                 13                15                 24  \n12                 3                 21                21                 13  \n13                 7                 15                 6                  9  \n14                15                 23                18                 20  \n15                10                 17                23                  2  \n16                 1                  5                24                  1  \n17                19                 22                12                 14  \n18                18                 19                22                 16  \n19                25                 28                19                  7  \n20                12                  2                20                 17  \n21                16                  4                 7                  6  \n22                 9                 26                17                  3  \n23                22                 25                 4                 19  \n24                13                 18                28                 27  \n25                23                 20                 8                 15  \n26                21                 11                27                  4  \n27                 2                 16                 2                 26  \n28                 6                  9                29                  5  \n29                29                 27                 9                 29  "
     },
     "execution_count": 26,
     "metadata": {},
     "output_type": "execute_result"
    }
   ],
   "source": [
    "curr_ff_df[curr_ff_df.columns[21:29]]"
   ]
  },
  {
   "cell_type": "code",
   "execution_count": 28,
   "metadata": {},
   "outputs": [
    {
     "data": {
      "text/plain": "0              Atlanta Hawks\n1             Boston Celtics\n2              Brooklyn Nets\n3          Charlotte Hornets\n4              Chicago Bulls\n5        Cleveland Cavaliers\n6           Dallas Mavericks\n7             Denver Nuggets\n8            Detroit Pistons\n9      Golden State Warriors\n10           Houston Rockets\n11            Indiana Pacers\n12               LA Clippers\n13        Los Angeles Lakers\n14         Memphis Grizzlies\n15                Miami Heat\n16           Milwaukee Bucks\n17    Minnesota Timberwolves\n18      New Orleans Pelicans\n19           New York Knicks\n20     Oklahoma City Thunder\n21             Orlando Magic\n22        Philadelphia 76ers\n23              Phoenix Suns\n24    Portland Trail Blazers\n25          Sacramento Kings\n26         San Antonio Spurs\n27           Toronto Raptors\n28                 Utah Jazz\n29        Washington Wizards\nName: TEAM_NAME, dtype: object"
     },
     "execution_count": 28,
     "metadata": {},
     "output_type": "execute_result"
    }
   ],
   "source": [
    "curr_ff_df.TEAM_NAME"
   ]
  },
  {
   "cell_type": "code",
   "execution_count": 30,
   "metadata": {},
   "outputs": [
    {
     "data": {
      "text/html": "<div>\n<style scoped>\n    .dataframe tbody tr th:only-of-type {\n        vertical-align: middle;\n    }\n\n    .dataframe tbody tr th {\n        vertical-align: top;\n    }\n\n    .dataframe thead th {\n        text-align: right;\n    }\n</style>\n<table border=\"1\" class=\"dataframe\">\n  <thead>\n    <tr style=\"text-align: right;\">\n      <th></th>\n      <th>TEAM_NAME</th>\n      <th>EFG_PCT_RANK</th>\n      <th>FTA_RATE_RANK</th>\n      <th>TM_TOV_PCT_RANK</th>\n      <th>OREB_PCT_RANK</th>\n      <th>OPP_EFG_PCT_RANK</th>\n      <th>OPP_FTA_RATE_RANK</th>\n      <th>OPP_TOV_PCT_RANK</th>\n      <th>OPP_OREB_PCT_RANK</th>\n    </tr>\n  </thead>\n  <tbody>\n    <tr>\n      <td>0</td>\n      <td>Atlanta Hawks</td>\n      <td>24</td>\n      <td>15</td>\n      <td>29</td>\n      <td>14</td>\n      <td>24</td>\n      <td>29</td>\n      <td>13</td>\n      <td>28</td>\n    </tr>\n    <tr>\n      <td>1</td>\n      <td>Boston Celtics</td>\n      <td>12</td>\n      <td>17</td>\n      <td>9</td>\n      <td>10</td>\n      <td>5</td>\n      <td>24</td>\n      <td>5</td>\n      <td>12</td>\n    </tr>\n    <tr>\n      <td>2</td>\n      <td>Brooklyn Nets</td>\n      <td>23</td>\n      <td>11</td>\n      <td>25</td>\n      <td>9</td>\n      <td>4</td>\n      <td>8</td>\n      <td>26</td>\n      <td>11</td>\n    </tr>\n    <tr>\n      <td>3</td>\n      <td>Charlotte Hornets</td>\n      <td>27</td>\n      <td>22</td>\n      <td>24</td>\n      <td>8</td>\n      <td>27</td>\n      <td>1</td>\n      <td>11</td>\n      <td>30</td>\n    </tr>\n    <tr>\n      <td>4</td>\n      <td>Chicago Bulls</td>\n      <td>25</td>\n      <td>25</td>\n      <td>26</td>\n      <td>21</td>\n      <td>26</td>\n      <td>30</td>\n      <td>1</td>\n      <td>21</td>\n    </tr>\n    <tr>\n      <td>5</td>\n      <td>Cleveland Cavaliers</td>\n      <td>22</td>\n      <td>29</td>\n      <td>30</td>\n      <td>3</td>\n      <td>30</td>\n      <td>3</td>\n      <td>25</td>\n      <td>8</td>\n    </tr>\n    <tr>\n      <td>6</td>\n      <td>Dallas Mavericks</td>\n      <td>4</td>\n      <td>14</td>\n      <td>2</td>\n      <td>7</td>\n      <td>11</td>\n      <td>6</td>\n      <td>30</td>\n      <td>10</td>\n    </tr>\n    <tr>\n      <td>7</td>\n      <td>Denver Nuggets</td>\n      <td>19</td>\n      <td>26</td>\n      <td>7</td>\n      <td>1</td>\n      <td>14</td>\n      <td>14</td>\n      <td>14</td>\n      <td>18</td>\n    </tr>\n    <tr>\n      <td>8</td>\n      <td>Detroit Pistons</td>\n      <td>14</td>\n      <td>12</td>\n      <td>28</td>\n      <td>11</td>\n      <td>20</td>\n      <td>7</td>\n      <td>16</td>\n      <td>25</td>\n    </tr>\n    <tr>\n      <td>9</td>\n      <td>Golden State Warriors</td>\n      <td>30</td>\n      <td>10</td>\n      <td>14</td>\n      <td>26</td>\n      <td>28</td>\n      <td>10</td>\n      <td>3</td>\n      <td>23</td>\n    </tr>\n    <tr>\n      <td>10</td>\n      <td>Houston Rockets</td>\n      <td>9</td>\n      <td>2</td>\n      <td>10</td>\n      <td>17</td>\n      <td>17</td>\n      <td>12</td>\n      <td>10</td>\n      <td>22</td>\n    </tr>\n    <tr>\n      <td>11</td>\n      <td>Indiana Pacers</td>\n      <td>8</td>\n      <td>30</td>\n      <td>5</td>\n      <td>27</td>\n      <td>8</td>\n      <td>13</td>\n      <td>15</td>\n      <td>24</td>\n    </tr>\n    <tr>\n      <td>12</td>\n      <td>LA Clippers</td>\n      <td>15</td>\n      <td>3</td>\n      <td>16</td>\n      <td>5</td>\n      <td>3</td>\n      <td>21</td>\n      <td>21</td>\n      <td>13</td>\n    </tr>\n    <tr>\n      <td>13</td>\n      <td>Los Angeles Lakers</td>\n      <td>3</td>\n      <td>8</td>\n      <td>22</td>\n      <td>4</td>\n      <td>7</td>\n      <td>15</td>\n      <td>6</td>\n      <td>9</td>\n    </tr>\n    <tr>\n      <td>14</td>\n      <td>Memphis Grizzlies</td>\n      <td>10</td>\n      <td>27</td>\n      <td>17</td>\n      <td>20</td>\n      <td>15</td>\n      <td>23</td>\n      <td>18</td>\n      <td>20</td>\n    </tr>\n    <tr>\n      <td>15</td>\n      <td>Miami Heat</td>\n      <td>5</td>\n      <td>1</td>\n      <td>21</td>\n      <td>16</td>\n      <td>10</td>\n      <td>17</td>\n      <td>23</td>\n      <td>2</td>\n    </tr>\n    <tr>\n      <td>16</td>\n      <td>Milwaukee Bucks</td>\n      <td>1</td>\n      <td>7</td>\n      <td>11</td>\n      <td>28</td>\n      <td>1</td>\n      <td>5</td>\n      <td>24</td>\n      <td>1</td>\n    </tr>\n    <tr>\n      <td>17</td>\n      <td>Minnesota Timberwolves</td>\n      <td>26</td>\n      <td>5</td>\n      <td>19</td>\n      <td>13</td>\n      <td>19</td>\n      <td>22</td>\n      <td>12</td>\n      <td>14</td>\n    </tr>\n    <tr>\n      <td>18</td>\n      <td>New Orleans Pelicans</td>\n      <td>6</td>\n      <td>20</td>\n      <td>27</td>\n      <td>6</td>\n      <td>18</td>\n      <td>19</td>\n      <td>22</td>\n      <td>16</td>\n    </tr>\n    <tr>\n      <td>19</td>\n      <td>New York Knicks</td>\n      <td>28</td>\n      <td>18</td>\n      <td>13</td>\n      <td>2</td>\n      <td>25</td>\n      <td>28</td>\n      <td>19</td>\n      <td>7</td>\n    </tr>\n    <tr>\n      <td>20</td>\n      <td>Oklahoma City Thunder</td>\n      <td>11</td>\n      <td>4</td>\n      <td>8</td>\n      <td>29</td>\n      <td>12</td>\n      <td>2</td>\n      <td>20</td>\n      <td>17</td>\n    </tr>\n    <tr>\n      <td>21</td>\n      <td>Orlando Magic</td>\n      <td>29</td>\n      <td>23</td>\n      <td>4</td>\n      <td>15</td>\n      <td>16</td>\n      <td>4</td>\n      <td>7</td>\n      <td>6</td>\n    </tr>\n    <tr>\n      <td>22</td>\n      <td>Philadelphia 76ers</td>\n      <td>17</td>\n      <td>19</td>\n      <td>18</td>\n      <td>12</td>\n      <td>9</td>\n      <td>26</td>\n      <td>17</td>\n      <td>3</td>\n    </tr>\n    <tr>\n      <td>23</td>\n      <td>Phoenix Suns</td>\n      <td>20</td>\n      <td>6</td>\n      <td>15</td>\n      <td>25</td>\n      <td>22</td>\n      <td>25</td>\n      <td>4</td>\n      <td>19</td>\n    </tr>\n    <tr>\n      <td>24</td>\n      <td>Portland Trail Blazers</td>\n      <td>21</td>\n      <td>24</td>\n      <td>3</td>\n      <td>19</td>\n      <td>13</td>\n      <td>18</td>\n      <td>28</td>\n      <td>27</td>\n    </tr>\n    <tr>\n      <td>25</td>\n      <td>Sacramento Kings</td>\n      <td>18</td>\n      <td>28</td>\n      <td>20</td>\n      <td>22</td>\n      <td>23</td>\n      <td>20</td>\n      <td>8</td>\n      <td>15</td>\n    </tr>\n    <tr>\n      <td>26</td>\n      <td>San Antonio Spurs</td>\n      <td>13</td>\n      <td>16</td>\n      <td>1</td>\n      <td>30</td>\n      <td>21</td>\n      <td>11</td>\n      <td>27</td>\n      <td>4</td>\n    </tr>\n    <tr>\n      <td>27</td>\n      <td>Toronto Raptors</td>\n      <td>7</td>\n      <td>21</td>\n      <td>12</td>\n      <td>23</td>\n      <td>2</td>\n      <td>16</td>\n      <td>2</td>\n      <td>26</td>\n    </tr>\n    <tr>\n      <td>28</td>\n      <td>Utah Jazz</td>\n      <td>2</td>\n      <td>9</td>\n      <td>23</td>\n      <td>24</td>\n      <td>6</td>\n      <td>9</td>\n      <td>29</td>\n      <td>5</td>\n    </tr>\n    <tr>\n      <td>29</td>\n      <td>Washington Wizards</td>\n      <td>16</td>\n      <td>13</td>\n      <td>6</td>\n      <td>18</td>\n      <td>29</td>\n      <td>27</td>\n      <td>9</td>\n      <td>29</td>\n    </tr>\n  </tbody>\n</table>\n</div>",
      "text/plain": "                 TEAM_NAME  EFG_PCT_RANK  FTA_RATE_RANK  TM_TOV_PCT_RANK  \\\n0            Atlanta Hawks            24             15               29   \n1           Boston Celtics            12             17                9   \n2            Brooklyn Nets            23             11               25   \n3        Charlotte Hornets            27             22               24   \n4            Chicago Bulls            25             25               26   \n5      Cleveland Cavaliers            22             29               30   \n6         Dallas Mavericks             4             14                2   \n7           Denver Nuggets            19             26                7   \n8          Detroit Pistons            14             12               28   \n9    Golden State Warriors            30             10               14   \n10         Houston Rockets             9              2               10   \n11          Indiana Pacers             8             30                5   \n12             LA Clippers            15              3               16   \n13      Los Angeles Lakers             3              8               22   \n14       Memphis Grizzlies            10             27               17   \n15              Miami Heat             5              1               21   \n16         Milwaukee Bucks             1              7               11   \n17  Minnesota Timberwolves            26              5               19   \n18    New Orleans Pelicans             6             20               27   \n19         New York Knicks            28             18               13   \n20   Oklahoma City Thunder            11              4                8   \n21           Orlando Magic            29             23                4   \n22      Philadelphia 76ers            17             19               18   \n23            Phoenix Suns            20              6               15   \n24  Portland Trail Blazers            21             24                3   \n25        Sacramento Kings            18             28               20   \n26       San Antonio Spurs            13             16                1   \n27         Toronto Raptors             7             21               12   \n28               Utah Jazz             2              9               23   \n29      Washington Wizards            16             13                6   \n\n    OREB_PCT_RANK  OPP_EFG_PCT_RANK  OPP_FTA_RATE_RANK  OPP_TOV_PCT_RANK  \\\n0              14                24                 29                13   \n1              10                 5                 24                 5   \n2               9                 4                  8                26   \n3               8                27                  1                11   \n4              21                26                 30                 1   \n5               3                30                  3                25   \n6               7                11                  6                30   \n7               1                14                 14                14   \n8              11                20                  7                16   \n9              26                28                 10                 3   \n10             17                17                 12                10   \n11             27                 8                 13                15   \n12              5                 3                 21                21   \n13              4                 7                 15                 6   \n14             20                15                 23                18   \n15             16                10                 17                23   \n16             28                 1                  5                24   \n17             13                19                 22                12   \n18              6                18                 19                22   \n19              2                25                 28                19   \n20             29                12                  2                20   \n21             15                16                  4                 7   \n22             12                 9                 26                17   \n23             25                22                 25                 4   \n24             19                13                 18                28   \n25             22                23                 20                 8   \n26             30                21                 11                27   \n27             23                 2                 16                 2   \n28             24                 6                  9                29   \n29             18                29                 27                 9   \n\n    OPP_OREB_PCT_RANK  \n0                  28  \n1                  12  \n2                  11  \n3                  30  \n4                  21  \n5                   8  \n6                  10  \n7                  18  \n8                  25  \n9                  23  \n10                 22  \n11                 24  \n12                 13  \n13                  9  \n14                 20  \n15                  2  \n16                  1  \n17                 14  \n18                 16  \n19                  7  \n20                 17  \n21                  6  \n22                  3  \n23                 19  \n24                 27  \n25                 15  \n26                  4  \n27                 26  \n28                  5  \n29                 29  "
     },
     "execution_count": 30,
     "metadata": {},
     "output_type": "execute_result"
    }
   ],
   "source": [
    "pd.concat([curr_ff_df.TEAM_NAME, curr_ff_df[curr_ff_df.columns[21:29]]], axis=1)"
   ]
  },
  {
   "cell_type": "code",
   "execution_count": 31,
   "metadata": {},
   "outputs": [
    {
     "data": {
      "text/plain": "Index(['Unnamed: 0', 'TEAM_ID', 'TEAM_NAME', 'GP', 'W', 'L', 'W_PCT', 'MIN',\n       'EFG_PCT', 'FTA_RATE', 'TM_TOV_PCT', 'OREB_PCT', 'OPP_EFG_PCT',\n       'OPP_FTA_RATE', 'OPP_TOV_PCT', 'OPP_OREB_PCT', 'GP_RANK', 'W_RANK',\n       'L_RANK', 'W_PCT_RANK', 'MIN_RANK', 'EFG_PCT_RANK', 'FTA_RATE_RANK',\n       'TM_TOV_PCT_RANK', 'OREB_PCT_RANK', 'OPP_EFG_PCT_RANK',\n       'OPP_FTA_RATE_RANK', 'OPP_TOV_PCT_RANK', 'OPP_OREB_PCT_RANK', 'CFID',\n       'CFPARAMS', 'season'],\n      dtype='object')"
     },
     "execution_count": 31,
     "metadata": {},
     "output_type": "execute_result"
    }
   ],
   "source": [
    "curr_ff_df.columns"
   ]
  },
  {
   "cell_type": "code",
   "execution_count": 33,
   "metadata": {},
   "outputs": [],
   "source": [
    "curr_ff_df['efg_diff'] = curr_ff_df.EFG_PCT - curr_ff_df.OPP_EFG_PCT\n",
    "curr_ff_df['ftr_diff'] = curr_ff_df.FTA_RATE - curr_ff_df.OPP_FTA_RATE\n",
    "curr_ff_df['tov_diff'] = curr_ff_df.TM_TOV_PCT - curr_ff_df.OPP_TOV_PCT\n",
    "curr_ff_df['oreb_diff'] = curr_ff_df.OREB_PCT - curr_ff_df.OPP_OREB_PCT"
   ]
  },
  {
   "cell_type": "code",
   "execution_count": 38,
   "metadata": {},
   "outputs": [
    {
     "data": {
      "text/html": "<div>\n<style scoped>\n    .dataframe tbody tr th:only-of-type {\n        vertical-align: middle;\n    }\n\n    .dataframe tbody tr th {\n        vertical-align: top;\n    }\n\n    .dataframe thead th {\n        text-align: right;\n    }\n</style>\n<table border=\"1\" class=\"dataframe\">\n  <thead>\n    <tr style=\"text-align: right;\">\n      <th></th>\n      <th>efg_diff</th>\n      <th>ftr_diff</th>\n      <th>tov_diff</th>\n      <th>oreb_diff</th>\n    </tr>\n  </thead>\n  <tbody>\n    <tr>\n      <td>0</td>\n      <td>-0.029</td>\n      <td>-0.045</td>\n      <td>0.012</td>\n      <td>-0.029</td>\n    </tr>\n    <tr>\n      <td>1</td>\n      <td>0.024</td>\n      <td>-0.023</td>\n      <td>-0.016</td>\n      <td>0.013</td>\n    </tr>\n    <tr>\n      <td>2</td>\n      <td>0.011</td>\n      <td>0.027</td>\n      <td>0.026</td>\n      <td>0.015</td>\n    </tr>\n    <tr>\n      <td>3</td>\n      <td>-0.045</td>\n      <td>0.041</td>\n      <td>0.003</td>\n      <td>-0.014</td>\n    </tr>\n    <tr>\n      <td>4</td>\n      <td>-0.032</td>\n      <td>-0.066</td>\n      <td>-0.026</td>\n      <td>-0.014</td>\n    </tr>\n    <tr>\n      <td>5</td>\n      <td>-0.043</td>\n      <td>0.005</td>\n      <td>0.037</td>\n      <td>0.036</td>\n    </tr>\n    <tr>\n      <td>6</td>\n      <td>0.027</td>\n      <td>0.030</td>\n      <td>0.005</td>\n      <td>0.016</td>\n    </tr>\n    <tr>\n      <td>7</td>\n      <td>0.004</td>\n      <td>-0.021</td>\n      <td>-0.010</td>\n      <td>0.028</td>\n    </tr>\n    <tr>\n      <td>8</td>\n      <td>-0.006</td>\n      <td>0.032</td>\n      <td>0.013</td>\n      <td>-0.007</td>\n    </tr>\n    <tr>\n      <td>9</td>\n      <td>-0.058</td>\n      <td>0.025</td>\n      <td>-0.012</td>\n      <td>-0.026</td>\n    </tr>\n    <tr>\n      <td>10</td>\n      <td>0.006</td>\n      <td>0.042</td>\n      <td>-0.011</td>\n      <td>-0.014</td>\n    </tr>\n    <tr>\n      <td>11</td>\n      <td>0.022</td>\n      <td>-0.034</td>\n      <td>-0.016</td>\n      <td>-0.036</td>\n    </tr>\n    <tr>\n      <td>12</td>\n      <td>0.025</td>\n      <td>0.014</td>\n      <td>0.006</td>\n      <td>0.017</td>\n    </tr>\n    <tr>\n      <td>13</td>\n      <td>0.040</td>\n      <td>0.012</td>\n      <td>-0.003</td>\n      <td>0.024</td>\n    </tr>\n    <tr>\n      <td>14</td>\n      <td>0.010</td>\n      <td>-0.049</td>\n      <td>0.004</td>\n      <td>-0.011</td>\n    </tr>\n    <tr>\n      <td>15</td>\n      <td>0.027</td>\n      <td>0.032</td>\n      <td>0.014</td>\n      <td>0.023</td>\n    </tr>\n    <tr>\n      <td>16</td>\n      <td>0.071</td>\n      <td>0.050</td>\n      <td>0.005</td>\n      <td>0.016</td>\n    </tr>\n    <tr>\n      <td>17</td>\n      <td>-0.024</td>\n      <td>0.001</td>\n      <td>0.000</td>\n      <td>0.001</td>\n    </tr>\n    <tr>\n      <td>18</td>\n      <td>0.006</td>\n      <td>-0.022</td>\n      <td>0.016</td>\n      <td>0.013</td>\n    </tr>\n    <tr>\n      <td>19</td>\n      <td>-0.047</td>\n      <td>-0.042</td>\n      <td>0.002</td>\n      <td>0.041</td>\n    </tr>\n    <tr>\n      <td>20</td>\n      <td>0.013</td>\n      <td>0.080</td>\n      <td>-0.004</td>\n      <td>-0.028</td>\n    </tr>\n    <tr>\n      <td>21</td>\n      <td>-0.033</td>\n      <td>0.032</td>\n      <td>-0.023</td>\n      <td>0.010</td>\n    </tr>\n    <tr>\n      <td>22</td>\n      <td>0.013</td>\n      <td>-0.032</td>\n      <td>0.004</td>\n      <td>0.035</td>\n    </tr>\n    <tr>\n      <td>23</td>\n      <td>-0.014</td>\n      <td>-0.009</td>\n      <td>-0.012</td>\n      <td>-0.015</td>\n    </tr>\n    <tr>\n      <td>24</td>\n      <td>0.005</td>\n      <td>-0.029</td>\n      <td>0.002</td>\n      <td>-0.029</td>\n    </tr>\n    <tr>\n      <td>25</td>\n      <td>-0.014</td>\n      <td>-0.052</td>\n      <td>-0.004</td>\n      <td>-0.010</td>\n    </tr>\n    <tr>\n      <td>26</td>\n      <td>-0.009</td>\n      <td>0.011</td>\n      <td>-0.001</td>\n      <td>-0.014</td>\n    </tr>\n    <tr>\n      <td>27</td>\n      <td>0.034</td>\n      <td>-0.008</td>\n      <td>-0.026</td>\n      <td>-0.030</td>\n    </tr>\n    <tr>\n      <td>28</td>\n      <td>0.042</td>\n      <td>0.030</td>\n      <td>0.029</td>\n      <td>0.010</td>\n    </tr>\n    <tr>\n      <td>29</td>\n      <td>-0.025</td>\n      <td>-0.030</td>\n      <td>-0.016</td>\n      <td>-0.032</td>\n    </tr>\n  </tbody>\n</table>\n</div>",
      "text/plain": "    efg_diff  ftr_diff  tov_diff  oreb_diff\n0     -0.029    -0.045     0.012     -0.029\n1      0.024    -0.023    -0.016      0.013\n2      0.011     0.027     0.026      0.015\n3     -0.045     0.041     0.003     -0.014\n4     -0.032    -0.066    -0.026     -0.014\n5     -0.043     0.005     0.037      0.036\n6      0.027     0.030     0.005      0.016\n7      0.004    -0.021    -0.010      0.028\n8     -0.006     0.032     0.013     -0.007\n9     -0.058     0.025    -0.012     -0.026\n10     0.006     0.042    -0.011     -0.014\n11     0.022    -0.034    -0.016     -0.036\n12     0.025     0.014     0.006      0.017\n13     0.040     0.012    -0.003      0.024\n14     0.010    -0.049     0.004     -0.011\n15     0.027     0.032     0.014      0.023\n16     0.071     0.050     0.005      0.016\n17    -0.024     0.001     0.000      0.001\n18     0.006    -0.022     0.016      0.013\n19    -0.047    -0.042     0.002      0.041\n20     0.013     0.080    -0.004     -0.028\n21    -0.033     0.032    -0.023      0.010\n22     0.013    -0.032     0.004      0.035\n23    -0.014    -0.009    -0.012     -0.015\n24     0.005    -0.029     0.002     -0.029\n25    -0.014    -0.052    -0.004     -0.010\n26    -0.009     0.011    -0.001     -0.014\n27     0.034    -0.008    -0.026     -0.030\n28     0.042     0.030     0.029      0.010\n29    -0.025    -0.030    -0.016     -0.032"
     },
     "execution_count": 38,
     "metadata": {},
     "output_type": "execute_result"
    }
   ],
   "source": [
    "curr_ff_df[curr_ff_df.columns[32:36]]"
   ]
  },
  {
   "cell_type": "code",
   "execution_count": 40,
   "metadata": {},
   "outputs": [],
   "source": [
    "ff_diffs_df = pd.concat([curr_ff_df.TEAM_NAME, curr_ff_df[curr_ff_df.columns[32:36]]], axis=1)"
   ]
  },
  {
   "cell_type": "code",
   "execution_count": 41,
   "metadata": {},
   "outputs": [
    {
     "data": {
      "text/html": "<div>\n<style scoped>\n    .dataframe tbody tr th:only-of-type {\n        vertical-align: middle;\n    }\n\n    .dataframe tbody tr th {\n        vertical-align: top;\n    }\n\n    .dataframe thead th {\n        text-align: right;\n    }\n</style>\n<table border=\"1\" class=\"dataframe\">\n  <thead>\n    <tr style=\"text-align: right;\">\n      <th></th>\n      <th>TEAM_NAME</th>\n      <th>efg_diff</th>\n      <th>ftr_diff</th>\n      <th>tov_diff</th>\n      <th>oreb_diff</th>\n    </tr>\n  </thead>\n  <tbody>\n    <tr>\n      <td>0</td>\n      <td>Atlanta Hawks</td>\n      <td>-0.029</td>\n      <td>-0.045</td>\n      <td>0.012</td>\n      <td>-0.029</td>\n    </tr>\n    <tr>\n      <td>1</td>\n      <td>Boston Celtics</td>\n      <td>0.024</td>\n      <td>-0.023</td>\n      <td>-0.016</td>\n      <td>0.013</td>\n    </tr>\n    <tr>\n      <td>2</td>\n      <td>Brooklyn Nets</td>\n      <td>0.011</td>\n      <td>0.027</td>\n      <td>0.026</td>\n      <td>0.015</td>\n    </tr>\n    <tr>\n      <td>3</td>\n      <td>Charlotte Hornets</td>\n      <td>-0.045</td>\n      <td>0.041</td>\n      <td>0.003</td>\n      <td>-0.014</td>\n    </tr>\n    <tr>\n      <td>4</td>\n      <td>Chicago Bulls</td>\n      <td>-0.032</td>\n      <td>-0.066</td>\n      <td>-0.026</td>\n      <td>-0.014</td>\n    </tr>\n    <tr>\n      <td>5</td>\n      <td>Cleveland Cavaliers</td>\n      <td>-0.043</td>\n      <td>0.005</td>\n      <td>0.037</td>\n      <td>0.036</td>\n    </tr>\n    <tr>\n      <td>6</td>\n      <td>Dallas Mavericks</td>\n      <td>0.027</td>\n      <td>0.030</td>\n      <td>0.005</td>\n      <td>0.016</td>\n    </tr>\n    <tr>\n      <td>7</td>\n      <td>Denver Nuggets</td>\n      <td>0.004</td>\n      <td>-0.021</td>\n      <td>-0.010</td>\n      <td>0.028</td>\n    </tr>\n    <tr>\n      <td>8</td>\n      <td>Detroit Pistons</td>\n      <td>-0.006</td>\n      <td>0.032</td>\n      <td>0.013</td>\n      <td>-0.007</td>\n    </tr>\n    <tr>\n      <td>9</td>\n      <td>Golden State Warriors</td>\n      <td>-0.058</td>\n      <td>0.025</td>\n      <td>-0.012</td>\n      <td>-0.026</td>\n    </tr>\n    <tr>\n      <td>10</td>\n      <td>Houston Rockets</td>\n      <td>0.006</td>\n      <td>0.042</td>\n      <td>-0.011</td>\n      <td>-0.014</td>\n    </tr>\n    <tr>\n      <td>11</td>\n      <td>Indiana Pacers</td>\n      <td>0.022</td>\n      <td>-0.034</td>\n      <td>-0.016</td>\n      <td>-0.036</td>\n    </tr>\n    <tr>\n      <td>12</td>\n      <td>LA Clippers</td>\n      <td>0.025</td>\n      <td>0.014</td>\n      <td>0.006</td>\n      <td>0.017</td>\n    </tr>\n    <tr>\n      <td>13</td>\n      <td>Los Angeles Lakers</td>\n      <td>0.040</td>\n      <td>0.012</td>\n      <td>-0.003</td>\n      <td>0.024</td>\n    </tr>\n    <tr>\n      <td>14</td>\n      <td>Memphis Grizzlies</td>\n      <td>0.010</td>\n      <td>-0.049</td>\n      <td>0.004</td>\n      <td>-0.011</td>\n    </tr>\n    <tr>\n      <td>15</td>\n      <td>Miami Heat</td>\n      <td>0.027</td>\n      <td>0.032</td>\n      <td>0.014</td>\n      <td>0.023</td>\n    </tr>\n    <tr>\n      <td>16</td>\n      <td>Milwaukee Bucks</td>\n      <td>0.071</td>\n      <td>0.050</td>\n      <td>0.005</td>\n      <td>0.016</td>\n    </tr>\n    <tr>\n      <td>17</td>\n      <td>Minnesota Timberwolves</td>\n      <td>-0.024</td>\n      <td>0.001</td>\n      <td>0.000</td>\n      <td>0.001</td>\n    </tr>\n    <tr>\n      <td>18</td>\n      <td>New Orleans Pelicans</td>\n      <td>0.006</td>\n      <td>-0.022</td>\n      <td>0.016</td>\n      <td>0.013</td>\n    </tr>\n    <tr>\n      <td>19</td>\n      <td>New York Knicks</td>\n      <td>-0.047</td>\n      <td>-0.042</td>\n      <td>0.002</td>\n      <td>0.041</td>\n    </tr>\n    <tr>\n      <td>20</td>\n      <td>Oklahoma City Thunder</td>\n      <td>0.013</td>\n      <td>0.080</td>\n      <td>-0.004</td>\n      <td>-0.028</td>\n    </tr>\n    <tr>\n      <td>21</td>\n      <td>Orlando Magic</td>\n      <td>-0.033</td>\n      <td>0.032</td>\n      <td>-0.023</td>\n      <td>0.010</td>\n    </tr>\n    <tr>\n      <td>22</td>\n      <td>Philadelphia 76ers</td>\n      <td>0.013</td>\n      <td>-0.032</td>\n      <td>0.004</td>\n      <td>0.035</td>\n    </tr>\n    <tr>\n      <td>23</td>\n      <td>Phoenix Suns</td>\n      <td>-0.014</td>\n      <td>-0.009</td>\n      <td>-0.012</td>\n      <td>-0.015</td>\n    </tr>\n    <tr>\n      <td>24</td>\n      <td>Portland Trail Blazers</td>\n      <td>0.005</td>\n      <td>-0.029</td>\n      <td>0.002</td>\n      <td>-0.029</td>\n    </tr>\n    <tr>\n      <td>25</td>\n      <td>Sacramento Kings</td>\n      <td>-0.014</td>\n      <td>-0.052</td>\n      <td>-0.004</td>\n      <td>-0.010</td>\n    </tr>\n    <tr>\n      <td>26</td>\n      <td>San Antonio Spurs</td>\n      <td>-0.009</td>\n      <td>0.011</td>\n      <td>-0.001</td>\n      <td>-0.014</td>\n    </tr>\n    <tr>\n      <td>27</td>\n      <td>Toronto Raptors</td>\n      <td>0.034</td>\n      <td>-0.008</td>\n      <td>-0.026</td>\n      <td>-0.030</td>\n    </tr>\n    <tr>\n      <td>28</td>\n      <td>Utah Jazz</td>\n      <td>0.042</td>\n      <td>0.030</td>\n      <td>0.029</td>\n      <td>0.010</td>\n    </tr>\n    <tr>\n      <td>29</td>\n      <td>Washington Wizards</td>\n      <td>-0.025</td>\n      <td>-0.030</td>\n      <td>-0.016</td>\n      <td>-0.032</td>\n    </tr>\n  </tbody>\n</table>\n</div>",
      "text/plain": "                 TEAM_NAME  efg_diff  ftr_diff  tov_diff  oreb_diff\n0            Atlanta Hawks    -0.029    -0.045     0.012     -0.029\n1           Boston Celtics     0.024    -0.023    -0.016      0.013\n2            Brooklyn Nets     0.011     0.027     0.026      0.015\n3        Charlotte Hornets    -0.045     0.041     0.003     -0.014\n4            Chicago Bulls    -0.032    -0.066    -0.026     -0.014\n5      Cleveland Cavaliers    -0.043     0.005     0.037      0.036\n6         Dallas Mavericks     0.027     0.030     0.005      0.016\n7           Denver Nuggets     0.004    -0.021    -0.010      0.028\n8          Detroit Pistons    -0.006     0.032     0.013     -0.007\n9    Golden State Warriors    -0.058     0.025    -0.012     -0.026\n10         Houston Rockets     0.006     0.042    -0.011     -0.014\n11          Indiana Pacers     0.022    -0.034    -0.016     -0.036\n12             LA Clippers     0.025     0.014     0.006      0.017\n13      Los Angeles Lakers     0.040     0.012    -0.003      0.024\n14       Memphis Grizzlies     0.010    -0.049     0.004     -0.011\n15              Miami Heat     0.027     0.032     0.014      0.023\n16         Milwaukee Bucks     0.071     0.050     0.005      0.016\n17  Minnesota Timberwolves    -0.024     0.001     0.000      0.001\n18    New Orleans Pelicans     0.006    -0.022     0.016      0.013\n19         New York Knicks    -0.047    -0.042     0.002      0.041\n20   Oklahoma City Thunder     0.013     0.080    -0.004     -0.028\n21           Orlando Magic    -0.033     0.032    -0.023      0.010\n22      Philadelphia 76ers     0.013    -0.032     0.004      0.035\n23            Phoenix Suns    -0.014    -0.009    -0.012     -0.015\n24  Portland Trail Blazers     0.005    -0.029     0.002     -0.029\n25        Sacramento Kings    -0.014    -0.052    -0.004     -0.010\n26       San Antonio Spurs    -0.009     0.011    -0.001     -0.014\n27         Toronto Raptors     0.034    -0.008    -0.026     -0.030\n28               Utah Jazz     0.042     0.030     0.029      0.010\n29      Washington Wizards    -0.025    -0.030    -0.016     -0.032"
     },
     "execution_count": 41,
     "metadata": {},
     "output_type": "execute_result"
    }
   ],
   "source": [
    "ff_diffs_df"
   ]
  },
  {
   "cell_type": "code",
   "execution_count": 66,
   "metadata": {},
   "outputs": [],
   "source": [
    "ff_diffs_df['efg_diff_rank'] = ff_diffs_df.efg_diff.rank(numeric_only=True, ascending=False)\n",
    "ff_diffs_df['ftr_dff_rank'] = ff_diffs_df.ftr_diff.rank(ascending=False)\n",
    "ff_diffs_df['tov_diff_rank'] = ff_diffs_df.tov_diff.rank(ascending = False)\n",
    "ff_diffs_df['oreb_diff_rank'] = ff_diffs_df.oreb_diff.rank(ascending=False)"
   ]
  },
  {
   "cell_type": "code",
   "execution_count": 67,
   "metadata": {},
   "outputs": [
    {
     "data": {
      "text/html": "<div>\n<style scoped>\n    .dataframe tbody tr th:only-of-type {\n        vertical-align: middle;\n    }\n\n    .dataframe tbody tr th {\n        vertical-align: top;\n    }\n\n    .dataframe thead th {\n        text-align: right;\n    }\n</style>\n<table border=\"1\" class=\"dataframe\">\n  <thead>\n    <tr style=\"text-align: right;\">\n      <th></th>\n      <th>TEAM_NAME</th>\n      <th>efg_diff</th>\n      <th>ftr_diff</th>\n      <th>tov_diff</th>\n      <th>oreb_diff</th>\n      <th>efg_diff_rank</th>\n      <th>ftr_dff_rank</th>\n      <th>tov_diff_rank</th>\n      <th>oreb_diff_rank</th>\n    </tr>\n  </thead>\n  <tbody>\n    <tr>\n      <td>0</td>\n      <td>Atlanta Hawks</td>\n      <td>-0.029</td>\n      <td>-0.045</td>\n      <td>0.012</td>\n      <td>-0.029</td>\n      <td>24.0</td>\n      <td>27.0</td>\n      <td>7.0</td>\n      <td>26.5</td>\n    </tr>\n    <tr>\n      <td>1</td>\n      <td>Boston Celtics</td>\n      <td>0.024</td>\n      <td>-0.023</td>\n      <td>-0.016</td>\n      <td>0.013</td>\n      <td>8.0</td>\n      <td>21.0</td>\n      <td>27.0</td>\n      <td>11.5</td>\n    </tr>\n    <tr>\n      <td>2</td>\n      <td>Brooklyn Nets</td>\n      <td>0.011</td>\n      <td>0.027</td>\n      <td>0.026</td>\n      <td>0.015</td>\n      <td>12.0</td>\n      <td>10.0</td>\n      <td>3.0</td>\n      <td>10.0</td>\n    </tr>\n    <tr>\n      <td>3</td>\n      <td>Charlotte Hornets</td>\n      <td>-0.045</td>\n      <td>0.041</td>\n      <td>0.003</td>\n      <td>-0.014</td>\n      <td>28.0</td>\n      <td>4.0</td>\n      <td>13.0</td>\n      <td>19.0</td>\n    </tr>\n    <tr>\n      <td>4</td>\n      <td>Chicago Bulls</td>\n      <td>-0.032</td>\n      <td>-0.066</td>\n      <td>-0.026</td>\n      <td>-0.014</td>\n      <td>25.0</td>\n      <td>30.0</td>\n      <td>29.5</td>\n      <td>21.0</td>\n    </tr>\n    <tr>\n      <td>5</td>\n      <td>Cleveland Cavaliers</td>\n      <td>-0.043</td>\n      <td>0.005</td>\n      <td>0.037</td>\n      <td>0.036</td>\n      <td>27.0</td>\n      <td>15.0</td>\n      <td>1.0</td>\n      <td>2.0</td>\n    </tr>\n    <tr>\n      <td>6</td>\n      <td>Dallas Mavericks</td>\n      <td>0.027</td>\n      <td>0.030</td>\n      <td>0.005</td>\n      <td>0.016</td>\n      <td>5.5</td>\n      <td>9.0</td>\n      <td>9.5</td>\n      <td>8.0</td>\n    </tr>\n    <tr>\n      <td>7</td>\n      <td>Denver Nuggets</td>\n      <td>0.004</td>\n      <td>-0.021</td>\n      <td>-0.010</td>\n      <td>0.028</td>\n      <td>17.0</td>\n      <td>19.0</td>\n      <td>21.0</td>\n      <td>4.0</td>\n    </tr>\n    <tr>\n      <td>8</td>\n      <td>Detroit Pistons</td>\n      <td>-0.006</td>\n      <td>0.032</td>\n      <td>0.013</td>\n      <td>-0.007</td>\n      <td>18.0</td>\n      <td>5.0</td>\n      <td>6.0</td>\n      <td>16.0</td>\n    </tr>\n    <tr>\n      <td>9</td>\n      <td>Golden State Warriors</td>\n      <td>-0.058</td>\n      <td>0.025</td>\n      <td>-0.012</td>\n      <td>-0.026</td>\n      <td>30.0</td>\n      <td>11.0</td>\n      <td>23.5</td>\n      <td>24.0</td>\n    </tr>\n    <tr>\n      <td>10</td>\n      <td>Houston Rockets</td>\n      <td>0.006</td>\n      <td>0.042</td>\n      <td>-0.011</td>\n      <td>-0.014</td>\n      <td>14.5</td>\n      <td>3.0</td>\n      <td>22.0</td>\n      <td>21.0</td>\n    </tr>\n    <tr>\n      <td>11</td>\n      <td>Indiana Pacers</td>\n      <td>0.022</td>\n      <td>-0.034</td>\n      <td>-0.016</td>\n      <td>-0.036</td>\n      <td>9.0</td>\n      <td>25.0</td>\n      <td>25.5</td>\n      <td>30.0</td>\n    </tr>\n    <tr>\n      <td>12</td>\n      <td>LA Clippers</td>\n      <td>0.025</td>\n      <td>0.014</td>\n      <td>0.006</td>\n      <td>0.017</td>\n      <td>7.0</td>\n      <td>12.0</td>\n      <td>8.0</td>\n      <td>7.0</td>\n    </tr>\n    <tr>\n      <td>13</td>\n      <td>Los Angeles Lakers</td>\n      <td>0.040</td>\n      <td>0.012</td>\n      <td>-0.003</td>\n      <td>0.024</td>\n      <td>3.0</td>\n      <td>13.0</td>\n      <td>18.0</td>\n      <td>5.0</td>\n    </tr>\n    <tr>\n      <td>14</td>\n      <td>Memphis Grizzlies</td>\n      <td>0.010</td>\n      <td>-0.049</td>\n      <td>0.004</td>\n      <td>-0.011</td>\n      <td>13.0</td>\n      <td>28.0</td>\n      <td>11.5</td>\n      <td>18.0</td>\n    </tr>\n    <tr>\n      <td>15</td>\n      <td>Miami Heat</td>\n      <td>0.027</td>\n      <td>0.032</td>\n      <td>0.014</td>\n      <td>0.023</td>\n      <td>5.5</td>\n      <td>7.0</td>\n      <td>5.0</td>\n      <td>6.0</td>\n    </tr>\n    <tr>\n      <td>16</td>\n      <td>Milwaukee Bucks</td>\n      <td>0.071</td>\n      <td>0.050</td>\n      <td>0.005</td>\n      <td>0.016</td>\n      <td>1.0</td>\n      <td>2.0</td>\n      <td>9.5</td>\n      <td>9.0</td>\n    </tr>\n    <tr>\n      <td>17</td>\n      <td>Minnesota Timberwolves</td>\n      <td>-0.024</td>\n      <td>0.001</td>\n      <td>0.000</td>\n      <td>0.001</td>\n      <td>22.0</td>\n      <td>16.0</td>\n      <td>16.0</td>\n      <td>15.0</td>\n    </tr>\n    <tr>\n      <td>18</td>\n      <td>New Orleans Pelicans</td>\n      <td>0.006</td>\n      <td>-0.022</td>\n      <td>0.016</td>\n      <td>0.013</td>\n      <td>14.5</td>\n      <td>20.0</td>\n      <td>4.0</td>\n      <td>11.5</td>\n    </tr>\n    <tr>\n      <td>19</td>\n      <td>New York Knicks</td>\n      <td>-0.047</td>\n      <td>-0.042</td>\n      <td>0.002</td>\n      <td>0.041</td>\n      <td>29.0</td>\n      <td>26.0</td>\n      <td>14.0</td>\n      <td>1.0</td>\n    </tr>\n    <tr>\n      <td>20</td>\n      <td>Oklahoma City Thunder</td>\n      <td>0.013</td>\n      <td>0.080</td>\n      <td>-0.004</td>\n      <td>-0.028</td>\n      <td>11.0</td>\n      <td>1.0</td>\n      <td>20.0</td>\n      <td>25.0</td>\n    </tr>\n    <tr>\n      <td>21</td>\n      <td>Orlando Magic</td>\n      <td>-0.033</td>\n      <td>0.032</td>\n      <td>-0.023</td>\n      <td>0.010</td>\n      <td>26.0</td>\n      <td>6.0</td>\n      <td>28.0</td>\n      <td>13.5</td>\n    </tr>\n    <tr>\n      <td>22</td>\n      <td>Philadelphia 76ers</td>\n      <td>0.013</td>\n      <td>-0.032</td>\n      <td>0.004</td>\n      <td>0.035</td>\n      <td>10.0</td>\n      <td>24.0</td>\n      <td>11.5</td>\n      <td>3.0</td>\n    </tr>\n    <tr>\n      <td>23</td>\n      <td>Phoenix Suns</td>\n      <td>-0.014</td>\n      <td>-0.009</td>\n      <td>-0.012</td>\n      <td>-0.015</td>\n      <td>20.5</td>\n      <td>18.0</td>\n      <td>23.5</td>\n      <td>23.0</td>\n    </tr>\n    <tr>\n      <td>24</td>\n      <td>Portland Trail Blazers</td>\n      <td>0.005</td>\n      <td>-0.029</td>\n      <td>0.002</td>\n      <td>-0.029</td>\n      <td>16.0</td>\n      <td>22.0</td>\n      <td>15.0</td>\n      <td>26.5</td>\n    </tr>\n    <tr>\n      <td>25</td>\n      <td>Sacramento Kings</td>\n      <td>-0.014</td>\n      <td>-0.052</td>\n      <td>-0.004</td>\n      <td>-0.010</td>\n      <td>20.5</td>\n      <td>29.0</td>\n      <td>19.0</td>\n      <td>17.0</td>\n    </tr>\n    <tr>\n      <td>26</td>\n      <td>San Antonio Spurs</td>\n      <td>-0.009</td>\n      <td>0.011</td>\n      <td>-0.001</td>\n      <td>-0.014</td>\n      <td>19.0</td>\n      <td>14.0</td>\n      <td>17.0</td>\n      <td>21.0</td>\n    </tr>\n    <tr>\n      <td>27</td>\n      <td>Toronto Raptors</td>\n      <td>0.034</td>\n      <td>-0.008</td>\n      <td>-0.026</td>\n      <td>-0.030</td>\n      <td>4.0</td>\n      <td>17.0</td>\n      <td>29.5</td>\n      <td>28.0</td>\n    </tr>\n    <tr>\n      <td>28</td>\n      <td>Utah Jazz</td>\n      <td>0.042</td>\n      <td>0.030</td>\n      <td>0.029</td>\n      <td>0.010</td>\n      <td>2.0</td>\n      <td>8.0</td>\n      <td>2.0</td>\n      <td>13.5</td>\n    </tr>\n    <tr>\n      <td>29</td>\n      <td>Washington Wizards</td>\n      <td>-0.025</td>\n      <td>-0.030</td>\n      <td>-0.016</td>\n      <td>-0.032</td>\n      <td>23.0</td>\n      <td>23.0</td>\n      <td>25.5</td>\n      <td>29.0</td>\n    </tr>\n  </tbody>\n</table>\n</div>",
      "text/plain": "                 TEAM_NAME  efg_diff  ftr_diff  tov_diff  oreb_diff  \\\n0            Atlanta Hawks    -0.029    -0.045     0.012     -0.029   \n1           Boston Celtics     0.024    -0.023    -0.016      0.013   \n2            Brooklyn Nets     0.011     0.027     0.026      0.015   \n3        Charlotte Hornets    -0.045     0.041     0.003     -0.014   \n4            Chicago Bulls    -0.032    -0.066    -0.026     -0.014   \n5      Cleveland Cavaliers    -0.043     0.005     0.037      0.036   \n6         Dallas Mavericks     0.027     0.030     0.005      0.016   \n7           Denver Nuggets     0.004    -0.021    -0.010      0.028   \n8          Detroit Pistons    -0.006     0.032     0.013     -0.007   \n9    Golden State Warriors    -0.058     0.025    -0.012     -0.026   \n10         Houston Rockets     0.006     0.042    -0.011     -0.014   \n11          Indiana Pacers     0.022    -0.034    -0.016     -0.036   \n12             LA Clippers     0.025     0.014     0.006      0.017   \n13      Los Angeles Lakers     0.040     0.012    -0.003      0.024   \n14       Memphis Grizzlies     0.010    -0.049     0.004     -0.011   \n15              Miami Heat     0.027     0.032     0.014      0.023   \n16         Milwaukee Bucks     0.071     0.050     0.005      0.016   \n17  Minnesota Timberwolves    -0.024     0.001     0.000      0.001   \n18    New Orleans Pelicans     0.006    -0.022     0.016      0.013   \n19         New York Knicks    -0.047    -0.042     0.002      0.041   \n20   Oklahoma City Thunder     0.013     0.080    -0.004     -0.028   \n21           Orlando Magic    -0.033     0.032    -0.023      0.010   \n22      Philadelphia 76ers     0.013    -0.032     0.004      0.035   \n23            Phoenix Suns    -0.014    -0.009    -0.012     -0.015   \n24  Portland Trail Blazers     0.005    -0.029     0.002     -0.029   \n25        Sacramento Kings    -0.014    -0.052    -0.004     -0.010   \n26       San Antonio Spurs    -0.009     0.011    -0.001     -0.014   \n27         Toronto Raptors     0.034    -0.008    -0.026     -0.030   \n28               Utah Jazz     0.042     0.030     0.029      0.010   \n29      Washington Wizards    -0.025    -0.030    -0.016     -0.032   \n\n    efg_diff_rank  ftr_dff_rank  tov_diff_rank  oreb_diff_rank  \n0            24.0          27.0            7.0            26.5  \n1             8.0          21.0           27.0            11.5  \n2            12.0          10.0            3.0            10.0  \n3            28.0           4.0           13.0            19.0  \n4            25.0          30.0           29.5            21.0  \n5            27.0          15.0            1.0             2.0  \n6             5.5           9.0            9.5             8.0  \n7            17.0          19.0           21.0             4.0  \n8            18.0           5.0            6.0            16.0  \n9            30.0          11.0           23.5            24.0  \n10           14.5           3.0           22.0            21.0  \n11            9.0          25.0           25.5            30.0  \n12            7.0          12.0            8.0             7.0  \n13            3.0          13.0           18.0             5.0  \n14           13.0          28.0           11.5            18.0  \n15            5.5           7.0            5.0             6.0  \n16            1.0           2.0            9.5             9.0  \n17           22.0          16.0           16.0            15.0  \n18           14.5          20.0            4.0            11.5  \n19           29.0          26.0           14.0             1.0  \n20           11.0           1.0           20.0            25.0  \n21           26.0           6.0           28.0            13.5  \n22           10.0          24.0           11.5             3.0  \n23           20.5          18.0           23.5            23.0  \n24           16.0          22.0           15.0            26.5  \n25           20.5          29.0           19.0            17.0  \n26           19.0          14.0           17.0            21.0  \n27            4.0          17.0           29.5            28.0  \n28            2.0           8.0            2.0            13.5  \n29           23.0          23.0           25.5            29.0  "
     },
     "execution_count": 67,
     "metadata": {},
     "output_type": "execute_result"
    }
   ],
   "source": [
    "ff_diffs_df"
   ]
  },
  {
   "cell_type": "code",
   "execution_count": 68,
   "metadata": {},
   "outputs": [
    {
     "data": {
      "text/html": "<div>\n<style scoped>\n    .dataframe tbody tr th:only-of-type {\n        vertical-align: middle;\n    }\n\n    .dataframe tbody tr th {\n        vertical-align: top;\n    }\n\n    .dataframe thead th {\n        text-align: right;\n    }\n</style>\n<table border=\"1\" class=\"dataframe\">\n  <thead>\n    <tr style=\"text-align: right;\">\n      <th></th>\n      <th>TEAM_NAME</th>\n      <th>efg_diff</th>\n      <th>ftr_diff</th>\n      <th>tov_diff</th>\n      <th>oreb_diff</th>\n      <th>efg_diff_rank</th>\n      <th>ftr_dff_rank</th>\n      <th>tov_diff_rank</th>\n      <th>oreb_diff_rank</th>\n    </tr>\n  </thead>\n  <tbody>\n    <tr>\n      <td>24</td>\n      <td>Portland Trail Blazers</td>\n      <td>0.005</td>\n      <td>-0.029</td>\n      <td>0.002</td>\n      <td>-0.029</td>\n      <td>16.0</td>\n      <td>22.0</td>\n      <td>15.0</td>\n      <td>26.5</td>\n    </tr>\n  </tbody>\n</table>\n</div>",
      "text/plain": "                 TEAM_NAME  efg_diff  ftr_diff  tov_diff  oreb_diff  \\\n24  Portland Trail Blazers     0.005    -0.029     0.002     -0.029   \n\n    efg_diff_rank  ftr_dff_rank  tov_diff_rank  oreb_diff_rank  \n24           16.0          22.0           15.0            26.5  "
     },
     "execution_count": 68,
     "metadata": {},
     "output_type": "execute_result"
    }
   ],
   "source": [
    "ff_diffs_df[ff_diffs_df.TEAM_NAME == 'Portland Trail Blazers']"
   ]
  },
  {
   "cell_type": "markdown",
   "metadata": {},
   "source": [
    "# Question 2"
   ]
  },
  {
   "cell_type": "code",
   "execution_count": 69,
   "metadata": {},
   "outputs": [],
   "source": [
    "# Import sklearn linear regression\n",
    "from sklearn.linear_model import LinearRegression"
   ]
  },
  {
   "cell_type": "code",
   "execution_count": 76,
   "metadata": {},
   "outputs": [
    {
     "data": {
      "text/plain": "array(['2013-14', '2014-15', '2015-16', '2016-17', '2017-18', '2018-19'],\n      dtype=object)"
     },
     "execution_count": 76,
     "metadata": {},
     "output_type": "execute_result"
    }
   ],
   "source": [
    "historic_ff_df.season.unique()"
   ]
  },
  {
   "cell_type": "code",
   "execution_count": 80,
   "metadata": {},
   "outputs": [],
   "source": [
    "# Use 13-18 data as training data\n",
    "train_df = historic_ff_df[historic_ff_df.season != '2018-19']\n",
    "\n",
    "# Use 18-19 as prediction season\n",
    "pred_df = historic_ff_df[historic_ff_df.season == '2018-19']"
   ]
  },
  {
   "cell_type": "code",
   "execution_count": 81,
   "metadata": {},
   "outputs": [
    {
     "data": {
      "text/plain": "Index(['Unnamed: 0', 'TEAM_ID', 'TEAM_NAME', 'GP', 'W', 'L', 'W_PCT', 'MIN',\n       'EFG_PCT', 'FTA_RATE', 'TM_TOV_PCT', 'OREB_PCT', 'OPP_EFG_PCT',\n       'OPP_FTA_RATE', 'OPP_TOV_PCT', 'OPP_OREB_PCT', 'GP_RANK', 'W_RANK',\n       'L_RANK', 'W_PCT_RANK', 'MIN_RANK', 'EFG_PCT_RANK', 'FTA_RATE_RANK',\n       'TM_TOV_PCT_RANK', 'OREB_PCT_RANK', 'OPP_EFG_PCT_RANK',\n       'OPP_FTA_RATE_RANK', 'OPP_TOV_PCT_RANK', 'OPP_OREB_PCT_RANK', 'CFID',\n       'CFPARAMS', 'season'],\n      dtype='object')"
     },
     "execution_count": 81,
     "metadata": {},
     "output_type": "execute_result"
    }
   ],
   "source": [
    "train_df.columns"
   ]
  },
  {
   "cell_type": "code",
   "execution_count": 84,
   "metadata": {},
   "outputs": [],
   "source": [
    "# Calculations required\n",
    "def calc_diffs(df):\n",
    "    df['efg_diff'] = df.EFG_PCT - df.OPP_EFG_PCT\n",
    "    df['fta_dff'] = df.FTA_RATE - df.OPP_FTA_RATE\n",
    "    df['tov_diff'] = df.TM_TOV_PCT - df.OPP_TOV_PCT\n",
    "    df['oreb_diff'] = df.OREB_PCT - df.OPP_OREB_PCT\n",
    "    return df"
   ]
  },
  {
   "cell_type": "code",
   "execution_count": 85,
   "metadata": {},
   "outputs": [],
   "source": [
    "train_df = calc_diffs(train_df)"
   ]
  },
  {
   "cell_type": "code",
   "execution_count": 101,
   "metadata": {},
   "outputs": [
    {
     "data": {
      "text/html": "<div>\n<style scoped>\n    .dataframe tbody tr th:only-of-type {\n        vertical-align: middle;\n    }\n\n    .dataframe tbody tr th {\n        vertical-align: top;\n    }\n\n    .dataframe thead th {\n        text-align: right;\n    }\n</style>\n<table border=\"1\" class=\"dataframe\">\n  <thead>\n    <tr style=\"text-align: right;\">\n      <th></th>\n      <th>efg_diff</th>\n      <th>fta_dff</th>\n      <th>tov_diff</th>\n      <th>oreb_diff</th>\n    </tr>\n  </thead>\n  <tbody>\n    <tr>\n      <td>0</td>\n      <td>0.005</td>\n      <td>0.004</td>\n      <td>0.001</td>\n      <td>-0.033</td>\n    </tr>\n    <tr>\n      <td>1</td>\n      <td>-0.028</td>\n      <td>-0.051</td>\n      <td>0.012</td>\n      <td>0.022</td>\n    </tr>\n    <tr>\n      <td>2</td>\n      <td>0.005</td>\n      <td>0.002</td>\n      <td>-0.014</td>\n      <td>-0.054</td>\n    </tr>\n    <tr>\n      <td>3</td>\n      <td>-0.010</td>\n      <td>0.056</td>\n      <td>-0.011</td>\n      <td>-0.001</td>\n    </tr>\n    <tr>\n      <td>4</td>\n      <td>0.000</td>\n      <td>0.040</td>\n      <td>0.006</td>\n      <td>0.034</td>\n    </tr>\n    <tr>\n      <td>...</td>\n      <td>...</td>\n      <td>...</td>\n      <td>...</td>\n      <td>...</td>\n    </tr>\n    <tr>\n      <td>145</td>\n      <td>-0.040</td>\n      <td>-0.066</td>\n      <td>-0.006</td>\n      <td>-0.005</td>\n    </tr>\n    <tr>\n      <td>146</td>\n      <td>0.000</td>\n      <td>0.021</td>\n      <td>-0.010</td>\n      <td>0.018</td>\n    </tr>\n    <tr>\n      <td>147</td>\n      <td>0.038</td>\n      <td>-0.027</td>\n      <td>-0.010</td>\n      <td>-0.001</td>\n    </tr>\n    <tr>\n      <td>148</td>\n      <td>0.021</td>\n      <td>0.013</td>\n      <td>-0.002</td>\n      <td>0.012</td>\n    </tr>\n    <tr>\n      <td>149</td>\n      <td>0.003</td>\n      <td>-0.025</td>\n      <td>-0.003</td>\n      <td>0.006</td>\n    </tr>\n  </tbody>\n</table>\n<p>150 rows × 4 columns</p>\n</div>",
      "text/plain": "     efg_diff  fta_dff  tov_diff  oreb_diff\n0       0.005    0.004     0.001     -0.033\n1      -0.028   -0.051     0.012      0.022\n2       0.005    0.002    -0.014     -0.054\n3      -0.010    0.056    -0.011     -0.001\n4       0.000    0.040     0.006      0.034\n..        ...      ...       ...        ...\n145    -0.040   -0.066    -0.006     -0.005\n146     0.000    0.021    -0.010      0.018\n147     0.038   -0.027    -0.010     -0.001\n148     0.021    0.013    -0.002      0.012\n149     0.003   -0.025    -0.003      0.006\n\n[150 rows x 4 columns]"
     },
     "execution_count": 101,
     "metadata": {},
     "output_type": "execute_result"
    }
   ],
   "source": [
    "train_df[train_df.columns[32:36]]"
   ]
  },
  {
   "cell_type": "code",
   "execution_count": 102,
   "metadata": {},
   "outputs": [],
   "source": [
    "train_diffs_df = pd.concat([train_df.TEAM_NAME, train_df[train_df.columns[32:36]]], axis=1)"
   ]
  },
  {
   "cell_type": "code",
   "execution_count": 103,
   "metadata": {},
   "outputs": [
    {
     "data": {
      "text/html": "<div>\n<style scoped>\n    .dataframe tbody tr th:only-of-type {\n        vertical-align: middle;\n    }\n\n    .dataframe tbody tr th {\n        vertical-align: top;\n    }\n\n    .dataframe thead th {\n        text-align: right;\n    }\n</style>\n<table border=\"1\" class=\"dataframe\">\n  <thead>\n    <tr style=\"text-align: right;\">\n      <th></th>\n      <th>TEAM_NAME</th>\n      <th>efg_diff</th>\n      <th>fta_dff</th>\n      <th>tov_diff</th>\n      <th>oreb_diff</th>\n    </tr>\n  </thead>\n  <tbody>\n    <tr>\n      <td>150</td>\n      <td>Atlanta Hawks</td>\n      <td>-0.019</td>\n      <td>-0.058</td>\n      <td>0.019</td>\n      <td>0.002</td>\n    </tr>\n    <tr>\n      <td>151</td>\n      <td>Boston Celtics</td>\n      <td>0.020</td>\n      <td>-0.044</td>\n      <td>-0.023</td>\n      <td>-0.015</td>\n    </tr>\n    <tr>\n      <td>152</td>\n      <td>Brooklyn Nets</td>\n      <td>0.008</td>\n      <td>0.037</td>\n      <td>0.015</td>\n      <td>0.002</td>\n    </tr>\n    <tr>\n      <td>153</td>\n      <td>Charlotte Hornets</td>\n      <td>-0.024</td>\n      <td>0.030</td>\n      <td>-0.013</td>\n      <td>-0.001</td>\n    </tr>\n    <tr>\n      <td>154</td>\n      <td>Chicago Bulls</td>\n      <td>-0.036</td>\n      <td>-0.012</td>\n      <td>0.008</td>\n      <td>-0.031</td>\n    </tr>\n  </tbody>\n</table>\n</div>",
      "text/plain": "             TEAM_NAME  efg_diff  fta_dff  tov_diff  oreb_diff\n150      Atlanta Hawks    -0.019   -0.058     0.019      0.002\n151     Boston Celtics     0.020   -0.044    -0.023     -0.015\n152      Brooklyn Nets     0.008    0.037     0.015      0.002\n153  Charlotte Hornets    -0.024    0.030    -0.013     -0.001\n154      Chicago Bulls    -0.036   -0.012     0.008     -0.031"
     },
     "execution_count": 103,
     "metadata": {},
     "output_type": "execute_result"
    }
   ],
   "source": [
    "pred_df = calc_diffs(pred_df)\n",
    "pred_diffs_df = pd.concat([pred_df.TEAM_NAME, pred_df[pred_df.columns[32:36]]], axis=1)\n",
    "pred_diffs_df.head()"
   ]
  },
  {
   "cell_type": "code",
   "execution_count": 108,
   "metadata": {},
   "outputs": [],
   "source": [
    "# Build linear model on training set\n",
    "X = train_diffs_df[train_diffs_df.columns[1:5]]\n",
    "y = train_df.W\n",
    "\n",
    "lm = LinearRegression().fit(X, y)"
   ]
  },
  {
   "cell_type": "code",
   "execution_count": 110,
   "metadata": {},
   "outputs": [
    {
     "data": {
      "text/plain": "0.92741211061182"
     },
     "execution_count": 110,
     "metadata": {},
     "output_type": "execute_result"
    }
   ],
   "source": [
    "lm.score(X, y)"
   ]
  },
  {
   "cell_type": "code",
   "execution_count": 111,
   "metadata": {},
   "outputs": [
    {
     "data": {
      "text/plain": "array([ 400.42914413,   40.45751522, -301.82409904,  132.0680544 ])"
     },
     "execution_count": 111,
     "metadata": {},
     "output_type": "execute_result"
    }
   ],
   "source": [
    "lm.coef_"
   ]
  },
  {
   "cell_type": "code",
   "execution_count": 112,
   "metadata": {},
   "outputs": [
    {
     "data": {
      "text/plain": "41.02142344932989"
     },
     "execution_count": 112,
     "metadata": {},
     "output_type": "execute_result"
    }
   ],
   "source": [
    "lm.intercept_"
   ]
  },
  {
   "cell_type": "code",
   "execution_count": 116,
   "metadata": {},
   "outputs": [
    {
     "data": {
      "text/plain": "0.9131524503804093"
     },
     "execution_count": 116,
     "metadata": {},
     "output_type": "execute_result"
    }
   ],
   "source": [
    "X_pred = pred_diffs_df[pred_diffs_df.columns[1:5]]\n",
    "y_pred = pred_df.W\n",
    "lm.score(X_pred, y_pred)"
   ]
  },
  {
   "cell_type": "code",
   "execution_count": 117,
   "metadata": {},
   "outputs": [
    {
     "data": {
      "text/html": "<div>\n<style scoped>\n    .dataframe tbody tr th:only-of-type {\n        vertical-align: middle;\n    }\n\n    .dataframe tbody tr th {\n        vertical-align: top;\n    }\n\n    .dataframe thead th {\n        text-align: right;\n    }\n</style>\n<table border=\"1\" class=\"dataframe\">\n  <thead>\n    <tr style=\"text-align: right;\">\n      <th></th>\n      <th>TEAM_NAME</th>\n      <th>efg_diff</th>\n      <th>fta_dff</th>\n      <th>tov_diff</th>\n      <th>oreb_diff</th>\n    </tr>\n  </thead>\n  <tbody>\n    <tr>\n      <td>174</td>\n      <td>Portland Trail Blazers</td>\n      <td>0.012</td>\n      <td>0.005</td>\n      <td>0.014</td>\n      <td>0.047</td>\n    </tr>\n  </tbody>\n</table>\n</div>",
      "text/plain": "                  TEAM_NAME  efg_diff  fta_dff  tov_diff  oreb_diff\n174  Portland Trail Blazers     0.012    0.005     0.014      0.047"
     },
     "execution_count": 117,
     "metadata": {},
     "output_type": "execute_result"
    }
   ],
   "source": [
    "pred_diffs_df[pred_diffs_df.TEAM_NAME == 'Portland Trail Blazers']"
   ]
  },
  {
   "cell_type": "code",
   "execution_count": 119,
   "metadata": {},
   "outputs": [
    {
     "data": {
      "text/html": "<div>\n<style scoped>\n    .dataframe tbody tr th:only-of-type {\n        vertical-align: middle;\n    }\n\n    .dataframe tbody tr th {\n        vertical-align: top;\n    }\n\n    .dataframe thead th {\n        text-align: right;\n    }\n</style>\n<table border=\"1\" class=\"dataframe\">\n  <thead>\n    <tr style=\"text-align: right;\">\n      <th></th>\n      <th>Unnamed: 0</th>\n      <th>TEAM_ID</th>\n      <th>TEAM_NAME</th>\n      <th>GP</th>\n      <th>W</th>\n      <th>L</th>\n      <th>W_PCT</th>\n      <th>MIN</th>\n      <th>EFG_PCT</th>\n      <th>FTA_RATE</th>\n      <th>...</th>\n      <th>OPP_FTA_RATE_RANK</th>\n      <th>OPP_TOV_PCT_RANK</th>\n      <th>OPP_OREB_PCT_RANK</th>\n      <th>CFID</th>\n      <th>CFPARAMS</th>\n      <th>season</th>\n      <th>efg_diff</th>\n      <th>fta_dff</th>\n      <th>tov_diff</th>\n      <th>oreb_diff</th>\n    </tr>\n  </thead>\n  <tbody>\n    <tr>\n      <td>174</td>\n      <td>24</td>\n      <td>1610612757</td>\n      <td>Portland Trail Blazers</td>\n      <td>82</td>\n      <td>53</td>\n      <td>29</td>\n      <td>0.646</td>\n      <td>3971.0</td>\n      <td>0.528</td>\n      <td>0.258</td>\n      <td>...</td>\n      <td>14</td>\n      <td>29</td>\n      <td>8</td>\n      <td>10</td>\n      <td>Portland Trail Blazers</td>\n      <td>2018-19</td>\n      <td>0.012</td>\n      <td>0.005</td>\n      <td>0.014</td>\n      <td>0.047</td>\n    </tr>\n  </tbody>\n</table>\n<p>1 rows × 36 columns</p>\n</div>",
      "text/plain": "     Unnamed: 0     TEAM_ID               TEAM_NAME  GP   W   L  W_PCT  \\\n174          24  1610612757  Portland Trail Blazers  82  53  29  0.646   \n\n        MIN  EFG_PCT  FTA_RATE  ...  OPP_FTA_RATE_RANK  OPP_TOV_PCT_RANK  \\\n174  3971.0    0.528     0.258  ...                 14                29   \n\n     OPP_OREB_PCT_RANK  CFID                CFPARAMS   season  efg_diff  \\\n174                  8    10  Portland Trail Blazers  2018-19     0.012   \n\n     fta_dff  tov_diff  oreb_diff  \n174    0.005     0.014      0.047  \n\n[1 rows x 36 columns]"
     },
     "execution_count": 119,
     "metadata": {},
     "output_type": "execute_result"
    }
   ],
   "source": [
    "pred_df[pred_df.TEAM_NAME == 'Portland Trail Blazers']"
   ]
  },
  {
   "cell_type": "code",
   "execution_count": 118,
   "metadata": {},
   "outputs": [
    {
     "name": "stdout",
     "output_type": "stream",
     "text": "48.14258997955039\n"
    }
   ],
   "source": [
    "# Esimated number of wins based on four factors model\n",
    "print(lm.intercept_ + lm.coef_[0] * 0.012 + lm.coef_[1] * 0.005 + lm.coef_[2] * 0.014 +\n",
    "        lm.coef_[3] * 0.048)"
   ]
  },
  {
   "cell_type": "markdown",
   "metadata": {},
   "source": [
    "# Question 3"
   ]
  },
  {
   "cell_type": "code",
   "execution_count": null,
   "metadata": {},
   "outputs": [],
   "source": [
    "# Offensive Players"
   ]
  },
  {
   "cell_type": "code",
   "execution_count": null,
   "metadata": {},
   "outputs": [],
   "source": [
    "# Defensive Players"
   ]
  },
  {
   "cell_type": "markdown",
   "metadata": {},
   "source": [
    "# Question 4"
   ]
  },
  {
   "cell_type": "code",
   "execution_count": null,
   "metadata": {},
   "outputs": [],
   "source": []
  }
 ]
}