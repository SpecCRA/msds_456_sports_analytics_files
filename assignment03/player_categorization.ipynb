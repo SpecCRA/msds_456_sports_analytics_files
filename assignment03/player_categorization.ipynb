{
 "nbformat": 4,
 "nbformat_minor": 2,
 "metadata": {
  "language_info": {
   "name": "python",
   "codemirror_mode": {
    "name": "ipython",
    "version": 3
   },
   "version": "3.7.4-final"
  },
  "orig_nbformat": 2,
  "file_extension": ".py",
  "mimetype": "text/x-python",
  "name": "python",
  "npconvert_exporter": "python",
  "pygments_lexer": "ipython3",
  "version": 3,
  "kernelspec": {
   "name": "python37464bitbaseconda1e0c91686aae43d9a876dfdafaecff22",
   "display_name": "Python 3.7.4 64-bit ('base': conda)"
  }
 },
 "cells": [
  {
   "cell_type": "markdown",
   "metadata": {},
   "source": [
    "# Setup"
   ]
  },
  {
   "cell_type": "code",
   "execution_count": 2,
   "metadata": {},
   "outputs": [],
   "source": [
    "import pandas as pd\n",
    "import numpy as np\n"
   ]
  },
  {
   "cell_type": "markdown",
   "metadata": {},
   "source": [
    "# Import data"
   ]
  },
  {
   "cell_type": "code",
   "execution_count": 3,
   "metadata": {},
   "outputs": [
    {
     "data": {
      "text/html": "<div>\n<style scoped>\n    .dataframe tbody tr th:only-of-type {\n        vertical-align: middle;\n    }\n\n    .dataframe tbody tr th {\n        vertical-align: top;\n    }\n\n    .dataframe thead th {\n        text-align: right;\n    }\n</style>\n<table border=\"1\" class=\"dataframe\">\n  <thead>\n    <tr style=\"text-align: right;\">\n      <th></th>\n      <th>Unnamed: 0</th>\n      <th>PLAYER_ID</th>\n      <th>PLAYER_NAME</th>\n      <th>TEAM_ID</th>\n      <th>TEAM_ABBREVIATION</th>\n      <th>AGE</th>\n      <th>GP</th>\n      <th>W</th>\n      <th>L</th>\n      <th>W_PCT</th>\n      <th>...</th>\n      <th>PCT_PTS_FB</th>\n      <th>PCT_PTS_FT</th>\n      <th>PCT_PTS_OFF_TOV</th>\n      <th>PCT_PTS_PAINT</th>\n      <th>PCT_AST_2PM</th>\n      <th>PCT_UAST_2PM</th>\n      <th>PCT_AST_3PM</th>\n      <th>PCT_UAST_3PM</th>\n      <th>PCT_AST_FGM</th>\n      <th>PCT_UAST_FGM</th>\n    </tr>\n  </thead>\n  <tbody>\n    <tr>\n      <td>0</td>\n      <td>0</td>\n      <td>201985</td>\n      <td>AJ Price</td>\n      <td>1610612750</td>\n      <td>MIN</td>\n      <td>27.0</td>\n      <td>28</td>\n      <td>15</td>\n      <td>13</td>\n      <td>0.536</td>\n      <td>...</td>\n      <td>0.114</td>\n      <td>0.000</td>\n      <td>0.114</td>\n      <td>0.182</td>\n      <td>0.231</td>\n      <td>0.769</td>\n      <td>0.833</td>\n      <td>0.167</td>\n      <td>0.421</td>\n      <td>0.579</td>\n    </tr>\n    <tr>\n      <td>1</td>\n      <td>1</td>\n      <td>201985</td>\n      <td>AJ Price</td>\n      <td>1610612750</td>\n      <td>MIN</td>\n      <td>27.0</td>\n      <td>28</td>\n      <td>15</td>\n      <td>13</td>\n      <td>0.536</td>\n      <td>...</td>\n      <td>0.038</td>\n      <td>0.120</td>\n      <td>0.211</td>\n      <td>0.226</td>\n      <td>0.111</td>\n      <td>0.889</td>\n      <td>0.667</td>\n      <td>0.333</td>\n      <td>0.275</td>\n      <td>0.725</td>\n    </tr>\n    <tr>\n      <td>2</td>\n      <td>2</td>\n      <td>201985</td>\n      <td>AJ Price</td>\n      <td>1610612750</td>\n      <td>MIN</td>\n      <td>27.0</td>\n      <td>28</td>\n      <td>15</td>\n      <td>13</td>\n      <td>0.536</td>\n      <td>...</td>\n      <td>0.114</td>\n      <td>0.000</td>\n      <td>0.114</td>\n      <td>0.182</td>\n      <td>0.231</td>\n      <td>0.769</td>\n      <td>0.833</td>\n      <td>0.167</td>\n      <td>0.421</td>\n      <td>0.579</td>\n    </tr>\n    <tr>\n      <td>3</td>\n      <td>3</td>\n      <td>201985</td>\n      <td>AJ Price</td>\n      <td>1610612750</td>\n      <td>MIN</td>\n      <td>27.0</td>\n      <td>28</td>\n      <td>15</td>\n      <td>13</td>\n      <td>0.536</td>\n      <td>...</td>\n      <td>0.038</td>\n      <td>0.120</td>\n      <td>0.211</td>\n      <td>0.226</td>\n      <td>0.111</td>\n      <td>0.889</td>\n      <td>0.667</td>\n      <td>0.333</td>\n      <td>0.275</td>\n      <td>0.725</td>\n    </tr>\n    <tr>\n      <td>4</td>\n      <td>4</td>\n      <td>201166</td>\n      <td>Aaron Brooks</td>\n      <td>1610612743</td>\n      <td>DEN</td>\n      <td>29.0</td>\n      <td>72</td>\n      <td>42</td>\n      <td>30</td>\n      <td>0.583</td>\n      <td>...</td>\n      <td>0.109</td>\n      <td>0.129</td>\n      <td>0.138</td>\n      <td>0.326</td>\n      <td>0.139</td>\n      <td>0.861</td>\n      <td>0.698</td>\n      <td>0.302</td>\n      <td>0.369</td>\n      <td>0.631</td>\n    </tr>\n  </tbody>\n</table>\n<p>5 rows × 100 columns</p>\n</div>",
      "text/plain": "   Unnamed: 0  PLAYER_ID   PLAYER_NAME     TEAM_ID TEAM_ABBREVIATION   AGE  \\\n0           0     201985      AJ Price  1610612750               MIN  27.0   \n1           1     201985      AJ Price  1610612750               MIN  27.0   \n2           2     201985      AJ Price  1610612750               MIN  27.0   \n3           3     201985      AJ Price  1610612750               MIN  27.0   \n4           4     201166  Aaron Brooks  1610612743               DEN  29.0   \n\n   GP   W   L  W_PCT  ...  PCT_PTS_FB  PCT_PTS_FT  PCT_PTS_OFF_TOV  \\\n0  28  15  13  0.536  ...       0.114       0.000            0.114   \n1  28  15  13  0.536  ...       0.038       0.120            0.211   \n2  28  15  13  0.536  ...       0.114       0.000            0.114   \n3  28  15  13  0.536  ...       0.038       0.120            0.211   \n4  72  42  30  0.583  ...       0.109       0.129            0.138   \n\n   PCT_PTS_PAINT  PCT_AST_2PM  PCT_UAST_2PM  PCT_AST_3PM  PCT_UAST_3PM  \\\n0          0.182        0.231         0.769        0.833         0.167   \n1          0.226        0.111         0.889        0.667         0.333   \n2          0.182        0.231         0.769        0.833         0.167   \n3          0.226        0.111         0.889        0.667         0.333   \n4          0.326        0.139         0.861        0.698         0.302   \n\n   PCT_AST_FGM  PCT_UAST_FGM  \n0        0.421         0.579  \n1        0.275         0.725  \n2        0.421         0.579  \n3        0.275         0.725  \n4        0.369         0.631  \n\n[5 rows x 100 columns]"
     },
     "execution_count": 3,
     "metadata": {},
     "output_type": "execute_result"
    }
   ],
   "source": [
    "# offensive data  df\n",
    "offense_filename = './data_files/2013-19_players_assorted_stats.csv'\n",
    "offensive_df = pd.read_csv(offense_filename)\n",
    "offensive_df.head()"
   ]
  },
  {
   "cell_type": "code",
   "execution_count": 4,
   "metadata": {},
   "outputs": [
    {
     "data": {
      "text/html": "<div>\n<style scoped>\n    .dataframe tbody tr th:only-of-type {\n        vertical-align: middle;\n    }\n\n    .dataframe tbody tr th {\n        vertical-align: top;\n    }\n\n    .dataframe thead th {\n        text-align: right;\n    }\n</style>\n<table border=\"1\" class=\"dataframe\">\n  <thead>\n    <tr style=\"text-align: right;\">\n      <th></th>\n      <th>Unnamed: 0</th>\n      <th>CLOSE_DEF_PERSON_ID</th>\n      <th>PLAYER_NAME</th>\n      <th>PLAYER_LAST_TEAM_ID</th>\n      <th>PLAYER_LAST_TEAM_ABBREVIATION</th>\n      <th>PLAYER_POSITION</th>\n      <th>AGE</th>\n      <th>GP</th>\n      <th>G</th>\n      <th>FREQ</th>\n      <th>...</th>\n      <th>FGA_LT_06</th>\n      <th>LT_06_PCT</th>\n      <th>NS_LT_06_PCT</th>\n      <th>PLUSMINUS</th>\n      <th>sesson</th>\n      <th>FG3M</th>\n      <th>FG3A</th>\n      <th>FG3_PCT</th>\n      <th>NS_FG3_PCT</th>\n      <th>6FT_PLUSMINUS</th>\n    </tr>\n  </thead>\n  <tbody>\n    <tr>\n      <td>0</td>\n      <td>0</td>\n      <td>201577</td>\n      <td>Robin Lopez</td>\n      <td>1610612757</td>\n      <td>POR</td>\n      <td>C</td>\n      <td>26.0</td>\n      <td>82</td>\n      <td>82</td>\n      <td>0.488</td>\n      <td>...</td>\n      <td>7.83</td>\n      <td>0.467</td>\n      <td>0.594</td>\n      <td>-0.127</td>\n      <td>2013-14</td>\n      <td>0.34</td>\n      <td>1.10</td>\n      <td>0.311</td>\n      <td>0.342</td>\n      <td>-0.031</td>\n    </tr>\n    <tr>\n      <td>1</td>\n      <td>1</td>\n      <td>201577</td>\n      <td>Robin Lopez</td>\n      <td>1610612757</td>\n      <td>POR</td>\n      <td>C</td>\n      <td>26.0</td>\n      <td>82</td>\n      <td>82</td>\n      <td>0.488</td>\n      <td>...</td>\n      <td>7.83</td>\n      <td>0.467</td>\n      <td>0.594</td>\n      <td>-0.127</td>\n      <td>2013-14</td>\n      <td>0.32</td>\n      <td>0.90</td>\n      <td>0.358</td>\n      <td>0.315</td>\n      <td>0.044</td>\n    </tr>\n    <tr>\n      <td>2</td>\n      <td>2</td>\n      <td>201577</td>\n      <td>Robin Lopez</td>\n      <td>1610612757</td>\n      <td>POR</td>\n      <td>C</td>\n      <td>26.0</td>\n      <td>82</td>\n      <td>82</td>\n      <td>0.488</td>\n      <td>...</td>\n      <td>7.83</td>\n      <td>0.467</td>\n      <td>0.594</td>\n      <td>-0.127</td>\n      <td>2013-14</td>\n      <td>0.43</td>\n      <td>1.14</td>\n      <td>0.380</td>\n      <td>0.342</td>\n      <td>0.039</td>\n    </tr>\n    <tr>\n      <td>3</td>\n      <td>3</td>\n      <td>201577</td>\n      <td>Robin Lopez</td>\n      <td>1610612757</td>\n      <td>POR</td>\n      <td>C</td>\n      <td>26.0</td>\n      <td>82</td>\n      <td>82</td>\n      <td>0.488</td>\n      <td>...</td>\n      <td>7.83</td>\n      <td>0.467</td>\n      <td>0.594</td>\n      <td>-0.127</td>\n      <td>2013-14</td>\n      <td>0.83</td>\n      <td>1.99</td>\n      <td>0.416</td>\n      <td>0.359</td>\n      <td>0.057</td>\n    </tr>\n    <tr>\n      <td>4</td>\n      <td>4</td>\n      <td>201577</td>\n      <td>Robin Lopez</td>\n      <td>1610612757</td>\n      <td>POR</td>\n      <td>C</td>\n      <td>26.0</td>\n      <td>82</td>\n      <td>82</td>\n      <td>0.488</td>\n      <td>...</td>\n      <td>7.83</td>\n      <td>0.467</td>\n      <td>0.594</td>\n      <td>-0.127</td>\n      <td>2013-14</td>\n      <td>0.78</td>\n      <td>2.13</td>\n      <td>0.366</td>\n      <td>0.362</td>\n      <td>0.003</td>\n    </tr>\n  </tbody>\n</table>\n<p>5 rows × 21 columns</p>\n</div>",
      "text/plain": "   Unnamed: 0  CLOSE_DEF_PERSON_ID  PLAYER_NAME  PLAYER_LAST_TEAM_ID  \\\n0           0               201577  Robin Lopez           1610612757   \n1           1               201577  Robin Lopez           1610612757   \n2           2               201577  Robin Lopez           1610612757   \n3           3               201577  Robin Lopez           1610612757   \n4           4               201577  Robin Lopez           1610612757   \n\n  PLAYER_LAST_TEAM_ABBREVIATION PLAYER_POSITION   AGE  GP   G   FREQ  ...  \\\n0                           POR               C  26.0  82  82  0.488  ...   \n1                           POR               C  26.0  82  82  0.488  ...   \n2                           POR               C  26.0  82  82  0.488  ...   \n3                           POR               C  26.0  82  82  0.488  ...   \n4                           POR               C  26.0  82  82  0.488  ...   \n\n   FGA_LT_06  LT_06_PCT  NS_LT_06_PCT  PLUSMINUS   sesson  FG3M  FG3A  \\\n0       7.83      0.467         0.594     -0.127  2013-14  0.34  1.10   \n1       7.83      0.467         0.594     -0.127  2013-14  0.32  0.90   \n2       7.83      0.467         0.594     -0.127  2013-14  0.43  1.14   \n3       7.83      0.467         0.594     -0.127  2013-14  0.83  1.99   \n4       7.83      0.467         0.594     -0.127  2013-14  0.78  2.13   \n\n   FG3_PCT  NS_FG3_PCT  6FT_PLUSMINUS  \n0    0.311       0.342         -0.031  \n1    0.358       0.315          0.044  \n2    0.380       0.342          0.039  \n3    0.416       0.359          0.057  \n4    0.366       0.362          0.003  \n\n[5 rows x 21 columns]"
     },
     "execution_count": 4,
     "metadata": {},
     "output_type": "execute_result"
    }
   ],
   "source": [
    "# defensive data df\n",
    "defensive_filename = './data_files/2013-19_shot_defenses.csv'\n",
    "defensive_df = pd.read_csv(defensive_filename)\n",
    "defensive_df.head()"
   ]
  },
  {
   "cell_type": "markdown",
   "metadata": {},
   "source": [
    "# Offensive Players"
   ]
  },
  {
   "cell_type": "markdown",
   "metadata": {},
   "source": [
    "# Defensive Players"
   ]
  }
 ]
}