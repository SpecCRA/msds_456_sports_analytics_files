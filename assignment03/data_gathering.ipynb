{
 "nbformat": 4,
 "nbformat_minor": 2,
 "metadata": {
  "language_info": {
   "name": "python",
   "codemirror_mode": {
    "name": "ipython",
    "version": 3
   },
   "version": "3.7.4-final"
  },
  "orig_nbformat": 2,
  "file_extension": ".py",
  "mimetype": "text/x-python",
  "name": "python",
  "npconvert_exporter": "python",
  "pygments_lexer": "ipython3",
  "version": 3,
  "kernelspec": {
   "name": "python37464bitbaseconda1e0c91686aae43d9a876dfdafaecff22",
   "display_name": "Python 3.7.4 64-bit ('base': conda)"
  }
 },
 "cells": [
  {
   "cell_type": "markdown",
   "metadata": {},
   "source": [
    "# Setup"
   ]
  },
  {
   "cell_type": "code",
   "execution_count": 2,
   "metadata": {},
   "outputs": [],
   "source": [
    "import pandas as pd\n",
    "import numpy as np\n",
    "from nba_api.stats.static import players\n",
    "from nba_api.stats.static import teams\n",
    "from functools import partial"
   ]
  },
  {
   "cell_type": "code",
   "execution_count": 3,
   "metadata": {},
   "outputs": [],
   "source": [
    "from nba_api.stats.endpoints import LeagueDashPlayerStats"
   ]
  },
  {
   "cell_type": "code",
   "execution_count": 4,
   "metadata": {},
   "outputs": [],
   "source": [
    "# Import scikit-learn modules"
   ]
  },
  {
   "cell_type": "markdown",
   "metadata": {},
   "source": [
    "# Global Variables"
   ]
  },
  {
   "cell_type": "code",
   "execution_count": 5,
   "metadata": {},
   "outputs": [],
   "source": [
    "seasons = ['2013-14', '2014-15', '2015-16', '2016-17', '2017-18', '2018-19']\n",
    "curr_season = '2019-20'\n",
    "all_teams = teams.get_teams()\n",
    "all_players = players.get_players()\n",
    "active_players = players.get_active_players()"
   ]
  },
  {
   "cell_type": "markdown",
   "metadata": {},
   "source": [
    "# Data Gathering"
   ]
  },
  {
   "cell_type": "markdown",
   "metadata": {},
   "source": [
    "## Four Factor Data Gathering (Team data)\n",
    "\n",
    "### OFFENSE\n",
    "1. Effective field goal percentage\n",
    "2. Turnovers per possession\n",
    "3. Offensive rebounding percentage\n",
    "4. Free throw rate\n",
    "\n",
    "### DEFENSE\n",
    "1. Opponent's EFG\n",
    "2. Defensive turnovers caused per possession\n",
    "3. Defensive rebounding rate\n",
    "4. Opponent's free throw rate\n",
    "\n",
    "2013-17: training\n",
    "2018-19: test\n",
    "current season: prediction"
   ]
  },
  {
   "cell_type": "code",
   "execution_count": 20,
   "metadata": {},
   "outputs": [],
   "source": [
    "from nba_api.stats.endpoints import LeagueDashTeamStats"
   ]
  },
  {
   "cell_type": "code",
   "execution_count": 21,
   "metadata": {},
   "outputs": [],
   "source": [
    "def get_team_ff(out_df, in_season):\n",
    "    df = LeagueDashTeamStats(season=in_season,\n",
    "                                measure_type_detailed_defense= 'Four Factors').get_data_frames()[0]\n",
    "\n",
    "    df['season'] = in_season\n",
    "    out_df = pd.concat([out_df, df])\n",
    "    return out_df"
   ]
  },
  {
   "cell_type": "code",
   "execution_count": 14,
   "metadata": {},
   "outputs": [],
   "source": [
    "team_ff_df = pd.DataFrame()\n",
    "\n",
    "for season in seasons:\n",
    "    team_ff_df = get_team_ff(team_ff_df, season)"
   ]
  },
  {
   "cell_type": "code",
   "execution_count": 107,
   "metadata": {},
   "outputs": [
    {
     "data": {
      "text/html": "<div>\n<style scoped>\n    .dataframe tbody tr th:only-of-type {\n        vertical-align: middle;\n    }\n\n    .dataframe tbody tr th {\n        vertical-align: top;\n    }\n\n    .dataframe thead th {\n        text-align: right;\n    }\n</style>\n<table border=\"1\" class=\"dataframe\">\n  <thead>\n    <tr style=\"text-align: right;\">\n      <th></th>\n      <th>TEAM_ID</th>\n      <th>TEAM_NAME</th>\n      <th>GP</th>\n      <th>W</th>\n      <th>L</th>\n      <th>W_PCT</th>\n      <th>MIN</th>\n      <th>EFG_PCT</th>\n      <th>FTA_RATE</th>\n      <th>TM_TOV_PCT</th>\n      <th>...</th>\n      <th>FTA_RATE_RANK</th>\n      <th>TM_TOV_PCT_RANK</th>\n      <th>OREB_PCT_RANK</th>\n      <th>OPP_EFG_PCT_RANK</th>\n      <th>OPP_FTA_RATE_RANK</th>\n      <th>OPP_TOV_PCT_RANK</th>\n      <th>OPP_OREB_PCT_RANK</th>\n      <th>CFID</th>\n      <th>CFPARAMS</th>\n      <th>season</th>\n    </tr>\n  </thead>\n  <tbody>\n    <tr>\n      <td>0</td>\n      <td>1610612737</td>\n      <td>Atlanta Hawks</td>\n      <td>82</td>\n      <td>38</td>\n      <td>44</td>\n      <td>0.463</td>\n      <td>3966.0</td>\n      <td>0.515</td>\n      <td>0.266</td>\n      <td>0.159</td>\n      <td>...</td>\n      <td>21</td>\n      <td>21</td>\n      <td>28</td>\n      <td>19</td>\n      <td>9</td>\n      <td>9</td>\n      <td>13</td>\n      <td>10</td>\n      <td>Atlanta Hawks</td>\n      <td>2013-14</td>\n    </tr>\n    <tr>\n      <td>1</td>\n      <td>1610612738</td>\n      <td>Boston Celtics</td>\n      <td>82</td>\n      <td>25</td>\n      <td>57</td>\n      <td>0.305</td>\n      <td>3946.0</td>\n      <td>0.477</td>\n      <td>0.248</td>\n      <td>0.163</td>\n      <td>...</td>\n      <td>25</td>\n      <td>28</td>\n      <td>7</td>\n      <td>16</td>\n      <td>19</td>\n      <td>18</td>\n      <td>16</td>\n      <td>10</td>\n      <td>Boston Celtics</td>\n      <td>2013-14</td>\n    </tr>\n    <tr>\n      <td>2</td>\n      <td>1610612751</td>\n      <td>Brooklyn Nets</td>\n      <td>82</td>\n      <td>44</td>\n      <td>38</td>\n      <td>0.537</td>\n      <td>3976.0</td>\n      <td>0.514</td>\n      <td>0.313</td>\n      <td>0.155</td>\n      <td>...</td>\n      <td>5</td>\n      <td>16</td>\n      <td>27</td>\n      <td>18</td>\n      <td>25</td>\n      <td>2</td>\n      <td>26</td>\n      <td>10</td>\n      <td>Brooklyn Nets</td>\n      <td>2013-14</td>\n    </tr>\n    <tr>\n      <td>3</td>\n      <td>1610612766</td>\n      <td>Charlotte Bobcats</td>\n      <td>82</td>\n      <td>43</td>\n      <td>39</td>\n      <td>0.524</td>\n      <td>3981.0</td>\n      <td>0.481</td>\n      <td>0.297</td>\n      <td>0.131</td>\n      <td>...</td>\n      <td>10</td>\n      <td>1</td>\n      <td>24</td>\n      <td>9</td>\n      <td>2</td>\n      <td>28</td>\n      <td>1</td>\n      <td>10</td>\n      <td>Charlotte Bobcats</td>\n      <td>2013-14</td>\n    </tr>\n    <tr>\n      <td>4</td>\n      <td>1610612741</td>\n      <td>Chicago Bulls</td>\n      <td>82</td>\n      <td>48</td>\n      <td>34</td>\n      <td>0.585</td>\n      <td>3986.0</td>\n      <td>0.471</td>\n      <td>0.290</td>\n      <td>0.162</td>\n      <td>...</td>\n      <td>14</td>\n      <td>27</td>\n      <td>3</td>\n      <td>2</td>\n      <td>4</td>\n      <td>13</td>\n      <td>12</td>\n      <td>10</td>\n      <td>Chicago Bulls</td>\n      <td>2013-14</td>\n    </tr>\n  </tbody>\n</table>\n<p>5 rows × 31 columns</p>\n</div>",
      "text/plain": "      TEAM_ID          TEAM_NAME  GP   W   L  W_PCT     MIN  EFG_PCT  \\\n0  1610612737      Atlanta Hawks  82  38  44  0.463  3966.0    0.515   \n1  1610612738     Boston Celtics  82  25  57  0.305  3946.0    0.477   \n2  1610612751      Brooklyn Nets  82  44  38  0.537  3976.0    0.514   \n3  1610612766  Charlotte Bobcats  82  43  39  0.524  3981.0    0.481   \n4  1610612741      Chicago Bulls  82  48  34  0.585  3986.0    0.471   \n\n   FTA_RATE  TM_TOV_PCT  ...  FTA_RATE_RANK  TM_TOV_PCT_RANK  OREB_PCT_RANK  \\\n0     0.266       0.159  ...             21               21             28   \n1     0.248       0.163  ...             25               28              7   \n2     0.313       0.155  ...              5               16             27   \n3     0.297       0.131  ...             10                1             24   \n4     0.290       0.162  ...             14               27              3   \n\n   OPP_EFG_PCT_RANK  OPP_FTA_RATE_RANK  OPP_TOV_PCT_RANK  OPP_OREB_PCT_RANK  \\\n0                19                  9                 9                 13   \n1                16                 19                18                 16   \n2                18                 25                 2                 26   \n3                 9                  2                28                  1   \n4                 2                  4                13                 12   \n\n   CFID           CFPARAMS   season  \n0    10      Atlanta Hawks  2013-14  \n1    10     Boston Celtics  2013-14  \n2    10      Brooklyn Nets  2013-14  \n3    10  Charlotte Bobcats  2013-14  \n4    10      Chicago Bulls  2013-14  \n\n[5 rows x 31 columns]"
     },
     "execution_count": 107,
     "metadata": {},
     "output_type": "execute_result"
    }
   ],
   "source": [
    "team_ff_df.head()"
   ]
  },
  {
   "cell_type": "code",
   "execution_count": 15,
   "metadata": {},
   "outputs": [],
   "source": [
    "curr_team_ff = pd.DataFrame()\n",
    "curr_team_ff = get_team_ff(curr_team_ff, curr_season)"
   ]
  },
  {
   "cell_type": "code",
   "execution_count": 108,
   "metadata": {},
   "outputs": [
    {
     "data": {
      "text/html": "<div>\n<style scoped>\n    .dataframe tbody tr th:only-of-type {\n        vertical-align: middle;\n    }\n\n    .dataframe tbody tr th {\n        vertical-align: top;\n    }\n\n    .dataframe thead th {\n        text-align: right;\n    }\n</style>\n<table border=\"1\" class=\"dataframe\">\n  <thead>\n    <tr style=\"text-align: right;\">\n      <th></th>\n      <th>TEAM_ID</th>\n      <th>TEAM_NAME</th>\n      <th>GP</th>\n      <th>W</th>\n      <th>L</th>\n      <th>W_PCT</th>\n      <th>MIN</th>\n      <th>EFG_PCT</th>\n      <th>FTA_RATE</th>\n      <th>TM_TOV_PCT</th>\n      <th>...</th>\n      <th>FTA_RATE_RANK</th>\n      <th>TM_TOV_PCT_RANK</th>\n      <th>OREB_PCT_RANK</th>\n      <th>OPP_EFG_PCT_RANK</th>\n      <th>OPP_FTA_RATE_RANK</th>\n      <th>OPP_TOV_PCT_RANK</th>\n      <th>OPP_OREB_PCT_RANK</th>\n      <th>CFID</th>\n      <th>CFPARAMS</th>\n      <th>season</th>\n    </tr>\n  </thead>\n  <tbody>\n    <tr>\n      <td>0</td>\n      <td>1610612737</td>\n      <td>Atlanta Hawks</td>\n      <td>56</td>\n      <td>15</td>\n      <td>41</td>\n      <td>0.268</td>\n      <td>2713.0</td>\n      <td>0.512</td>\n      <td>0.257</td>\n      <td>0.159</td>\n      <td>...</td>\n      <td>15</td>\n      <td>29</td>\n      <td>14</td>\n      <td>24</td>\n      <td>29</td>\n      <td>13</td>\n      <td>28</td>\n      <td>10</td>\n      <td>Atlanta Hawks</td>\n      <td>2019-20</td>\n    </tr>\n    <tr>\n      <td>1</td>\n      <td>1610612738</td>\n      <td>Boston Celtics</td>\n      <td>54</td>\n      <td>38</td>\n      <td>16</td>\n      <td>0.704</td>\n      <td>2607.0</td>\n      <td>0.532</td>\n      <td>0.256</td>\n      <td>0.137</td>\n      <td>...</td>\n      <td>17</td>\n      <td>9</td>\n      <td>10</td>\n      <td>5</td>\n      <td>24</td>\n      <td>5</td>\n      <td>12</td>\n      <td>10</td>\n      <td>Boston Celtics</td>\n      <td>2019-20</td>\n    </tr>\n    <tr>\n      <td>2</td>\n      <td>1610612751</td>\n      <td>Brooklyn Nets</td>\n      <td>53</td>\n      <td>25</td>\n      <td>28</td>\n      <td>0.472</td>\n      <td>2574.0</td>\n      <td>0.516</td>\n      <td>0.264</td>\n      <td>0.152</td>\n      <td>...</td>\n      <td>11</td>\n      <td>25</td>\n      <td>9</td>\n      <td>4</td>\n      <td>8</td>\n      <td>26</td>\n      <td>11</td>\n      <td>10</td>\n      <td>Brooklyn Nets</td>\n      <td>2019-20</td>\n    </tr>\n    <tr>\n      <td>3</td>\n      <td>1610612766</td>\n      <td>Charlotte Hornets</td>\n      <td>54</td>\n      <td>18</td>\n      <td>36</td>\n      <td>0.333</td>\n      <td>2612.0</td>\n      <td>0.503</td>\n      <td>0.249</td>\n      <td>0.152</td>\n      <td>...</td>\n      <td>22</td>\n      <td>24</td>\n      <td>8</td>\n      <td>27</td>\n      <td>1</td>\n      <td>11</td>\n      <td>30</td>\n      <td>10</td>\n      <td>Charlotte Hornets</td>\n      <td>2019-20</td>\n    </tr>\n    <tr>\n      <td>4</td>\n      <td>1610612741</td>\n      <td>Chicago Bulls</td>\n      <td>55</td>\n      <td>19</td>\n      <td>36</td>\n      <td>0.345</td>\n      <td>2655.0</td>\n      <td>0.511</td>\n      <td>0.236</td>\n      <td>0.152</td>\n      <td>...</td>\n      <td>25</td>\n      <td>26</td>\n      <td>21</td>\n      <td>26</td>\n      <td>30</td>\n      <td>1</td>\n      <td>21</td>\n      <td>10</td>\n      <td>Chicago Bulls</td>\n      <td>2019-20</td>\n    </tr>\n  </tbody>\n</table>\n<p>5 rows × 31 columns</p>\n</div>",
      "text/plain": "      TEAM_ID          TEAM_NAME  GP   W   L  W_PCT     MIN  EFG_PCT  \\\n0  1610612737      Atlanta Hawks  56  15  41  0.268  2713.0    0.512   \n1  1610612738     Boston Celtics  54  38  16  0.704  2607.0    0.532   \n2  1610612751      Brooklyn Nets  53  25  28  0.472  2574.0    0.516   \n3  1610612766  Charlotte Hornets  54  18  36  0.333  2612.0    0.503   \n4  1610612741      Chicago Bulls  55  19  36  0.345  2655.0    0.511   \n\n   FTA_RATE  TM_TOV_PCT  ...  FTA_RATE_RANK  TM_TOV_PCT_RANK  OREB_PCT_RANK  \\\n0     0.257       0.159  ...             15               29             14   \n1     0.256       0.137  ...             17                9             10   \n2     0.264       0.152  ...             11               25              9   \n3     0.249       0.152  ...             22               24              8   \n4     0.236       0.152  ...             25               26             21   \n\n   OPP_EFG_PCT_RANK  OPP_FTA_RATE_RANK  OPP_TOV_PCT_RANK  OPP_OREB_PCT_RANK  \\\n0                24                 29                13                 28   \n1                 5                 24                 5                 12   \n2                 4                  8                26                 11   \n3                27                  1                11                 30   \n4                26                 30                 1                 21   \n\n   CFID           CFPARAMS   season  \n0    10      Atlanta Hawks  2019-20  \n1    10     Boston Celtics  2019-20  \n2    10      Brooklyn Nets  2019-20  \n3    10  Charlotte Hornets  2019-20  \n4    10      Chicago Bulls  2019-20  \n\n[5 rows x 31 columns]"
     },
     "execution_count": 108,
     "metadata": {},
     "output_type": "execute_result"
    }
   ],
   "source": [
    "curr_team_ff.head()"
   ]
  },
  {
   "cell_type": "code",
   "execution_count": 17,
   "metadata": {},
   "outputs": [],
   "source": [
    "ff_history_filename = '2013-19_team_ff.csv'\n",
    "ff_curr_filename = '2019-20_team_ff.csv'\n",
    "\n",
    "team_ff_df.to_csv(ff_history_filename)\n",
    "curr_team_ff.to_csv(ff_curr_filename)"
   ]
  },
  {
   "cell_type": "markdown",
   "metadata": {},
   "source": [
    "## Advanced Per 100 Player Stats"
   ]
  },
  {
   "cell_type": "code",
   "execution_count": 6,
   "metadata": {},
   "outputs": [],
   "source": [
    "def get_adv_stats(out_df, in_season):\n",
    "    \"\"\"\n",
    "    This function gathers advanced player data starting from the 2013-14 season\n",
    "    to the 2018-19 season and combines it with the master advanced stats dataframe.\n",
    "    \"\"\"\n",
    "    df = LeagueDashPlayerStats(season = in_season,\n",
    "                                per_mode_detailed='Per100Possessions',\n",
    "                                measure_type_detailed_defense='Advanced').get_data_frames()[0]\n",
    "    df['season'] = in_season\n",
    "    #print(df.head())\n",
    "    out_df = pd.concat([out_df, df])\n",
    "    #print(out_df.head())\n",
    "    return out_df"
   ]
  },
  {
   "cell_type": "code",
   "execution_count": 7,
   "metadata": {},
   "outputs": [],
   "source": [
    "# Create advanced stats dataframe for all seasons\n",
    "players_adv_df = pd.DataFrame()\n",
    "\n",
    "for season in seasons: \n",
    "    players_adv_df = get_adv_stats(players_adv_df, season)"
   ]
  },
  {
   "cell_type": "code",
   "execution_count": 8,
   "metadata": {},
   "outputs": [
    {
     "data": {
      "text/html": "<div>\n<style scoped>\n    .dataframe tbody tr th:only-of-type {\n        vertical-align: middle;\n    }\n\n    .dataframe tbody tr th {\n        vertical-align: top;\n    }\n\n    .dataframe thead th {\n        text-align: right;\n    }\n</style>\n<table border=\"1\" class=\"dataframe\">\n  <thead>\n    <tr style=\"text-align: right;\">\n      <th></th>\n      <th>PLAYER_ID</th>\n      <th>PLAYER_NAME</th>\n      <th>TEAM_ID</th>\n      <th>TEAM_ABBREVIATION</th>\n      <th>AGE</th>\n      <th>GP</th>\n      <th>W</th>\n      <th>L</th>\n      <th>W_PCT</th>\n      <th>MIN</th>\n      <th>...</th>\n      <th>sp_work_PACE_RANK</th>\n      <th>PIE_RANK</th>\n      <th>FGM_RANK</th>\n      <th>FGA_RANK</th>\n      <th>FGM_PG_RANK</th>\n      <th>FGA_PG_RANK</th>\n      <th>FG_PCT_RANK</th>\n      <th>CFID</th>\n      <th>CFPARAMS</th>\n      <th>season</th>\n    </tr>\n  </thead>\n  <tbody>\n    <tr>\n      <td>0</td>\n      <td>201985</td>\n      <td>AJ Price</td>\n      <td>1610612750</td>\n      <td>MIN</td>\n      <td>27.0</td>\n      <td>28</td>\n      <td>15</td>\n      <td>13</td>\n      <td>0.536</td>\n      <td>3.5</td>\n      <td>...</td>\n      <td>25</td>\n      <td>220</td>\n      <td>409</td>\n      <td>410</td>\n      <td>435</td>\n      <td>440</td>\n      <td>336</td>\n      <td>5</td>\n      <td>201985,1610612750</td>\n      <td>2013-14</td>\n    </tr>\n    <tr>\n      <td>1</td>\n      <td>201166</td>\n      <td>Aaron Brooks</td>\n      <td>1610612743</td>\n      <td>DEN</td>\n      <td>29.0</td>\n      <td>72</td>\n      <td>42</td>\n      <td>30</td>\n      <td>0.583</td>\n      <td>21.6</td>\n      <td>...</td>\n      <td>78</td>\n      <td>274</td>\n      <td>172</td>\n      <td>151</td>\n      <td>195</td>\n      <td>165</td>\n      <td>360</td>\n      <td>5</td>\n      <td>201166,1610612743</td>\n      <td>2013-14</td>\n    </tr>\n    <tr>\n      <td>2</td>\n      <td>201189</td>\n      <td>Aaron Gray</td>\n      <td>1610612758</td>\n      <td>SAC</td>\n      <td>29.0</td>\n      <td>37</td>\n      <td>12</td>\n      <td>25</td>\n      <td>0.324</td>\n      <td>9.6</td>\n      <td>...</td>\n      <td>157</td>\n      <td>423</td>\n      <td>395</td>\n      <td>400</td>\n      <td>431</td>\n      <td>438</td>\n      <td>217</td>\n      <td>5</td>\n      <td>201189,1610612758</td>\n      <td>2013-14</td>\n    </tr>\n    <tr>\n      <td>3</td>\n      <td>203519</td>\n      <td>Adonis Thomas</td>\n      <td>1610612755</td>\n      <td>PHI</td>\n      <td>21.0</td>\n      <td>6</td>\n      <td>2</td>\n      <td>4</td>\n      <td>0.333</td>\n      <td>6.3</td>\n      <td>...</td>\n      <td>234</td>\n      <td>433</td>\n      <td>440</td>\n      <td>446</td>\n      <td>397</td>\n      <td>406</td>\n      <td>272</td>\n      <td>5</td>\n      <td>203519,1610612755</td>\n      <td>2013-14</td>\n    </tr>\n    <tr>\n      <td>4</td>\n      <td>1733</td>\n      <td>Al Harrington</td>\n      <td>1610612764</td>\n      <td>WAS</td>\n      <td>34.0</td>\n      <td>34</td>\n      <td>20</td>\n      <td>14</td>\n      <td>0.588</td>\n      <td>15.0</td>\n      <td>...</td>\n      <td>312</td>\n      <td>371</td>\n      <td>305</td>\n      <td>298</td>\n      <td>257</td>\n      <td>229</td>\n      <td>371</td>\n      <td>5</td>\n      <td>1733,1610612764</td>\n      <td>2013-14</td>\n    </tr>\n    <tr>\n      <td>...</td>\n      <td>...</td>\n      <td>...</td>\n      <td>...</td>\n      <td>...</td>\n      <td>...</td>\n      <td>...</td>\n      <td>...</td>\n      <td>...</td>\n      <td>...</td>\n      <td>...</td>\n      <td>...</td>\n      <td>...</td>\n      <td>...</td>\n      <td>...</td>\n      <td>...</td>\n      <td>...</td>\n      <td>...</td>\n      <td>...</td>\n      <td>...</td>\n      <td>...</td>\n      <td>...</td>\n    </tr>\n    <tr>\n      <td>525</td>\n      <td>203897</td>\n      <td>Zach LaVine</td>\n      <td>1610612741</td>\n      <td>CHI</td>\n      <td>24.0</td>\n      <td>63</td>\n      <td>16</td>\n      <td>47</td>\n      <td>0.254</td>\n      <td>34.5</td>\n      <td>...</td>\n      <td>421</td>\n      <td>78</td>\n      <td>32</td>\n      <td>34</td>\n      <td>20</td>\n      <td>16</td>\n      <td>185</td>\n      <td>5</td>\n      <td>203897,1610612741</td>\n      <td>2018-19</td>\n    </tr>\n    <tr>\n      <td>526</td>\n      <td>1629155</td>\n      <td>Zach Lofton</td>\n      <td>1610612765</td>\n      <td>DET</td>\n      <td>26.0</td>\n      <td>1</td>\n      <td>1</td>\n      <td>0</td>\n      <td>1.000</td>\n      <td>3.8</td>\n      <td>...</td>\n      <td>252</td>\n      <td>527</td>\n      <td>519</td>\n      <td>522</td>\n      <td>519</td>\n      <td>515</td>\n      <td>519</td>\n      <td>5</td>\n      <td>1629155,1610612765</td>\n      <td>2018-19</td>\n    </tr>\n    <tr>\n      <td>527</td>\n      <td>2585</td>\n      <td>Zaza Pachulia</td>\n      <td>1610612765</td>\n      <td>DET</td>\n      <td>35.0</td>\n      <td>68</td>\n      <td>35</td>\n      <td>33</td>\n      <td>0.515</td>\n      <td>12.9</td>\n      <td>...</td>\n      <td>427</td>\n      <td>239</td>\n      <td>336</td>\n      <td>332</td>\n      <td>435</td>\n      <td>440</td>\n      <td>260</td>\n      <td>5</td>\n      <td>2585,1610612765</td>\n      <td>2018-19</td>\n    </tr>\n    <tr>\n      <td>528</td>\n      <td>1629015</td>\n      <td>Zhaire Smith</td>\n      <td>1610612755</td>\n      <td>PHI</td>\n      <td>20.0</td>\n      <td>6</td>\n      <td>2</td>\n      <td>4</td>\n      <td>0.333</td>\n      <td>18.4</td>\n      <td>...</td>\n      <td>188</td>\n      <td>437</td>\n      <td>454</td>\n      <td>454</td>\n      <td>305</td>\n      <td>278</td>\n      <td>365</td>\n      <td>5</td>\n      <td>1629015,1610612755</td>\n      <td>2018-19</td>\n    </tr>\n    <tr>\n      <td>529</td>\n      <td>1627753</td>\n      <td>Zhou Qi</td>\n      <td>1610612745</td>\n      <td>HOU</td>\n      <td>23.0</td>\n      <td>1</td>\n      <td>0</td>\n      <td>1</td>\n      <td>0.000</td>\n      <td>1.0</td>\n      <td>...</td>\n      <td>1</td>\n      <td>3</td>\n      <td>511</td>\n      <td>522</td>\n      <td>458</td>\n      <td>515</td>\n      <td>1</td>\n      <td>5</td>\n      <td>1627753,1610612745</td>\n      <td>2018-19</td>\n    </tr>\n  </tbody>\n</table>\n<p>3006 rows × 80 columns</p>\n</div>",
      "text/plain": "     PLAYER_ID    PLAYER_NAME     TEAM_ID TEAM_ABBREVIATION   AGE  GP   W   L  \\\n0       201985       AJ Price  1610612750               MIN  27.0  28  15  13   \n1       201166   Aaron Brooks  1610612743               DEN  29.0  72  42  30   \n2       201189     Aaron Gray  1610612758               SAC  29.0  37  12  25   \n3       203519  Adonis Thomas  1610612755               PHI  21.0   6   2   4   \n4         1733  Al Harrington  1610612764               WAS  34.0  34  20  14   \n..         ...            ...         ...               ...   ...  ..  ..  ..   \n525     203897    Zach LaVine  1610612741               CHI  24.0  63  16  47   \n526    1629155    Zach Lofton  1610612765               DET  26.0   1   1   0   \n527       2585  Zaza Pachulia  1610612765               DET  35.0  68  35  33   \n528    1629015   Zhaire Smith  1610612755               PHI  20.0   6   2   4   \n529    1627753        Zhou Qi  1610612745               HOU  23.0   1   0   1   \n\n     W_PCT   MIN  ...  sp_work_PACE_RANK  PIE_RANK  FGM_RANK  FGA_RANK  \\\n0    0.536   3.5  ...                 25       220       409       410   \n1    0.583  21.6  ...                 78       274       172       151   \n2    0.324   9.6  ...                157       423       395       400   \n3    0.333   6.3  ...                234       433       440       446   \n4    0.588  15.0  ...                312       371       305       298   \n..     ...   ...  ...                ...       ...       ...       ...   \n525  0.254  34.5  ...                421        78        32        34   \n526  1.000   3.8  ...                252       527       519       522   \n527  0.515  12.9  ...                427       239       336       332   \n528  0.333  18.4  ...                188       437       454       454   \n529  0.000   1.0  ...                  1         3       511       522   \n\n     FGM_PG_RANK  FGA_PG_RANK  FG_PCT_RANK  CFID            CFPARAMS   season  \n0            435          440          336     5   201985,1610612750  2013-14  \n1            195          165          360     5   201166,1610612743  2013-14  \n2            431          438          217     5   201189,1610612758  2013-14  \n3            397          406          272     5   203519,1610612755  2013-14  \n4            257          229          371     5     1733,1610612764  2013-14  \n..           ...          ...          ...   ...                 ...      ...  \n525           20           16          185     5   203897,1610612741  2018-19  \n526          519          515          519     5  1629155,1610612765  2018-19  \n527          435          440          260     5     2585,1610612765  2018-19  \n528          305          278          365     5  1629015,1610612755  2018-19  \n529          458          515            1     5  1627753,1610612745  2018-19  \n\n[3006 rows x 80 columns]"
     },
     "execution_count": 8,
     "metadata": {},
     "output_type": "execute_result"
    }
   ],
   "source": [
    "players_adv_df"
   ]
  },
  {
   "cell_type": "code",
   "execution_count": 22,
   "metadata": {},
   "outputs": [
    {
     "data": {
      "text/plain": "Index(['PLAYER_ID', 'PLAYER_NAME', 'TEAM_ID', 'TEAM_ABBREVIATION', 'AGE', 'GP',\n       'W', 'L', 'W_PCT', 'MIN', 'E_OFF_RATING', 'OFF_RATING',\n       'sp_work_OFF_RATING', 'E_DEF_RATING', 'DEF_RATING',\n       'sp_work_DEF_RATING', 'E_NET_RATING', 'NET_RATING',\n       'sp_work_NET_RATING', 'AST_PCT', 'AST_TO', 'AST_RATIO', 'OREB_PCT',\n       'DREB_PCT', 'REB_PCT', 'TM_TOV_PCT', 'E_TOV_PCT', 'EFG_PCT', 'TS_PCT',\n       'USG_PCT', 'E_USG_PCT', 'E_PACE', 'PACE', 'PACE_PER40', 'sp_work_PACE',\n       'PIE', 'POSS', 'FGM', 'FGA', 'FGM_PG', 'FGA_PG', 'FG_PCT', 'GP_RANK',\n       'W_RANK', 'L_RANK', 'W_PCT_RANK', 'MIN_RANK', 'E_OFF_RATING_RANK',\n       'OFF_RATING_RANK', 'sp_work_OFF_RATING_RANK', 'E_DEF_RATING_RANK',\n       'DEF_RATING_RANK', 'sp_work_DEF_RATING_RANK', 'E_NET_RATING_RANK',\n       'NET_RATING_RANK', 'sp_work_NET_RATING_RANK', 'AST_PCT_RANK',\n       'AST_TO_RANK', 'AST_RATIO_RANK', 'OREB_PCT_RANK', 'DREB_PCT_RANK',\n       'REB_PCT_RANK', 'TM_TOV_PCT_RANK', 'E_TOV_PCT_RANK', 'EFG_PCT_RANK',\n       'TS_PCT_RANK', 'USG_PCT_RANK', 'E_USG_PCT_RANK', 'E_PACE_RANK',\n       'PACE_RANK', 'sp_work_PACE_RANK', 'PIE_RANK', 'FGM_RANK', 'FGA_RANK',\n       'FGM_PG_RANK', 'FGA_PG_RANK', 'FG_PCT_RANK', 'CFID', 'CFPARAMS',\n       'season'],\n      dtype='object')"
     },
     "execution_count": 22,
     "metadata": {},
     "output_type": "execute_result"
    }
   ],
   "source": [
    "players_adv_df.columns"
   ]
  },
  {
   "cell_type": "code",
   "execution_count": 77,
   "metadata": {},
   "outputs": [],
   "source": [
    "# output to csv file\n",
    "# adv_filename = '13_19_players_adv_stats.csv'\n",
    "# players_adv_df.to_csv(adv_filename)"
   ]
  },
  {
   "cell_type": "markdown",
   "metadata": {},
   "source": [
    "## Misc Per 100 Stats"
   ]
  },
  {
   "cell_type": "code",
   "execution_count": 9,
   "metadata": {},
   "outputs": [],
   "source": [
    "def get_misc_stats(out_df, in_season):\n",
    "    \"\"\"\n",
    "    This function gathers misc player data from one season and\n",
    "    combines it with the master advanced stats dataframe.\n",
    "    \"\"\"\n",
    "    df = LeagueDashPlayerStats(season = in_season,\n",
    "                                per_mode_detailed='Per100Possessions',\n",
    "                                measure_type_detailed_defense='Misc').get_data_frames()[0]\n",
    "    df['season'] = in_season\n",
    "    #print(df.head())\n",
    "    out_df = pd.concat([out_df, df])\n",
    "    #print(out_df.head())\n",
    "    return out_df"
   ]
  },
  {
   "cell_type": "code",
   "execution_count": 10,
   "metadata": {},
   "outputs": [],
   "source": [
    "# Create misc stats dataframe for all seasons\n",
    "players_misc_df = pd.DataFrame()\n",
    "\n",
    "for season in seasons: \n",
    "    players_misc_df = get_misc_stats(players_misc_df, season)"
   ]
  },
  {
   "cell_type": "code",
   "execution_count": 11,
   "metadata": {},
   "outputs": [
    {
     "data": {
      "text/plain": "['PLAYER_ID',\n 'PLAYER_NAME',\n 'TEAM_ID',\n 'TEAM_ABBREVIATION',\n 'AGE',\n 'GP',\n 'W',\n 'L',\n 'W_PCT',\n 'MIN',\n 'PTS_OFF_TOV',\n 'PTS_2ND_CHANCE',\n 'PTS_FB',\n 'PTS_PAINT',\n 'OPP_PTS_OFF_TOV',\n 'OPP_PTS_2ND_CHANCE',\n 'OPP_PTS_FB',\n 'OPP_PTS_PAINT',\n 'BLK',\n 'BLKA',\n 'PF',\n 'PFD',\n 'NBA_FANTASY_PTS',\n 'GP_RANK',\n 'W_RANK',\n 'L_RANK',\n 'W_PCT_RANK',\n 'MIN_RANK',\n 'PTS_OFF_TOV_RANK',\n 'PTS_2ND_CHANCE_RANK',\n 'PTS_FB_RANK',\n 'PTS_PAINT_RANK',\n 'OPP_PTS_OFF_TOV_RANK',\n 'OPP_PTS_2ND_CHANCE_RANK',\n 'OPP_PTS_FB_RANK',\n 'OPP_PTS_PAINT_RANK',\n 'BLK_RANK',\n 'BLKA_RANK',\n 'PF_RANK',\n 'PFD_RANK',\n 'NBA_FANTASY_PTS_RANK',\n 'CFID',\n 'CFPARAMS',\n 'season']"
     },
     "execution_count": 11,
     "metadata": {},
     "output_type": "execute_result"
    }
   ],
   "source": [
    "list(players_misc_df.columns)"
   ]
  },
  {
   "cell_type": "code",
   "execution_count": 27,
   "metadata": {},
   "outputs": [
    {
     "data": {
      "text/html": "<div>\n<style scoped>\n    .dataframe tbody tr th:only-of-type {\n        vertical-align: middle;\n    }\n\n    .dataframe tbody tr th {\n        vertical-align: top;\n    }\n\n    .dataframe thead th {\n        text-align: right;\n    }\n</style>\n<table border=\"1\" class=\"dataframe\">\n  <thead>\n    <tr style=\"text-align: right;\">\n      <th></th>\n      <th>PLAYER_ID</th>\n      <th>PLAYER_NAME</th>\n      <th>TEAM_ID</th>\n      <th>TEAM_ABBREVIATION</th>\n      <th>AGE</th>\n      <th>GP</th>\n      <th>W</th>\n      <th>L</th>\n      <th>W_PCT</th>\n      <th>MIN</th>\n      <th>...</th>\n      <th>OPP_PTS_FB_RANK</th>\n      <th>OPP_PTS_PAINT_RANK</th>\n      <th>BLK_RANK</th>\n      <th>BLKA_RANK</th>\n      <th>PF_RANK</th>\n      <th>PFD_RANK</th>\n      <th>NBA_FANTASY_PTS_RANK</th>\n      <th>CFID</th>\n      <th>CFPARAMS</th>\n      <th>season</th>\n    </tr>\n  </thead>\n  <tbody>\n    <tr>\n      <td>0</td>\n      <td>201985</td>\n      <td>AJ Price</td>\n      <td>1610612750</td>\n      <td>MIN</td>\n      <td>27.0</td>\n      <td>28</td>\n      <td>15</td>\n      <td>13</td>\n      <td>0.536</td>\n      <td>47.1</td>\n      <td>...</td>\n      <td>291</td>\n      <td>472</td>\n      <td>436</td>\n      <td>1</td>\n      <td>22</td>\n      <td>453</td>\n      <td>354</td>\n      <td>5</td>\n      <td>201985,1610612750</td>\n      <td>2013-14</td>\n    </tr>\n    <tr>\n      <td>1</td>\n      <td>201166</td>\n      <td>Aaron Brooks</td>\n      <td>1610612743</td>\n      <td>DEN</td>\n      <td>29.0</td>\n      <td>72</td>\n      <td>42</td>\n      <td>30</td>\n      <td>0.583</td>\n      <td>48.2</td>\n      <td>...</td>\n      <td>285</td>\n      <td>184</td>\n      <td>310</td>\n      <td>332</td>\n      <td>254</td>\n      <td>281</td>\n      <td>268</td>\n      <td>5</td>\n      <td>201166,1610612743</td>\n      <td>2013-14</td>\n    </tr>\n    <tr>\n      <td>2</td>\n      <td>201189</td>\n      <td>Aaron Gray</td>\n      <td>1610612758</td>\n      <td>SAC</td>\n      <td>29.0</td>\n      <td>37</td>\n      <td>12</td>\n      <td>25</td>\n      <td>0.324</td>\n      <td>49.4</td>\n      <td>...</td>\n      <td>478</td>\n      <td>89</td>\n      <td>154</td>\n      <td>396</td>\n      <td>465</td>\n      <td>391</td>\n      <td>326</td>\n      <td>5</td>\n      <td>201189,1610612758</td>\n      <td>2013-14</td>\n    </tr>\n    <tr>\n      <td>3</td>\n      <td>203519</td>\n      <td>Adonis Thomas</td>\n      <td>1610612755</td>\n      <td>PHI</td>\n      <td>21.0</td>\n      <td>6</td>\n      <td>2</td>\n      <td>4</td>\n      <td>0.333</td>\n      <td>51.5</td>\n      <td>...</td>\n      <td>12</td>\n      <td>348</td>\n      <td>436</td>\n      <td>387</td>\n      <td>454</td>\n      <td>345</td>\n      <td>420</td>\n      <td>5</td>\n      <td>203519,1610612755</td>\n      <td>2013-14</td>\n    </tr>\n    <tr>\n      <td>4</td>\n      <td>1733</td>\n      <td>Al Harrington</td>\n      <td>1610612764</td>\n      <td>WAS</td>\n      <td>34.0</td>\n      <td>34</td>\n      <td>20</td>\n      <td>14</td>\n      <td>0.588</td>\n      <td>50.5</td>\n      <td>...</td>\n      <td>244</td>\n      <td>152</td>\n      <td>436</td>\n      <td>284</td>\n      <td>429</td>\n      <td>202</td>\n      <td>307</td>\n      <td>5</td>\n      <td>1733,1610612764</td>\n      <td>2013-14</td>\n    </tr>\n  </tbody>\n</table>\n<p>5 rows × 44 columns</p>\n</div>",
      "text/plain": "   PLAYER_ID    PLAYER_NAME     TEAM_ID TEAM_ABBREVIATION   AGE  GP   W   L  \\\n0     201985       AJ Price  1610612750               MIN  27.0  28  15  13   \n1     201166   Aaron Brooks  1610612743               DEN  29.0  72  42  30   \n2     201189     Aaron Gray  1610612758               SAC  29.0  37  12  25   \n3     203519  Adonis Thomas  1610612755               PHI  21.0   6   2   4   \n4       1733  Al Harrington  1610612764               WAS  34.0  34  20  14   \n\n   W_PCT   MIN  ...  OPP_PTS_FB_RANK  OPP_PTS_PAINT_RANK  BLK_RANK  BLKA_RANK  \\\n0  0.536  47.1  ...              291                 472       436          1   \n1  0.583  48.2  ...              285                 184       310        332   \n2  0.324  49.4  ...              478                  89       154        396   \n3  0.333  51.5  ...               12                 348       436        387   \n4  0.588  50.5  ...              244                 152       436        284   \n\n   PF_RANK  PFD_RANK  NBA_FANTASY_PTS_RANK  CFID           CFPARAMS   season  \n0       22       453                   354     5  201985,1610612750  2013-14  \n1      254       281                   268     5  201166,1610612743  2013-14  \n2      465       391                   326     5  201189,1610612758  2013-14  \n3      454       345                   420     5  203519,1610612755  2013-14  \n4      429       202                   307     5    1733,1610612764  2013-14  \n\n[5 rows x 44 columns]"
     },
     "execution_count": 27,
     "metadata": {},
     "output_type": "execute_result"
    }
   ],
   "source": [
    "players_misc_df.head()"
   ]
  },
  {
   "cell_type": "code",
   "execution_count": 174,
   "metadata": {},
   "outputs": [
    {
     "data": {
      "text/html": "<div>\n<style scoped>\n    .dataframe tbody tr th:only-of-type {\n        vertical-align: middle;\n    }\n\n    .dataframe tbody tr th {\n        vertical-align: top;\n    }\n\n    .dataframe thead th {\n        text-align: right;\n    }\n</style>\n<table border=\"1\" class=\"dataframe\">\n  <thead>\n    <tr style=\"text-align: right;\">\n      <th></th>\n      <th>PLAYER_ID</th>\n      <th>PLAYER_NAME</th>\n      <th>TEAM_ID</th>\n      <th>TEAM_ABBREVIATION</th>\n      <th>AGE</th>\n      <th>GP</th>\n      <th>W</th>\n      <th>L</th>\n      <th>W_PCT</th>\n      <th>MIN</th>\n      <th>...</th>\n      <th>sp_work_PACE_RANK</th>\n      <th>PIE_RANK</th>\n      <th>FGM_RANK</th>\n      <th>FGA_RANK</th>\n      <th>FGM_PG_RANK</th>\n      <th>FGA_PG_RANK</th>\n      <th>FG_PCT_RANK</th>\n      <th>CFID</th>\n      <th>CFPARAMS</th>\n      <th>season</th>\n    </tr>\n  </thead>\n  <tbody>\n    <tr>\n      <td>0</td>\n      <td>201985</td>\n      <td>AJ Price</td>\n      <td>1610612750</td>\n      <td>MIN</td>\n      <td>27.0</td>\n      <td>28</td>\n      <td>15</td>\n      <td>13</td>\n      <td>0.536</td>\n      <td>3.5</td>\n      <td>...</td>\n      <td>25</td>\n      <td>220</td>\n      <td>409</td>\n      <td>410</td>\n      <td>435</td>\n      <td>440</td>\n      <td>336</td>\n      <td>5</td>\n      <td>201985,1610612750</td>\n      <td>2013-14</td>\n    </tr>\n    <tr>\n      <td>1</td>\n      <td>201166</td>\n      <td>Aaron Brooks</td>\n      <td>1610612743</td>\n      <td>DEN</td>\n      <td>29.0</td>\n      <td>72</td>\n      <td>42</td>\n      <td>30</td>\n      <td>0.583</td>\n      <td>21.6</td>\n      <td>...</td>\n      <td>78</td>\n      <td>274</td>\n      <td>172</td>\n      <td>151</td>\n      <td>195</td>\n      <td>165</td>\n      <td>360</td>\n      <td>5</td>\n      <td>201166,1610612743</td>\n      <td>2013-14</td>\n    </tr>\n    <tr>\n      <td>2</td>\n      <td>201189</td>\n      <td>Aaron Gray</td>\n      <td>1610612758</td>\n      <td>SAC</td>\n      <td>29.0</td>\n      <td>37</td>\n      <td>12</td>\n      <td>25</td>\n      <td>0.324</td>\n      <td>9.6</td>\n      <td>...</td>\n      <td>157</td>\n      <td>423</td>\n      <td>395</td>\n      <td>400</td>\n      <td>431</td>\n      <td>438</td>\n      <td>217</td>\n      <td>5</td>\n      <td>201189,1610612758</td>\n      <td>2013-14</td>\n    </tr>\n    <tr>\n      <td>3</td>\n      <td>203519</td>\n      <td>Adonis Thomas</td>\n      <td>1610612755</td>\n      <td>PHI</td>\n      <td>21.0</td>\n      <td>6</td>\n      <td>2</td>\n      <td>4</td>\n      <td>0.333</td>\n      <td>6.3</td>\n      <td>...</td>\n      <td>234</td>\n      <td>433</td>\n      <td>440</td>\n      <td>446</td>\n      <td>397</td>\n      <td>406</td>\n      <td>272</td>\n      <td>5</td>\n      <td>203519,1610612755</td>\n      <td>2013-14</td>\n    </tr>\n    <tr>\n      <td>4</td>\n      <td>1733</td>\n      <td>Al Harrington</td>\n      <td>1610612764</td>\n      <td>WAS</td>\n      <td>34.0</td>\n      <td>34</td>\n      <td>20</td>\n      <td>14</td>\n      <td>0.588</td>\n      <td>15.0</td>\n      <td>...</td>\n      <td>312</td>\n      <td>371</td>\n      <td>305</td>\n      <td>298</td>\n      <td>257</td>\n      <td>229</td>\n      <td>371</td>\n      <td>5</td>\n      <td>1733,1610612764</td>\n      <td>2013-14</td>\n    </tr>\n  </tbody>\n</table>\n<p>5 rows × 80 columns</p>\n</div>",
      "text/plain": "   PLAYER_ID    PLAYER_NAME     TEAM_ID TEAM_ABBREVIATION   AGE  GP   W   L  \\\n0     201985       AJ Price  1610612750               MIN  27.0  28  15  13   \n1     201166   Aaron Brooks  1610612743               DEN  29.0  72  42  30   \n2     201189     Aaron Gray  1610612758               SAC  29.0  37  12  25   \n3     203519  Adonis Thomas  1610612755               PHI  21.0   6   2   4   \n4       1733  Al Harrington  1610612764               WAS  34.0  34  20  14   \n\n   W_PCT   MIN  ...  sp_work_PACE_RANK  PIE_RANK  FGM_RANK  FGA_RANK  \\\n0  0.536   3.5  ...                 25       220       409       410   \n1  0.583  21.6  ...                 78       274       172       151   \n2  0.324   9.6  ...                157       423       395       400   \n3  0.333   6.3  ...                234       433       440       446   \n4  0.588  15.0  ...                312       371       305       298   \n\n   FGM_PG_RANK  FGA_PG_RANK  FG_PCT_RANK  CFID           CFPARAMS   season  \n0          435          440          336     5  201985,1610612750  2013-14  \n1          195          165          360     5  201166,1610612743  2013-14  \n2          431          438          217     5  201189,1610612758  2013-14  \n3          397          406          272     5  203519,1610612755  2013-14  \n4          257          229          371     5    1733,1610612764  2013-14  \n\n[5 rows x 80 columns]"
     },
     "execution_count": 174,
     "metadata": {},
     "output_type": "execute_result"
    }
   ],
   "source": [
    "players_adv_df.head()"
   ]
  },
  {
   "cell_type": "code",
   "execution_count": 192,
   "metadata": {},
   "outputs": [],
   "source": [
    "# pick out points on fast break, second chance points, points in the paint, fouls drawn, block fg attempts\n",
    "filtered_misc_df = players_misc_df[['PLAYER_ID','season', 'PTS_FB', 'PTS_PAINT', 'PFD', 'BLKA']]\n",
    "\n",
    "# combine with adv df\n",
    "combined_players_df = players_adv_df.merge(filtered_misc_df, on=['PLAYER_ID', 'season'], how='left')"
   ]
  },
  {
   "cell_type": "code",
   "execution_count": 193,
   "metadata": {},
   "outputs": [
    {
     "data": {
      "text/html": "<div>\n<style scoped>\n    .dataframe tbody tr th:only-of-type {\n        vertical-align: middle;\n    }\n\n    .dataframe tbody tr th {\n        vertical-align: top;\n    }\n\n    .dataframe thead th {\n        text-align: right;\n    }\n</style>\n<table border=\"1\" class=\"dataframe\">\n  <thead>\n    <tr style=\"text-align: right;\">\n      <th></th>\n      <th>PLAYER_ID</th>\n      <th>PLAYER_NAME</th>\n      <th>TEAM_ID</th>\n      <th>TEAM_ABBREVIATION</th>\n      <th>AGE</th>\n      <th>GP</th>\n      <th>W</th>\n      <th>L</th>\n      <th>W_PCT</th>\n      <th>MIN</th>\n      <th>...</th>\n      <th>FGM_PG_RANK</th>\n      <th>FGA_PG_RANK</th>\n      <th>FG_PCT_RANK</th>\n      <th>CFID</th>\n      <th>CFPARAMS</th>\n      <th>season</th>\n      <th>PTS_FB</th>\n      <th>PTS_PAINT</th>\n      <th>PFD</th>\n      <th>BLKA</th>\n    </tr>\n  </thead>\n  <tbody>\n    <tr>\n      <td>0</td>\n      <td>201985</td>\n      <td>AJ Price</td>\n      <td>1610612750</td>\n      <td>MIN</td>\n      <td>27.0</td>\n      <td>28</td>\n      <td>15</td>\n      <td>13</td>\n      <td>0.536</td>\n      <td>3.5</td>\n      <td>...</td>\n      <td>435</td>\n      <td>440</td>\n      <td>336</td>\n      <td>5</td>\n      <td>201985,1610612750</td>\n      <td>2013-14</td>\n      <td>2.4</td>\n      <td>3.8</td>\n      <td>1.4</td>\n      <td>0.0</td>\n    </tr>\n    <tr>\n      <td>1</td>\n      <td>201166</td>\n      <td>Aaron Brooks</td>\n      <td>1610612743</td>\n      <td>DEN</td>\n      <td>29.0</td>\n      <td>72</td>\n      <td>42</td>\n      <td>30</td>\n      <td>0.583</td>\n      <td>21.6</td>\n      <td>...</td>\n      <td>195</td>\n      <td>165</td>\n      <td>360</td>\n      <td>5</td>\n      <td>201166,1610612743</td>\n      <td>2013-14</td>\n      <td>2.2</td>\n      <td>6.5</td>\n      <td>3.3</td>\n      <td>1.1</td>\n    </tr>\n    <tr>\n      <td>2</td>\n      <td>201189</td>\n      <td>Aaron Gray</td>\n      <td>1610612758</td>\n      <td>SAC</td>\n      <td>29.0</td>\n      <td>37</td>\n      <td>12</td>\n      <td>25</td>\n      <td>0.324</td>\n      <td>9.6</td>\n      <td>...</td>\n      <td>431</td>\n      <td>438</td>\n      <td>217</td>\n      <td>5</td>\n      <td>201189,1610612758</td>\n      <td>2013-14</td>\n      <td>0.3</td>\n      <td>6.7</td>\n      <td>2.2</td>\n      <td>1.4</td>\n    </tr>\n    <tr>\n      <td>3</td>\n      <td>203519</td>\n      <td>Adonis Thomas</td>\n      <td>1610612755</td>\n      <td>PHI</td>\n      <td>21.0</td>\n      <td>6</td>\n      <td>2</td>\n      <td>4</td>\n      <td>0.333</td>\n      <td>6.3</td>\n      <td>...</td>\n      <td>397</td>\n      <td>406</td>\n      <td>272</td>\n      <td>5</td>\n      <td>203519,1610612755</td>\n      <td>2013-14</td>\n      <td>8.2</td>\n      <td>8.2</td>\n      <td>2.7</td>\n      <td>1.4</td>\n    </tr>\n    <tr>\n      <td>4</td>\n      <td>1733</td>\n      <td>Al Harrington</td>\n      <td>1610612764</td>\n      <td>WAS</td>\n      <td>34.0</td>\n      <td>34</td>\n      <td>20</td>\n      <td>14</td>\n      <td>0.588</td>\n      <td>15.0</td>\n      <td>...</td>\n      <td>257</td>\n      <td>229</td>\n      <td>371</td>\n      <td>5</td>\n      <td>1733,1610612764</td>\n      <td>2013-14</td>\n      <td>2.2</td>\n      <td>8.3</td>\n      <td>4.0</td>\n      <td>1.0</td>\n    </tr>\n  </tbody>\n</table>\n<p>5 rows × 84 columns</p>\n</div>",
      "text/plain": "   PLAYER_ID    PLAYER_NAME     TEAM_ID TEAM_ABBREVIATION   AGE  GP   W   L  \\\n0     201985       AJ Price  1610612750               MIN  27.0  28  15  13   \n1     201166   Aaron Brooks  1610612743               DEN  29.0  72  42  30   \n2     201189     Aaron Gray  1610612758               SAC  29.0  37  12  25   \n3     203519  Adonis Thomas  1610612755               PHI  21.0   6   2   4   \n4       1733  Al Harrington  1610612764               WAS  34.0  34  20  14   \n\n   W_PCT   MIN  ...  FGM_PG_RANK  FGA_PG_RANK  FG_PCT_RANK  CFID  \\\n0  0.536   3.5  ...          435          440          336     5   \n1  0.583  21.6  ...          195          165          360     5   \n2  0.324   9.6  ...          431          438          217     5   \n3  0.333   6.3  ...          397          406          272     5   \n4  0.588  15.0  ...          257          229          371     5   \n\n            CFPARAMS   season  PTS_FB  PTS_PAINT  PFD  BLKA  \n0  201985,1610612750  2013-14     2.4        3.8  1.4   0.0  \n1  201166,1610612743  2013-14     2.2        6.5  3.3   1.1  \n2  201189,1610612758  2013-14     0.3        6.7  2.2   1.4  \n3  203519,1610612755  2013-14     8.2        8.2  2.7   1.4  \n4    1733,1610612764  2013-14     2.2        8.3  4.0   1.0  \n\n[5 rows x 84 columns]"
     },
     "execution_count": 193,
     "metadata": {},
     "output_type": "execute_result"
    }
   ],
   "source": [
    "combined_players_df.head()"
   ]
  },
  {
   "cell_type": "markdown",
   "metadata": {},
   "source": [
    "## Play type stats"
   ]
  },
  {
   "cell_type": "code",
   "execution_count": 132,
   "metadata": {},
   "outputs": [],
   "source": [
    "playtypes = ['Isolation', 'Post Up', 'Pick & Roll Ball Handler', 'Pick & Roll Roll Man']"
   ]
  },
  {
   "cell_type": "code",
   "execution_count": 133,
   "metadata": {},
   "outputs": [],
   "source": [
    "from nba_api.stats.endpoints import SynergyPlayTypes\n",
    "# Min 10 min/game and 10 poss per play to qualify\n",
    "\n",
    "# test1 = SynergyPlayTypes(season=curr_season,\n",
    "#                             per_mode_simple='PerGame',\n",
    "#                             play_type_nullable='Isolation',\n",
    "#                             type_grouping_nullable='Offensive').get_data_frames()[0]"
   ]
  },
  {
   "cell_type": "code",
   "execution_count": 134,
   "metadata": {},
   "outputs": [],
   "source": [
    "def playtype_data(playtype, in_season, out_df):\n",
    "    df = SynergyPlayTypes(season = in_season,\n",
    "                            per_mode_simple='PerGame',\n",
    "                            play_type_nullable=playtype,\n",
    "                            type_grouping_nullable='Offensive').get_data_frames()[0]\n",
    "\n",
    "    df['season'] = in_season\n",
    "    out_df = pd.concat([out_df, df])\n",
    "    return out_df"
   ]
  },
  {
   "cell_type": "code",
   "execution_count": 99,
   "metadata": {},
   "outputs": [],
   "source": [
    "aggregated_playtypes_df = pd.DataFrame()\n",
    "\n",
    "# creates too many requests\n",
    "\n",
    "# for play in playtypes:\n",
    "#     for season in seasons:\n",
    "#         aggregated_playtypes_df = playtype_data(play, season, aggregated_playtypes_df)"
   ]
  },
  {
   "cell_type": "markdown",
   "metadata": {},
   "source": [
    "## Scoring adv stats"
   ]
  },
  {
   "cell_type": "code",
   "execution_count": 24,
   "metadata": {},
   "outputs": [],
   "source": [
    "def scoring_adv_stats(out_df, in_season):\n",
    "    df = LeagueDashPlayerStats(season = in_season,\n",
    "                                measure_type_detailed_defense='Scoring').get_data_frames()[0]\n",
    "\n",
    "    df['season'] = in_season\n",
    "    out_df = pd.concat([out_df, df])\n",
    "    return out_df"
   ]
  },
  {
   "cell_type": "code",
   "execution_count": 48,
   "metadata": {},
   "outputs": [],
   "source": [
    "# Empty scoring stats df\n",
    "players_scoring_df = pd.DataFrame()\n",
    "\n",
    "for season in seasons:\n",
    "    players_scoring_df = scoring_adv_stats(players_scoring_df, season)"
   ]
  },
  {
   "cell_type": "code",
   "execution_count": 49,
   "metadata": {},
   "outputs": [
    {
     "data": {
      "text/plain": "['PLAYER_ID',\n 'PLAYER_NAME',\n 'TEAM_ID',\n 'TEAM_ABBREVIATION',\n 'AGE',\n 'GP',\n 'W',\n 'L',\n 'W_PCT',\n 'MIN',\n 'PCT_FGA_2PT',\n 'PCT_FGA_3PT',\n 'PCT_PTS_2PT',\n 'PCT_PTS_2PT_MR',\n 'PCT_PTS_3PT',\n 'PCT_PTS_FB',\n 'PCT_PTS_FT',\n 'PCT_PTS_OFF_TOV',\n 'PCT_PTS_PAINT',\n 'PCT_AST_2PM',\n 'PCT_UAST_2PM',\n 'PCT_AST_3PM',\n 'PCT_UAST_3PM',\n 'PCT_AST_FGM',\n 'PCT_UAST_FGM',\n 'GP_RANK',\n 'W_RANK',\n 'L_RANK',\n 'W_PCT_RANK',\n 'MIN_RANK',\n 'PCT_FGA_2PT_RANK',\n 'PCT_FGA_3PT_RANK',\n 'PCT_PTS_2PT_RANK',\n 'PCT_PTS_2PT_MR_RANK',\n 'PCT_PTS_3PT_RANK',\n 'PCT_PTS_FB_RANK',\n 'PCT_PTS_FT_RANK',\n 'PCT_PTS_OFF_TOV_RANK',\n 'PCT_PTS_PAINT_RANK',\n 'PCT_AST_2PM_RANK',\n 'PCT_UAST_2PM_RANK',\n 'PCT_AST_3PM_RANK',\n 'PCT_UAST_3PM_RANK',\n 'PCT_AST_FGM_RANK',\n 'PCT_UAST_FGM_RANK',\n 'CFID',\n 'CFPARAMS',\n 'season']"
     },
     "execution_count": 49,
     "metadata": {},
     "output_type": "execute_result"
    }
   ],
   "source": [
    "list(players_scoring_df.columns)"
   ]
  },
  {
   "cell_type": "code",
   "execution_count": 79,
   "metadata": {},
   "outputs": [
    {
     "data": {
      "text/html": "<div>\n<style scoped>\n    .dataframe tbody tr th:only-of-type {\n        vertical-align: middle;\n    }\n\n    .dataframe tbody tr th {\n        vertical-align: top;\n    }\n\n    .dataframe thead th {\n        text-align: right;\n    }\n</style>\n<table border=\"1\" class=\"dataframe\">\n  <thead>\n    <tr style=\"text-align: right;\">\n      <th></th>\n      <th>PCT_FGA_2PT</th>\n      <th>PCT_FGA_3PT</th>\n      <th>PCT_PTS_2PT</th>\n      <th>PCT_PTS_2PT_MR</th>\n      <th>PCT_PTS_3PT</th>\n      <th>PCT_PTS_FB</th>\n      <th>PCT_PTS_FT</th>\n      <th>PCT_PTS_OFF_TOV</th>\n      <th>PCT_PTS_PAINT</th>\n      <th>PCT_AST_2PM</th>\n      <th>PCT_UAST_2PM</th>\n      <th>PCT_AST_3PM</th>\n      <th>PCT_UAST_3PM</th>\n      <th>PCT_AST_FGM</th>\n      <th>PCT_UAST_FGM</th>\n    </tr>\n  </thead>\n  <tbody>\n    <tr>\n      <td>0</td>\n      <td>0.522</td>\n      <td>0.478</td>\n      <td>0.591</td>\n      <td>0.409</td>\n      <td>0.409</td>\n      <td>0.114</td>\n      <td>0.000</td>\n      <td>0.114</td>\n      <td>0.182</td>\n      <td>0.231</td>\n      <td>0.769</td>\n      <td>0.833</td>\n      <td>0.167</td>\n      <td>0.421</td>\n      <td>0.579</td>\n    </tr>\n    <tr>\n      <td>1</td>\n      <td>0.573</td>\n      <td>0.427</td>\n      <td>0.425</td>\n      <td>0.099</td>\n      <td>0.447</td>\n      <td>0.109</td>\n      <td>0.129</td>\n      <td>0.138</td>\n      <td>0.326</td>\n      <td>0.139</td>\n      <td>0.861</td>\n      <td>0.698</td>\n      <td>0.302</td>\n      <td>0.369</td>\n      <td>0.631</td>\n    </tr>\n    <tr>\n      <td>2</td>\n      <td>0.984</td>\n      <td>0.016</td>\n      <td>0.831</td>\n      <td>0.092</td>\n      <td>0.000</td>\n      <td>0.031</td>\n      <td>0.169</td>\n      <td>0.108</td>\n      <td>0.738</td>\n      <td>0.667</td>\n      <td>0.333</td>\n      <td>0.000</td>\n      <td>0.000</td>\n      <td>0.667</td>\n      <td>0.333</td>\n    </tr>\n    <tr>\n      <td>3</td>\n      <td>0.643</td>\n      <td>0.357</td>\n      <td>0.714</td>\n      <td>0.286</td>\n      <td>0.214</td>\n      <td>0.429</td>\n      <td>0.071</td>\n      <td>0.357</td>\n      <td>0.429</td>\n      <td>0.200</td>\n      <td>0.800</td>\n      <td>1.000</td>\n      <td>0.000</td>\n      <td>0.333</td>\n      <td>0.667</td>\n    </tr>\n    <tr>\n      <td>4</td>\n      <td>0.517</td>\n      <td>0.483</td>\n      <td>0.427</td>\n      <td>0.053</td>\n      <td>0.453</td>\n      <td>0.098</td>\n      <td>0.120</td>\n      <td>0.164</td>\n      <td>0.373</td>\n      <td>0.646</td>\n      <td>0.354</td>\n      <td>1.000</td>\n      <td>0.000</td>\n      <td>0.793</td>\n      <td>0.207</td>\n    </tr>\n    <tr>\n      <td>...</td>\n      <td>...</td>\n      <td>...</td>\n      <td>...</td>\n      <td>...</td>\n      <td>...</td>\n      <td>...</td>\n      <td>...</td>\n      <td>...</td>\n      <td>...</td>\n      <td>...</td>\n      <td>...</td>\n      <td>...</td>\n      <td>...</td>\n      <td>...</td>\n      <td>...</td>\n    </tr>\n    <tr>\n      <td>525</td>\n      <td>0.717</td>\n      <td>0.283</td>\n      <td>0.550</td>\n      <td>0.098</td>\n      <td>0.241</td>\n      <td>0.139</td>\n      <td>0.209</td>\n      <td>0.162</td>\n      <td>0.452</td>\n      <td>0.332</td>\n      <td>0.668</td>\n      <td>0.525</td>\n      <td>0.475</td>\n      <td>0.375</td>\n      <td>0.625</td>\n    </tr>\n    <tr>\n      <td>526</td>\n      <td>0.000</td>\n      <td>1.000</td>\n      <td>0.000</td>\n      <td>0.000</td>\n      <td>0.000</td>\n      <td>0.000</td>\n      <td>0.000</td>\n      <td>0.000</td>\n      <td>0.000</td>\n      <td>0.000</td>\n      <td>0.000</td>\n      <td>0.000</td>\n      <td>0.000</td>\n      <td>0.000</td>\n      <td>0.000</td>\n    </tr>\n    <tr>\n      <td>527</td>\n      <td>0.979</td>\n      <td>0.021</td>\n      <td>0.637</td>\n      <td>0.127</td>\n      <td>0.000</td>\n      <td>0.060</td>\n      <td>0.363</td>\n      <td>0.131</td>\n      <td>0.509</td>\n      <td>0.624</td>\n      <td>0.376</td>\n      <td>0.000</td>\n      <td>0.000</td>\n      <td>0.624</td>\n      <td>0.376</td>\n    </tr>\n    <tr>\n      <td>528</td>\n      <td>0.529</td>\n      <td>0.471</td>\n      <td>0.400</td>\n      <td>0.050</td>\n      <td>0.450</td>\n      <td>0.050</td>\n      <td>0.150</td>\n      <td>0.200</td>\n      <td>0.350</td>\n      <td>0.500</td>\n      <td>0.500</td>\n      <td>0.667</td>\n      <td>0.333</td>\n      <td>0.571</td>\n      <td>0.429</td>\n    </tr>\n    <tr>\n      <td>529</td>\n      <td>1.000</td>\n      <td>0.000</td>\n      <td>1.000</td>\n      <td>0.000</td>\n      <td>0.000</td>\n      <td>0.000</td>\n      <td>0.000</td>\n      <td>0.000</td>\n      <td>1.000</td>\n      <td>1.000</td>\n      <td>0.000</td>\n      <td>0.000</td>\n      <td>0.000</td>\n      <td>1.000</td>\n      <td>0.000</td>\n    </tr>\n  </tbody>\n</table>\n<p>3006 rows × 15 columns</p>\n</div>",
      "text/plain": "     PCT_FGA_2PT  PCT_FGA_3PT  PCT_PTS_2PT  PCT_PTS_2PT_MR  PCT_PTS_3PT  \\\n0          0.522        0.478        0.591           0.409        0.409   \n1          0.573        0.427        0.425           0.099        0.447   \n2          0.984        0.016        0.831           0.092        0.000   \n3          0.643        0.357        0.714           0.286        0.214   \n4          0.517        0.483        0.427           0.053        0.453   \n..           ...          ...          ...             ...          ...   \n525        0.717        0.283        0.550           0.098        0.241   \n526        0.000        1.000        0.000           0.000        0.000   \n527        0.979        0.021        0.637           0.127        0.000   \n528        0.529        0.471        0.400           0.050        0.450   \n529        1.000        0.000        1.000           0.000        0.000   \n\n     PCT_PTS_FB  PCT_PTS_FT  PCT_PTS_OFF_TOV  PCT_PTS_PAINT  PCT_AST_2PM  \\\n0         0.114       0.000            0.114          0.182        0.231   \n1         0.109       0.129            0.138          0.326        0.139   \n2         0.031       0.169            0.108          0.738        0.667   \n3         0.429       0.071            0.357          0.429        0.200   \n4         0.098       0.120            0.164          0.373        0.646   \n..          ...         ...              ...            ...          ...   \n525       0.139       0.209            0.162          0.452        0.332   \n526       0.000       0.000            0.000          0.000        0.000   \n527       0.060       0.363            0.131          0.509        0.624   \n528       0.050       0.150            0.200          0.350        0.500   \n529       0.000       0.000            0.000          1.000        1.000   \n\n     PCT_UAST_2PM  PCT_AST_3PM  PCT_UAST_3PM  PCT_AST_FGM  PCT_UAST_FGM  \n0           0.769        0.833         0.167        0.421         0.579  \n1           0.861        0.698         0.302        0.369         0.631  \n2           0.333        0.000         0.000        0.667         0.333  \n3           0.800        1.000         0.000        0.333         0.667  \n4           0.354        1.000         0.000        0.793         0.207  \n..            ...          ...           ...          ...           ...  \n525         0.668        0.525         0.475        0.375         0.625  \n526         0.000        0.000         0.000        0.000         0.000  \n527         0.376        0.000         0.000        0.624         0.376  \n528         0.500        0.667         0.333        0.571         0.429  \n529         0.000        0.000         0.000        1.000         0.000  \n\n[3006 rows x 15 columns]"
     },
     "execution_count": 79,
     "metadata": {},
     "output_type": "execute_result"
    }
   ],
   "source": [
    "players_scoring_df[players_scoring_df.columns[10:25]]"
   ]
  },
  {
   "cell_type": "code",
   "execution_count": 194,
   "metadata": {},
   "outputs": [],
   "source": [
    "filtered_scoring_df = pd.concat([players_scoring_df.PLAYER_ID, players_scoring_df.season, \n",
    "                        players_scoring_df[players_scoring_df.columns[10:25]]], axis=1)\n",
    "\n",
    "combined_players_df = combined_players_df.merge(filtered_scoring_df, on=['PLAYER_ID','season'], how='left')"
   ]
  },
  {
   "cell_type": "code",
   "execution_count": 195,
   "metadata": {},
   "outputs": [
    {
     "data": {
      "text/html": "<div>\n<style scoped>\n    .dataframe tbody tr th:only-of-type {\n        vertical-align: middle;\n    }\n\n    .dataframe tbody tr th {\n        vertical-align: top;\n    }\n\n    .dataframe thead th {\n        text-align: right;\n    }\n</style>\n<table border=\"1\" class=\"dataframe\">\n  <thead>\n    <tr style=\"text-align: right;\">\n      <th></th>\n      <th>PLAYER_ID</th>\n      <th>season</th>\n      <th>PCT_FGA_2PT</th>\n      <th>PCT_FGA_3PT</th>\n      <th>PCT_PTS_2PT</th>\n      <th>PCT_PTS_2PT_MR</th>\n      <th>PCT_PTS_3PT</th>\n      <th>PCT_PTS_FB</th>\n      <th>PCT_PTS_FT</th>\n      <th>PCT_PTS_OFF_TOV</th>\n      <th>PCT_PTS_PAINT</th>\n      <th>PCT_AST_2PM</th>\n      <th>PCT_UAST_2PM</th>\n      <th>PCT_AST_3PM</th>\n      <th>PCT_UAST_3PM</th>\n      <th>PCT_AST_FGM</th>\n      <th>PCT_UAST_FGM</th>\n    </tr>\n  </thead>\n  <tbody>\n    <tr>\n      <td>0</td>\n      <td>201985</td>\n      <td>2013-14</td>\n      <td>0.522</td>\n      <td>0.478</td>\n      <td>0.591</td>\n      <td>0.409</td>\n      <td>0.409</td>\n      <td>0.114</td>\n      <td>0.000</td>\n      <td>0.114</td>\n      <td>0.182</td>\n      <td>0.231</td>\n      <td>0.769</td>\n      <td>0.833</td>\n      <td>0.167</td>\n      <td>0.421</td>\n      <td>0.579</td>\n    </tr>\n    <tr>\n      <td>1</td>\n      <td>201166</td>\n      <td>2013-14</td>\n      <td>0.573</td>\n      <td>0.427</td>\n      <td>0.425</td>\n      <td>0.099</td>\n      <td>0.447</td>\n      <td>0.109</td>\n      <td>0.129</td>\n      <td>0.138</td>\n      <td>0.326</td>\n      <td>0.139</td>\n      <td>0.861</td>\n      <td>0.698</td>\n      <td>0.302</td>\n      <td>0.369</td>\n      <td>0.631</td>\n    </tr>\n    <tr>\n      <td>2</td>\n      <td>201189</td>\n      <td>2013-14</td>\n      <td>0.984</td>\n      <td>0.016</td>\n      <td>0.831</td>\n      <td>0.092</td>\n      <td>0.000</td>\n      <td>0.031</td>\n      <td>0.169</td>\n      <td>0.108</td>\n      <td>0.738</td>\n      <td>0.667</td>\n      <td>0.333</td>\n      <td>0.000</td>\n      <td>0.000</td>\n      <td>0.667</td>\n      <td>0.333</td>\n    </tr>\n    <tr>\n      <td>3</td>\n      <td>203519</td>\n      <td>2013-14</td>\n      <td>0.643</td>\n      <td>0.357</td>\n      <td>0.714</td>\n      <td>0.286</td>\n      <td>0.214</td>\n      <td>0.429</td>\n      <td>0.071</td>\n      <td>0.357</td>\n      <td>0.429</td>\n      <td>0.200</td>\n      <td>0.800</td>\n      <td>1.000</td>\n      <td>0.000</td>\n      <td>0.333</td>\n      <td>0.667</td>\n    </tr>\n    <tr>\n      <td>4</td>\n      <td>1733</td>\n      <td>2013-14</td>\n      <td>0.517</td>\n      <td>0.483</td>\n      <td>0.427</td>\n      <td>0.053</td>\n      <td>0.453</td>\n      <td>0.098</td>\n      <td>0.120</td>\n      <td>0.164</td>\n      <td>0.373</td>\n      <td>0.646</td>\n      <td>0.354</td>\n      <td>1.000</td>\n      <td>0.000</td>\n      <td>0.793</td>\n      <td>0.207</td>\n    </tr>\n  </tbody>\n</table>\n</div>",
      "text/plain": "   PLAYER_ID   season  PCT_FGA_2PT  PCT_FGA_3PT  PCT_PTS_2PT  PCT_PTS_2PT_MR  \\\n0     201985  2013-14        0.522        0.478        0.591           0.409   \n1     201166  2013-14        0.573        0.427        0.425           0.099   \n2     201189  2013-14        0.984        0.016        0.831           0.092   \n3     203519  2013-14        0.643        0.357        0.714           0.286   \n4       1733  2013-14        0.517        0.483        0.427           0.053   \n\n   PCT_PTS_3PT  PCT_PTS_FB  PCT_PTS_FT  PCT_PTS_OFF_TOV  PCT_PTS_PAINT  \\\n0        0.409       0.114       0.000            0.114          0.182   \n1        0.447       0.109       0.129            0.138          0.326   \n2        0.000       0.031       0.169            0.108          0.738   \n3        0.214       0.429       0.071            0.357          0.429   \n4        0.453       0.098       0.120            0.164          0.373   \n\n   PCT_AST_2PM  PCT_UAST_2PM  PCT_AST_3PM  PCT_UAST_3PM  PCT_AST_FGM  \\\n0        0.231         0.769        0.833         0.167        0.421   \n1        0.139         0.861        0.698         0.302        0.369   \n2        0.667         0.333        0.000         0.000        0.667   \n3        0.200         0.800        1.000         0.000        0.333   \n4        0.646         0.354        1.000         0.000        0.793   \n\n   PCT_UAST_FGM  \n0         0.579  \n1         0.631  \n2         0.333  \n3         0.667  \n4         0.207  "
     },
     "execution_count": 195,
     "metadata": {},
     "output_type": "execute_result"
    }
   ],
   "source": [
    "filtered_scoring_df.head()"
   ]
  },
  {
   "cell_type": "code",
   "execution_count": 196,
   "metadata": {},
   "outputs": [
    {
     "data": {
      "text/html": "<div>\n<style scoped>\n    .dataframe tbody tr th:only-of-type {\n        vertical-align: middle;\n    }\n\n    .dataframe tbody tr th {\n        vertical-align: top;\n    }\n\n    .dataframe thead th {\n        text-align: right;\n    }\n</style>\n<table border=\"1\" class=\"dataframe\">\n  <thead>\n    <tr style=\"text-align: right;\">\n      <th></th>\n      <th>PLAYER_ID</th>\n      <th>PLAYER_NAME</th>\n      <th>TEAM_ID</th>\n      <th>TEAM_ABBREVIATION</th>\n      <th>AGE</th>\n      <th>GP</th>\n      <th>W</th>\n      <th>L</th>\n      <th>W_PCT</th>\n      <th>MIN</th>\n      <th>...</th>\n      <th>PCT_PTS_FB</th>\n      <th>PCT_PTS_FT</th>\n      <th>PCT_PTS_OFF_TOV</th>\n      <th>PCT_PTS_PAINT</th>\n      <th>PCT_AST_2PM</th>\n      <th>PCT_UAST_2PM</th>\n      <th>PCT_AST_3PM</th>\n      <th>PCT_UAST_3PM</th>\n      <th>PCT_AST_FGM</th>\n      <th>PCT_UAST_FGM</th>\n    </tr>\n  </thead>\n  <tbody>\n    <tr>\n      <td>0</td>\n      <td>201985</td>\n      <td>AJ Price</td>\n      <td>1610612750</td>\n      <td>MIN</td>\n      <td>27.0</td>\n      <td>28</td>\n      <td>15</td>\n      <td>13</td>\n      <td>0.536</td>\n      <td>3.5</td>\n      <td>...</td>\n      <td>0.114</td>\n      <td>0.000</td>\n      <td>0.114</td>\n      <td>0.182</td>\n      <td>0.231</td>\n      <td>0.769</td>\n      <td>0.833</td>\n      <td>0.167</td>\n      <td>0.421</td>\n      <td>0.579</td>\n    </tr>\n    <tr>\n      <td>1</td>\n      <td>201166</td>\n      <td>Aaron Brooks</td>\n      <td>1610612743</td>\n      <td>DEN</td>\n      <td>29.0</td>\n      <td>72</td>\n      <td>42</td>\n      <td>30</td>\n      <td>0.583</td>\n      <td>21.6</td>\n      <td>...</td>\n      <td>0.109</td>\n      <td>0.129</td>\n      <td>0.138</td>\n      <td>0.326</td>\n      <td>0.139</td>\n      <td>0.861</td>\n      <td>0.698</td>\n      <td>0.302</td>\n      <td>0.369</td>\n      <td>0.631</td>\n    </tr>\n    <tr>\n      <td>2</td>\n      <td>201189</td>\n      <td>Aaron Gray</td>\n      <td>1610612758</td>\n      <td>SAC</td>\n      <td>29.0</td>\n      <td>37</td>\n      <td>12</td>\n      <td>25</td>\n      <td>0.324</td>\n      <td>9.6</td>\n      <td>...</td>\n      <td>0.031</td>\n      <td>0.169</td>\n      <td>0.108</td>\n      <td>0.738</td>\n      <td>0.667</td>\n      <td>0.333</td>\n      <td>0.000</td>\n      <td>0.000</td>\n      <td>0.667</td>\n      <td>0.333</td>\n    </tr>\n    <tr>\n      <td>3</td>\n      <td>203519</td>\n      <td>Adonis Thomas</td>\n      <td>1610612755</td>\n      <td>PHI</td>\n      <td>21.0</td>\n      <td>6</td>\n      <td>2</td>\n      <td>4</td>\n      <td>0.333</td>\n      <td>6.3</td>\n      <td>...</td>\n      <td>0.429</td>\n      <td>0.071</td>\n      <td>0.357</td>\n      <td>0.429</td>\n      <td>0.200</td>\n      <td>0.800</td>\n      <td>1.000</td>\n      <td>0.000</td>\n      <td>0.333</td>\n      <td>0.667</td>\n    </tr>\n    <tr>\n      <td>4</td>\n      <td>1733</td>\n      <td>Al Harrington</td>\n      <td>1610612764</td>\n      <td>WAS</td>\n      <td>34.0</td>\n      <td>34</td>\n      <td>20</td>\n      <td>14</td>\n      <td>0.588</td>\n      <td>15.0</td>\n      <td>...</td>\n      <td>0.098</td>\n      <td>0.120</td>\n      <td>0.164</td>\n      <td>0.373</td>\n      <td>0.646</td>\n      <td>0.354</td>\n      <td>1.000</td>\n      <td>0.000</td>\n      <td>0.793</td>\n      <td>0.207</td>\n    </tr>\n  </tbody>\n</table>\n<p>5 rows × 99 columns</p>\n</div>",
      "text/plain": "   PLAYER_ID    PLAYER_NAME     TEAM_ID TEAM_ABBREVIATION   AGE  GP   W   L  \\\n0     201985       AJ Price  1610612750               MIN  27.0  28  15  13   \n1     201166   Aaron Brooks  1610612743               DEN  29.0  72  42  30   \n2     201189     Aaron Gray  1610612758               SAC  29.0  37  12  25   \n3     203519  Adonis Thomas  1610612755               PHI  21.0   6   2   4   \n4       1733  Al Harrington  1610612764               WAS  34.0  34  20  14   \n\n   W_PCT   MIN  ...  PCT_PTS_FB  PCT_PTS_FT  PCT_PTS_OFF_TOV  PCT_PTS_PAINT  \\\n0  0.536   3.5  ...       0.114       0.000            0.114          0.182   \n1  0.583  21.6  ...       0.109       0.129            0.138          0.326   \n2  0.324   9.6  ...       0.031       0.169            0.108          0.738   \n3  0.333   6.3  ...       0.429       0.071            0.357          0.429   \n4  0.588  15.0  ...       0.098       0.120            0.164          0.373   \n\n   PCT_AST_2PM  PCT_UAST_2PM  PCT_AST_3PM  PCT_UAST_3PM  PCT_AST_FGM  \\\n0        0.231         0.769        0.833         0.167        0.421   \n1        0.139         0.861        0.698         0.302        0.369   \n2        0.667         0.333        0.000         0.000        0.667   \n3        0.200         0.800        1.000         0.000        0.333   \n4        0.646         0.354        1.000         0.000        0.793   \n\n   PCT_UAST_FGM  \n0         0.579  \n1         0.631  \n2         0.333  \n3         0.667  \n4         0.207  \n\n[5 rows x 99 columns]"
     },
     "execution_count": 196,
     "metadata": {},
     "output_type": "execute_result"
    }
   ],
   "source": [
    "# Filter unique stats and combine with big df\n",
    "\n",
    "combined_players_df.head()"
   ]
  },
  {
   "cell_type": "code",
   "execution_count": null,
   "metadata": {},
   "outputs": [],
   "source": []
  },
  {
   "cell_type": "code",
   "execution_count": 197,
   "metadata": {},
   "outputs": [],
   "source": [
    "combined_players_stats_filename = '2013-19_players_assorted_stats.csv'\n",
    "combined_players_df.to_csv(combined_players_stats_filename)"
   ]
  },
  {
   "cell_type": "markdown",
   "metadata": {},
   "source": [
    "## Shooting stats\n",
    "\n",
    "Good for offensive clustering\n",
    "Note: DateFrame retrieval is bugged right now."
   ]
  },
  {
   "cell_type": "code",
   "execution_count": 1,
   "metadata": {},
   "outputs": [],
   "source": [
    "# from nba_api.stats.endpoints import LeagueDashPlayerShotLocations\n",
    "\n",
    "# shot_locs = partial(LeagueDashPlayerShotLocations, distance_range='By Zone', measure_type_simple='Base',\n",
    "#                         per_mode_detailed='PerGame')\n",
    "\n",
    "# shot_locs_season = shot_locs(season=curr_season)"
   ]
  },
  {
   "cell_type": "code",
   "execution_count": 108,
   "metadata": {},
   "outputs": [
    {
     "ename": "ValueError",
     "evalue": "2 columns passed, passed data had 26 columns",
     "output_type": "error",
     "traceback": [
      "\u001b[1;31m---------------------------------------------------------------------------\u001b[0m",
      "\u001b[1;31mAssertionError\u001b[0m                            Traceback (most recent call last)",
      "\u001b[1;32m~\\Anaconda3\\lib\\site-packages\\pandas\\core\\internals\\construction.py\u001b[0m in \u001b[0;36m_list_to_arrays\u001b[1;34m(data, columns, coerce_float, dtype)\u001b[0m\n\u001b[0;32m    499\u001b[0m         result = _convert_object_array(\n\u001b[1;32m--> 500\u001b[1;33m             \u001b[0mcontent\u001b[0m\u001b[1;33m,\u001b[0m \u001b[0mcolumns\u001b[0m\u001b[1;33m,\u001b[0m \u001b[0mdtype\u001b[0m\u001b[1;33m=\u001b[0m\u001b[0mdtype\u001b[0m\u001b[1;33m,\u001b[0m \u001b[0mcoerce_float\u001b[0m\u001b[1;33m=\u001b[0m\u001b[0mcoerce_float\u001b[0m\u001b[1;33m\u001b[0m\u001b[1;33m\u001b[0m\u001b[0m\n\u001b[0m\u001b[0;32m    501\u001b[0m         )\n",
      "\u001b[1;32m~\\Anaconda3\\lib\\site-packages\\pandas\\core\\internals\\construction.py\u001b[0m in \u001b[0;36m_convert_object_array\u001b[1;34m(content, columns, coerce_float, dtype)\u001b[0m\n\u001b[0;32m    582\u001b[0m                 \u001b[1;34m\"{col:d} columns passed, passed data had \"\u001b[0m\u001b[1;33m\u001b[0m\u001b[1;33m\u001b[0m\u001b[0m\n\u001b[1;32m--> 583\u001b[1;33m                 \u001b[1;34m\"{con} columns\"\u001b[0m\u001b[1;33m.\u001b[0m\u001b[0mformat\u001b[0m\u001b[1;33m(\u001b[0m\u001b[0mcol\u001b[0m\u001b[1;33m=\u001b[0m\u001b[0mlen\u001b[0m\u001b[1;33m(\u001b[0m\u001b[0mcolumns\u001b[0m\u001b[1;33m)\u001b[0m\u001b[1;33m,\u001b[0m \u001b[0mcon\u001b[0m\u001b[1;33m=\u001b[0m\u001b[0mlen\u001b[0m\u001b[1;33m(\u001b[0m\u001b[0mcontent\u001b[0m\u001b[1;33m)\u001b[0m\u001b[1;33m)\u001b[0m\u001b[1;33m\u001b[0m\u001b[1;33m\u001b[0m\u001b[0m\n\u001b[0m\u001b[0;32m    584\u001b[0m             )\n",
      "\u001b[1;31mAssertionError\u001b[0m: 2 columns passed, passed data had 26 columns",
      "\nThe above exception was the direct cause of the following exception:\n",
      "\u001b[1;31mValueError\u001b[0m                                Traceback (most recent call last)",
      "\u001b[1;32m<ipython-input-108-d65e7735c770>\u001b[0m in \u001b[0;36m<module>\u001b[1;34m\u001b[0m\n\u001b[1;32m----> 1\u001b[1;33m \u001b[0mshot_locs_season\u001b[0m\u001b[1;33m.\u001b[0m\u001b[0mget_data_frames\u001b[0m\u001b[1;33m(\u001b[0m\u001b[1;33m)\u001b[0m\u001b[1;33m\u001b[0m\u001b[1;33m\u001b[0m\u001b[0m\n\u001b[0m",
      "\u001b[1;32m~\\Anaconda3\\lib\\site-packages\\nba_api\\stats\\endpoints\\_base.py\u001b[0m in \u001b[0;36mget_data_frames\u001b[1;34m(self)\u001b[0m\n\u001b[0;32m     50\u001b[0m \u001b[1;33m\u001b[0m\u001b[0m\n\u001b[0;32m     51\u001b[0m     \u001b[1;32mdef\u001b[0m \u001b[0mget_data_frames\u001b[0m\u001b[1;33m(\u001b[0m\u001b[0mself\u001b[0m\u001b[1;33m)\u001b[0m\u001b[1;33m:\u001b[0m\u001b[1;33m\u001b[0m\u001b[1;33m\u001b[0m\u001b[0m\n\u001b[1;32m---> 52\u001b[1;33m         \u001b[1;32mreturn\u001b[0m \u001b[1;33m[\u001b[0m\u001b[0mdata_set\u001b[0m\u001b[1;33m.\u001b[0m\u001b[0mget_data_frame\u001b[0m\u001b[1;33m(\u001b[0m\u001b[1;33m)\u001b[0m \u001b[1;32mfor\u001b[0m \u001b[0mdata_set\u001b[0m \u001b[1;32min\u001b[0m \u001b[0mself\u001b[0m\u001b[1;33m.\u001b[0m\u001b[0mdata_sets\u001b[0m\u001b[1;33m]\u001b[0m\u001b[1;33m\u001b[0m\u001b[1;33m\u001b[0m\u001b[0m\n\u001b[0m",
      "\u001b[1;32m~\\Anaconda3\\lib\\site-packages\\nba_api\\stats\\endpoints\\_base.py\u001b[0m in \u001b[0;36m<listcomp>\u001b[1;34m(.0)\u001b[0m\n\u001b[0;32m     50\u001b[0m \u001b[1;33m\u001b[0m\u001b[0m\n\u001b[0;32m     51\u001b[0m     \u001b[1;32mdef\u001b[0m \u001b[0mget_data_frames\u001b[0m\u001b[1;33m(\u001b[0m\u001b[0mself\u001b[0m\u001b[1;33m)\u001b[0m\u001b[1;33m:\u001b[0m\u001b[1;33m\u001b[0m\u001b[1;33m\u001b[0m\u001b[0m\n\u001b[1;32m---> 52\u001b[1;33m         \u001b[1;32mreturn\u001b[0m \u001b[1;33m[\u001b[0m\u001b[0mdata_set\u001b[0m\u001b[1;33m.\u001b[0m\u001b[0mget_data_frame\u001b[0m\u001b[1;33m(\u001b[0m\u001b[1;33m)\u001b[0m \u001b[1;32mfor\u001b[0m \u001b[0mdata_set\u001b[0m \u001b[1;32min\u001b[0m \u001b[0mself\u001b[0m\u001b[1;33m.\u001b[0m\u001b[0mdata_sets\u001b[0m\u001b[1;33m]\u001b[0m\u001b[1;33m\u001b[0m\u001b[1;33m\u001b[0m\u001b[0m\n\u001b[0m",
      "\u001b[1;32m~\\Anaconda3\\lib\\site-packages\\nba_api\\stats\\endpoints\\_base.py\u001b[0m in \u001b[0;36mget_data_frame\u001b[1;34m(self)\u001b[0m\n\u001b[0;32m     26\u001b[0m             \u001b[1;32mif\u001b[0m \u001b[1;32mnot\u001b[0m \u001b[0mPANDAS\u001b[0m\u001b[1;33m:\u001b[0m\u001b[1;33m\u001b[0m\u001b[1;33m\u001b[0m\u001b[0m\n\u001b[0;32m     27\u001b[0m                 \u001b[1;32mraise\u001b[0m \u001b[0mException\u001b[0m\u001b[1;33m(\u001b[0m\u001b[1;34m'Import Missing - Failed to import DataFrame from pandas.'\u001b[0m\u001b[1;33m)\u001b[0m\u001b[1;33m\u001b[0m\u001b[1;33m\u001b[0m\u001b[0m\n\u001b[1;32m---> 28\u001b[1;33m             \u001b[1;32mreturn\u001b[0m \u001b[0mDataFrame\u001b[0m\u001b[1;33m(\u001b[0m\u001b[0mself\u001b[0m\u001b[1;33m.\u001b[0m\u001b[0mdata\u001b[0m\u001b[1;33m[\u001b[0m\u001b[1;34m'data'\u001b[0m\u001b[1;33m]\u001b[0m\u001b[1;33m,\u001b[0m \u001b[0mcolumns\u001b[0m\u001b[1;33m=\u001b[0m\u001b[0mself\u001b[0m\u001b[1;33m.\u001b[0m\u001b[0mdata\u001b[0m\u001b[1;33m[\u001b[0m\u001b[1;34m'headers'\u001b[0m\u001b[1;33m]\u001b[0m\u001b[1;33m)\u001b[0m\u001b[1;33m\u001b[0m\u001b[1;33m\u001b[0m\u001b[0m\n\u001b[0m\u001b[0;32m     29\u001b[0m \u001b[1;33m\u001b[0m\u001b[0m\n\u001b[0;32m     30\u001b[0m     \u001b[1;32mdef\u001b[0m \u001b[0mget_request_url\u001b[0m\u001b[1;33m(\u001b[0m\u001b[0mself\u001b[0m\u001b[1;33m)\u001b[0m\u001b[1;33m:\u001b[0m\u001b[1;33m\u001b[0m\u001b[1;33m\u001b[0m\u001b[0m\n",
      "\u001b[1;32m~\\Anaconda3\\lib\\site-packages\\pandas\\core\\frame.py\u001b[0m in \u001b[0;36m__init__\u001b[1;34m(self, data, index, columns, dtype, copy)\u001b[0m\n\u001b[0;32m    448\u001b[0m                     \u001b[1;32mif\u001b[0m \u001b[0mis_named_tuple\u001b[0m\u001b[1;33m(\u001b[0m\u001b[0mdata\u001b[0m\u001b[1;33m[\u001b[0m\u001b[1;36m0\u001b[0m\u001b[1;33m]\u001b[0m\u001b[1;33m)\u001b[0m \u001b[1;32mand\u001b[0m \u001b[0mcolumns\u001b[0m \u001b[1;32mis\u001b[0m \u001b[1;32mNone\u001b[0m\u001b[1;33m:\u001b[0m\u001b[1;33m\u001b[0m\u001b[1;33m\u001b[0m\u001b[0m\n\u001b[0;32m    449\u001b[0m                         \u001b[0mcolumns\u001b[0m \u001b[1;33m=\u001b[0m \u001b[0mdata\u001b[0m\u001b[1;33m[\u001b[0m\u001b[1;36m0\u001b[0m\u001b[1;33m]\u001b[0m\u001b[1;33m.\u001b[0m\u001b[0m_fields\u001b[0m\u001b[1;33m\u001b[0m\u001b[1;33m\u001b[0m\u001b[0m\n\u001b[1;32m--> 450\u001b[1;33m                     \u001b[0marrays\u001b[0m\u001b[1;33m,\u001b[0m \u001b[0mcolumns\u001b[0m \u001b[1;33m=\u001b[0m \u001b[0mto_arrays\u001b[0m\u001b[1;33m(\u001b[0m\u001b[0mdata\u001b[0m\u001b[1;33m,\u001b[0m \u001b[0mcolumns\u001b[0m\u001b[1;33m,\u001b[0m \u001b[0mdtype\u001b[0m\u001b[1;33m=\u001b[0m\u001b[0mdtype\u001b[0m\u001b[1;33m)\u001b[0m\u001b[1;33m\u001b[0m\u001b[1;33m\u001b[0m\u001b[0m\n\u001b[0m\u001b[0;32m    451\u001b[0m                     \u001b[0mcolumns\u001b[0m \u001b[1;33m=\u001b[0m \u001b[0mensure_index\u001b[0m\u001b[1;33m(\u001b[0m\u001b[0mcolumns\u001b[0m\u001b[1;33m)\u001b[0m\u001b[1;33m\u001b[0m\u001b[1;33m\u001b[0m\u001b[0m\n\u001b[0;32m    452\u001b[0m \u001b[1;33m\u001b[0m\u001b[0m\n",
      "\u001b[1;32m~\\Anaconda3\\lib\\site-packages\\pandas\\core\\internals\\construction.py\u001b[0m in \u001b[0;36mto_arrays\u001b[1;34m(data, columns, coerce_float, dtype)\u001b[0m\n\u001b[0;32m    462\u001b[0m         \u001b[1;32mreturn\u001b[0m \u001b[1;33m[\u001b[0m\u001b[1;33m]\u001b[0m\u001b[1;33m,\u001b[0m \u001b[1;33m[\u001b[0m\u001b[1;33m]\u001b[0m  \u001b[1;31m# columns if columns is not None else []\u001b[0m\u001b[1;33m\u001b[0m\u001b[1;33m\u001b[0m\u001b[0m\n\u001b[0;32m    463\u001b[0m     \u001b[1;32mif\u001b[0m \u001b[0misinstance\u001b[0m\u001b[1;33m(\u001b[0m\u001b[0mdata\u001b[0m\u001b[1;33m[\u001b[0m\u001b[1;36m0\u001b[0m\u001b[1;33m]\u001b[0m\u001b[1;33m,\u001b[0m \u001b[1;33m(\u001b[0m\u001b[0mlist\u001b[0m\u001b[1;33m,\u001b[0m \u001b[0mtuple\u001b[0m\u001b[1;33m)\u001b[0m\u001b[1;33m)\u001b[0m\u001b[1;33m:\u001b[0m\u001b[1;33m\u001b[0m\u001b[1;33m\u001b[0m\u001b[0m\n\u001b[1;32m--> 464\u001b[1;33m         \u001b[1;32mreturn\u001b[0m \u001b[0m_list_to_arrays\u001b[0m\u001b[1;33m(\u001b[0m\u001b[0mdata\u001b[0m\u001b[1;33m,\u001b[0m \u001b[0mcolumns\u001b[0m\u001b[1;33m,\u001b[0m \u001b[0mcoerce_float\u001b[0m\u001b[1;33m=\u001b[0m\u001b[0mcoerce_float\u001b[0m\u001b[1;33m,\u001b[0m \u001b[0mdtype\u001b[0m\u001b[1;33m=\u001b[0m\u001b[0mdtype\u001b[0m\u001b[1;33m)\u001b[0m\u001b[1;33m\u001b[0m\u001b[1;33m\u001b[0m\u001b[0m\n\u001b[0m\u001b[0;32m    465\u001b[0m     \u001b[1;32melif\u001b[0m \u001b[0misinstance\u001b[0m\u001b[1;33m(\u001b[0m\u001b[0mdata\u001b[0m\u001b[1;33m[\u001b[0m\u001b[1;36m0\u001b[0m\u001b[1;33m]\u001b[0m\u001b[1;33m,\u001b[0m \u001b[0mabc\u001b[0m\u001b[1;33m.\u001b[0m\u001b[0mMapping\u001b[0m\u001b[1;33m)\u001b[0m\u001b[1;33m:\u001b[0m\u001b[1;33m\u001b[0m\u001b[1;33m\u001b[0m\u001b[0m\n\u001b[0;32m    466\u001b[0m         return _list_of_dict_to_arrays(\n",
      "\u001b[1;32m~\\Anaconda3\\lib\\site-packages\\pandas\\core\\internals\\construction.py\u001b[0m in \u001b[0;36m_list_to_arrays\u001b[1;34m(data, columns, coerce_float, dtype)\u001b[0m\n\u001b[0;32m    501\u001b[0m         )\n\u001b[0;32m    502\u001b[0m     \u001b[1;32mexcept\u001b[0m \u001b[0mAssertionError\u001b[0m \u001b[1;32mas\u001b[0m \u001b[0me\u001b[0m\u001b[1;33m:\u001b[0m\u001b[1;33m\u001b[0m\u001b[1;33m\u001b[0m\u001b[0m\n\u001b[1;32m--> 503\u001b[1;33m         \u001b[1;32mraise\u001b[0m \u001b[0mValueError\u001b[0m\u001b[1;33m(\u001b[0m\u001b[0me\u001b[0m\u001b[1;33m)\u001b[0m \u001b[1;32mfrom\u001b[0m \u001b[0me\u001b[0m\u001b[1;33m\u001b[0m\u001b[1;33m\u001b[0m\u001b[0m\n\u001b[0m\u001b[0;32m    504\u001b[0m     \u001b[1;32mreturn\u001b[0m \u001b[0mresult\u001b[0m\u001b[1;33m\u001b[0m\u001b[1;33m\u001b[0m\u001b[0m\n\u001b[0;32m    505\u001b[0m \u001b[1;33m\u001b[0m\u001b[0m\n",
      "\u001b[1;31mValueError\u001b[0m: 2 columns passed, passed data had 26 columns"
     ]
    }
   ],
   "source": [
    "#shot_locs_season.get_data_frames()\n",
    "# bug here; report to api issues"
   ]
  },
  {
   "cell_type": "markdown",
   "metadata": {},
   "source": [
    "## Defensive dashboards"
   ]
  },
  {
   "cell_type": "code",
   "execution_count": 12,
   "metadata": {},
   "outputs": [],
   "source": [
    "from nba_api.stats.endpoints import LeagueDashPtDefend"
   ]
  },
  {
   "cell_type": "code",
   "execution_count": 13,
   "metadata": {},
   "outputs": [],
   "source": [
    "# Defending > 15 ft\n",
    "def get_perimeter_defs(in_season, out_df):\n",
    "    df = LeagueDashPtDefend(defense_category='3 Pointers', \n",
    "                                        per_mode_simple='PerGame',\n",
    "                                        season=in_season).get_data_frames()[0]\n",
    "    df['season'] = in_season\n",
    "    out_df = pd.concat([out_df, df])\n",
    "    return out_df"
   ]
  },
  {
   "cell_type": "code",
   "execution_count": 15,
   "metadata": {},
   "outputs": [],
   "source": [
    "# create empty data frame\n",
    "perimeter_def_df = pd.DataFrame()\n",
    "# loop through seasons\n",
    "for season in seasons:\n",
    "    perimeter_def_df = get_perimeter_defs(season, perimeter_def_df)"
   ]
  },
  {
   "cell_type": "code",
   "execution_count": 16,
   "metadata": {},
   "outputs": [
    {
     "data": {
      "text/html": "<div>\n<style scoped>\n    .dataframe tbody tr th:only-of-type {\n        vertical-align: middle;\n    }\n\n    .dataframe tbody tr th {\n        vertical-align: top;\n    }\n\n    .dataframe thead th {\n        text-align: right;\n    }\n</style>\n<table border=\"1\" class=\"dataframe\">\n  <thead>\n    <tr style=\"text-align: right;\">\n      <th></th>\n      <th>CLOSE_DEF_PERSON_ID</th>\n      <th>PLAYER_NAME</th>\n      <th>PLAYER_LAST_TEAM_ID</th>\n      <th>PLAYER_LAST_TEAM_ABBREVIATION</th>\n      <th>PLAYER_POSITION</th>\n      <th>AGE</th>\n      <th>GP</th>\n      <th>G</th>\n      <th>FREQ</th>\n      <th>FG3M</th>\n      <th>FG3A</th>\n      <th>FG3_PCT</th>\n      <th>NS_FG3_PCT</th>\n      <th>PLUSMINUS</th>\n      <th>season</th>\n    </tr>\n  </thead>\n  <tbody>\n    <tr>\n      <td>0</td>\n      <td>201950</td>\n      <td>Jrue Holiday</td>\n      <td>1610612740</td>\n      <td>NOP</td>\n      <td>G</td>\n      <td>24.0</td>\n      <td>34</td>\n      <td>34</td>\n      <td>0.466</td>\n      <td>1.88</td>\n      <td>5.24</td>\n      <td>0.360</td>\n      <td>0.356</td>\n      <td>0.004</td>\n      <td>2013-14</td>\n    </tr>\n    <tr>\n      <td>1</td>\n      <td>202689</td>\n      <td>Kemba Walker</td>\n      <td>1610612766</td>\n      <td>CHA</td>\n      <td>G</td>\n      <td>24.0</td>\n      <td>72</td>\n      <td>71</td>\n      <td>0.364</td>\n      <td>2.00</td>\n      <td>4.94</td>\n      <td>0.404</td>\n      <td>0.351</td>\n      <td>0.053</td>\n      <td>2013-14</td>\n    </tr>\n    <tr>\n      <td>2</td>\n      <td>202681</td>\n      <td>Kyrie Irving</td>\n      <td>1610612739</td>\n      <td>CLE</td>\n      <td>G</td>\n      <td>22.0</td>\n      <td>71</td>\n      <td>70</td>\n      <td>0.451</td>\n      <td>1.83</td>\n      <td>4.87</td>\n      <td>0.376</td>\n      <td>0.360</td>\n      <td>0.016</td>\n      <td>2013-14</td>\n    </tr>\n    <tr>\n      <td>3</td>\n      <td>201935</td>\n      <td>James Harden</td>\n      <td>1610612745</td>\n      <td>HOU</td>\n      <td>G</td>\n      <td>24.0</td>\n      <td>73</td>\n      <td>71</td>\n      <td>0.394</td>\n      <td>1.68</td>\n      <td>4.81</td>\n      <td>0.350</td>\n      <td>0.354</td>\n      <td>-0.004</td>\n      <td>2013-14</td>\n    </tr>\n    <tr>\n      <td>4</td>\n      <td>203079</td>\n      <td>Dion Waiters</td>\n      <td>1610612739</td>\n      <td>CLE</td>\n      <td>G</td>\n      <td>22.0</td>\n      <td>70</td>\n      <td>70</td>\n      <td>0.493</td>\n      <td>1.67</td>\n      <td>4.54</td>\n      <td>0.368</td>\n      <td>0.359</td>\n      <td>0.009</td>\n      <td>2013-14</td>\n    </tr>\n  </tbody>\n</table>\n</div>",
      "text/plain": "   CLOSE_DEF_PERSON_ID   PLAYER_NAME  PLAYER_LAST_TEAM_ID  \\\n0               201950  Jrue Holiday           1610612740   \n1               202689  Kemba Walker           1610612766   \n2               202681  Kyrie Irving           1610612739   \n3               201935  James Harden           1610612745   \n4               203079  Dion Waiters           1610612739   \n\n  PLAYER_LAST_TEAM_ABBREVIATION PLAYER_POSITION   AGE  GP   G   FREQ  FG3M  \\\n0                           NOP               G  24.0  34  34  0.466  1.88   \n1                           CHA               G  24.0  72  71  0.364  2.00   \n2                           CLE               G  22.0  71  70  0.451  1.83   \n3                           HOU               G  24.0  73  71  0.394  1.68   \n4                           CLE               G  22.0  70  70  0.493  1.67   \n\n   FG3A  FG3_PCT  NS_FG3_PCT  PLUSMINUS   season  \n0  5.24    0.360       0.356      0.004  2013-14  \n1  4.94    0.404       0.351      0.053  2013-14  \n2  4.87    0.376       0.360      0.016  2013-14  \n3  4.81    0.350       0.354     -0.004  2013-14  \n4  4.54    0.368       0.359      0.009  2013-14  "
     },
     "execution_count": 16,
     "metadata": {},
     "output_type": "execute_result"
    }
   ],
   "source": [
    "perimeter_def_df.head()"
   ]
  },
  {
   "cell_type": "code",
   "execution_count": 17,
   "metadata": {},
   "outputs": [],
   "source": [
    "# Change freq label\n",
    "perimeter_def_df.rename(columns={'FREQ': '3P_FREQ'}, inplace=True)"
   ]
  },
  {
   "cell_type": "code",
   "execution_count": 18,
   "metadata": {},
   "outputs": [],
   "source": [
    "# Change +/- label\n",
    "perimeter_def_df.rename(columns={'PLUSMINUS': '3P_PLUSMINUS'}, inplace=True)"
   ]
  },
  {
   "cell_type": "code",
   "execution_count": 19,
   "metadata": {},
   "outputs": [],
   "source": [
    "# Defending within 6 ft\n",
    "# Defending > 15 ft\n",
    "def get_interior_defs(in_season, out_df):\n",
    "    df = LeagueDashPtDefend(defense_category='Less Than 6Ft', \n",
    "                                        per_mode_simple='PerGame',\n",
    "                                        season=in_season).get_data_frames()[0]\n",
    "    df['season'] = in_season\n",
    "    out_df = pd.concat([out_df, df])\n",
    "    return out_df"
   ]
  },
  {
   "cell_type": "code",
   "execution_count": 20,
   "metadata": {},
   "outputs": [],
   "source": [
    "# create empty data frame\n",
    "interior_def_df = pd.DataFrame()\n",
    "# loop through seasons\n",
    "for season in seasons:\n",
    "    interior_def_df = get_interior_defs(season, interior_def_df)"
   ]
  },
  {
   "cell_type": "code",
   "execution_count": 21,
   "metadata": {},
   "outputs": [
    {
     "data": {
      "text/html": "<div>\n<style scoped>\n    .dataframe tbody tr th:only-of-type {\n        vertical-align: middle;\n    }\n\n    .dataframe tbody tr th {\n        vertical-align: top;\n    }\n\n    .dataframe thead th {\n        text-align: right;\n    }\n</style>\n<table border=\"1\" class=\"dataframe\">\n  <thead>\n    <tr style=\"text-align: right;\">\n      <th></th>\n      <th>CLOSE_DEF_PERSON_ID</th>\n      <th>PLAYER_NAME</th>\n      <th>PLAYER_LAST_TEAM_ID</th>\n      <th>PLAYER_LAST_TEAM_ABBREVIATION</th>\n      <th>PLAYER_POSITION</th>\n      <th>AGE</th>\n      <th>GP</th>\n      <th>G</th>\n      <th>FREQ</th>\n      <th>FGM_LT_06</th>\n      <th>FGA_LT_06</th>\n      <th>LT_06_PCT</th>\n      <th>NS_LT_06_PCT</th>\n      <th>PLUSMINUS</th>\n      <th>season</th>\n    </tr>\n  </thead>\n  <tbody>\n    <tr>\n      <td>0</td>\n      <td>201577</td>\n      <td>Robin Lopez</td>\n      <td>1610612757</td>\n      <td>POR</td>\n      <td>C</td>\n      <td>26.0</td>\n      <td>82</td>\n      <td>82</td>\n      <td>0.488</td>\n      <td>3.66</td>\n      <td>7.83</td>\n      <td>0.467</td>\n      <td>0.594</td>\n      <td>-0.127</td>\n      <td>2013-14</td>\n    </tr>\n    <tr>\n      <td>1</td>\n      <td>201586</td>\n      <td>Serge Ibaka</td>\n      <td>1610612760</td>\n      <td>OKC</td>\n      <td>F-C</td>\n      <td>24.0</td>\n      <td>81</td>\n      <td>81</td>\n      <td>0.489</td>\n      <td>3.74</td>\n      <td>7.67</td>\n      <td>0.488</td>\n      <td>0.599</td>\n      <td>-0.111</td>\n      <td>2013-14</td>\n    </tr>\n    <tr>\n      <td>2</td>\n      <td>2200</td>\n      <td>Pau Gasol</td>\n      <td>1610612747</td>\n      <td>LAL</td>\n      <td>C-F</td>\n      <td>33.0</td>\n      <td>60</td>\n      <td>60</td>\n      <td>0.518</td>\n      <td>4.53</td>\n      <td>7.58</td>\n      <td>0.598</td>\n      <td>0.603</td>\n      <td>-0.005</td>\n      <td>2013-14</td>\n    </tr>\n    <tr>\n      <td>3</td>\n      <td>201599</td>\n      <td>DeAndre Jordan</td>\n      <td>1610612746</td>\n      <td>LAC</td>\n      <td>C</td>\n      <td>25.0</td>\n      <td>81</td>\n      <td>81</td>\n      <td>0.452</td>\n      <td>4.23</td>\n      <td>7.56</td>\n      <td>0.560</td>\n      <td>0.601</td>\n      <td>-0.040</td>\n      <td>2013-14</td>\n    </tr>\n    <tr>\n      <td>4</td>\n      <td>101162</td>\n      <td>Marcin Gortat</td>\n      <td>1610612764</td>\n      <td>WAS</td>\n      <td>C</td>\n      <td>30.0</td>\n      <td>80</td>\n      <td>79</td>\n      <td>0.494</td>\n      <td>4.08</td>\n      <td>7.55</td>\n      <td>0.540</td>\n      <td>0.597</td>\n      <td>-0.057</td>\n      <td>2013-14</td>\n    </tr>\n  </tbody>\n</table>\n</div>",
      "text/plain": "   CLOSE_DEF_PERSON_ID     PLAYER_NAME  PLAYER_LAST_TEAM_ID  \\\n0               201577     Robin Lopez           1610612757   \n1               201586     Serge Ibaka           1610612760   \n2                 2200       Pau Gasol           1610612747   \n3               201599  DeAndre Jordan           1610612746   \n4               101162   Marcin Gortat           1610612764   \n\n  PLAYER_LAST_TEAM_ABBREVIATION PLAYER_POSITION   AGE  GP   G   FREQ  \\\n0                           POR               C  26.0  82  82  0.488   \n1                           OKC             F-C  24.0  81  81  0.489   \n2                           LAL             C-F  33.0  60  60  0.518   \n3                           LAC               C  25.0  81  81  0.452   \n4                           WAS               C  30.0  80  79  0.494   \n\n   FGM_LT_06  FGA_LT_06  LT_06_PCT  NS_LT_06_PCT  PLUSMINUS   season  \n0       3.66       7.83      0.467         0.594     -0.127  2013-14  \n1       3.74       7.67      0.488         0.599     -0.111  2013-14  \n2       4.53       7.58      0.598         0.603     -0.005  2013-14  \n3       4.23       7.56      0.560         0.601     -0.040  2013-14  \n4       4.08       7.55      0.540         0.597     -0.057  2013-14  "
     },
     "execution_count": 21,
     "metadata": {},
     "output_type": "execute_result"
    }
   ],
   "source": [
    "interior_def_df.head()"
   ]
  },
  {
   "cell_type": "code",
   "execution_count": 22,
   "metadata": {},
   "outputs": [],
   "source": [
    "# change freq labels\n",
    "interior_def_df.rename(columns={'FREQ': '6FT_FREQ'}, inplace=True)"
   ]
  },
  {
   "cell_type": "code",
   "execution_count": 23,
   "metadata": {},
   "outputs": [],
   "source": [
    "interior_def_df.rename(columns={'PLUSMINUS': '6FT_PLUSMINUS'}, inplace=True)"
   ]
  },
  {
   "cell_type": "code",
   "execution_count": 24,
   "metadata": {},
   "outputs": [
    {
     "data": {
      "text/html": "<div>\n<style scoped>\n    .dataframe tbody tr th:only-of-type {\n        vertical-align: middle;\n    }\n\n    .dataframe tbody tr th {\n        vertical-align: top;\n    }\n\n    .dataframe thead th {\n        text-align: right;\n    }\n</style>\n<table border=\"1\" class=\"dataframe\">\n  <thead>\n    <tr style=\"text-align: right;\">\n      <th></th>\n      <th>CLOSE_DEF_PERSON_ID</th>\n      <th>PLAYER_NAME</th>\n      <th>PLAYER_LAST_TEAM_ID</th>\n      <th>PLAYER_LAST_TEAM_ABBREVIATION</th>\n      <th>PLAYER_POSITION</th>\n      <th>AGE</th>\n      <th>GP</th>\n      <th>G</th>\n      <th>6FT_FREQ</th>\n      <th>FGM_LT_06</th>\n      <th>FGA_LT_06</th>\n      <th>LT_06_PCT</th>\n      <th>NS_LT_06_PCT</th>\n      <th>6FT_PLUSMINUS</th>\n      <th>season</th>\n    </tr>\n  </thead>\n  <tbody>\n    <tr>\n      <td>0</td>\n      <td>201577</td>\n      <td>Robin Lopez</td>\n      <td>1610612757</td>\n      <td>POR</td>\n      <td>C</td>\n      <td>26.0</td>\n      <td>82</td>\n      <td>82</td>\n      <td>0.488</td>\n      <td>3.66</td>\n      <td>7.83</td>\n      <td>0.467</td>\n      <td>0.594</td>\n      <td>-0.127</td>\n      <td>2013-14</td>\n    </tr>\n    <tr>\n      <td>1</td>\n      <td>201586</td>\n      <td>Serge Ibaka</td>\n      <td>1610612760</td>\n      <td>OKC</td>\n      <td>F-C</td>\n      <td>24.0</td>\n      <td>81</td>\n      <td>81</td>\n      <td>0.489</td>\n      <td>3.74</td>\n      <td>7.67</td>\n      <td>0.488</td>\n      <td>0.599</td>\n      <td>-0.111</td>\n      <td>2013-14</td>\n    </tr>\n    <tr>\n      <td>2</td>\n      <td>2200</td>\n      <td>Pau Gasol</td>\n      <td>1610612747</td>\n      <td>LAL</td>\n      <td>C-F</td>\n      <td>33.0</td>\n      <td>60</td>\n      <td>60</td>\n      <td>0.518</td>\n      <td>4.53</td>\n      <td>7.58</td>\n      <td>0.598</td>\n      <td>0.603</td>\n      <td>-0.005</td>\n      <td>2013-14</td>\n    </tr>\n    <tr>\n      <td>3</td>\n      <td>201599</td>\n      <td>DeAndre Jordan</td>\n      <td>1610612746</td>\n      <td>LAC</td>\n      <td>C</td>\n      <td>25.0</td>\n      <td>81</td>\n      <td>81</td>\n      <td>0.452</td>\n      <td>4.23</td>\n      <td>7.56</td>\n      <td>0.560</td>\n      <td>0.601</td>\n      <td>-0.040</td>\n      <td>2013-14</td>\n    </tr>\n    <tr>\n      <td>4</td>\n      <td>101162</td>\n      <td>Marcin Gortat</td>\n      <td>1610612764</td>\n      <td>WAS</td>\n      <td>C</td>\n      <td>30.0</td>\n      <td>80</td>\n      <td>79</td>\n      <td>0.494</td>\n      <td>4.08</td>\n      <td>7.55</td>\n      <td>0.540</td>\n      <td>0.597</td>\n      <td>-0.057</td>\n      <td>2013-14</td>\n    </tr>\n  </tbody>\n</table>\n</div>",
      "text/plain": "   CLOSE_DEF_PERSON_ID     PLAYER_NAME  PLAYER_LAST_TEAM_ID  \\\n0               201577     Robin Lopez           1610612757   \n1               201586     Serge Ibaka           1610612760   \n2                 2200       Pau Gasol           1610612747   \n3               201599  DeAndre Jordan           1610612746   \n4               101162   Marcin Gortat           1610612764   \n\n  PLAYER_LAST_TEAM_ABBREVIATION PLAYER_POSITION   AGE  GP   G  6FT_FREQ  \\\n0                           POR               C  26.0  82  82     0.488   \n1                           OKC             F-C  24.0  81  81     0.489   \n2                           LAL             C-F  33.0  60  60     0.518   \n3                           LAC               C  25.0  81  81     0.452   \n4                           WAS               C  30.0  80  79     0.494   \n\n   FGM_LT_06  FGA_LT_06  LT_06_PCT  NS_LT_06_PCT  6FT_PLUSMINUS   season  \n0       3.66       7.83      0.467         0.594         -0.127  2013-14  \n1       3.74       7.67      0.488         0.599         -0.111  2013-14  \n2       4.53       7.58      0.598         0.603         -0.005  2013-14  \n3       4.23       7.56      0.560         0.601         -0.040  2013-14  \n4       4.08       7.55      0.540         0.597         -0.057  2013-14  "
     },
     "execution_count": 24,
     "metadata": {},
     "output_type": "execute_result"
    }
   ],
   "source": [
    "interior_def_df.head()"
   ]
  },
  {
   "cell_type": "code",
   "execution_count": 25,
   "metadata": {},
   "outputs": [
    {
     "data": {
      "text/html": "<div>\n<style scoped>\n    .dataframe tbody tr th:only-of-type {\n        vertical-align: middle;\n    }\n\n    .dataframe tbody tr th {\n        vertical-align: top;\n    }\n\n    .dataframe thead th {\n        text-align: right;\n    }\n</style>\n<table border=\"1\" class=\"dataframe\">\n  <thead>\n    <tr style=\"text-align: right;\">\n      <th></th>\n      <th>FG3M</th>\n      <th>FG3A</th>\n      <th>FG3_PCT</th>\n      <th>NS_FG3_PCT</th>\n      <th>3P_PLUSMINUS</th>\n    </tr>\n  </thead>\n  <tbody>\n    <tr>\n      <td>0</td>\n      <td>1.88</td>\n      <td>5.24</td>\n      <td>0.360</td>\n      <td>0.356</td>\n      <td>0.004</td>\n    </tr>\n    <tr>\n      <td>1</td>\n      <td>2.00</td>\n      <td>4.94</td>\n      <td>0.404</td>\n      <td>0.351</td>\n      <td>0.053</td>\n    </tr>\n    <tr>\n      <td>2</td>\n      <td>1.83</td>\n      <td>4.87</td>\n      <td>0.376</td>\n      <td>0.360</td>\n      <td>0.016</td>\n    </tr>\n    <tr>\n      <td>3</td>\n      <td>1.68</td>\n      <td>4.81</td>\n      <td>0.350</td>\n      <td>0.354</td>\n      <td>-0.004</td>\n    </tr>\n    <tr>\n      <td>4</td>\n      <td>1.67</td>\n      <td>4.54</td>\n      <td>0.368</td>\n      <td>0.359</td>\n      <td>0.009</td>\n    </tr>\n    <tr>\n      <td>...</td>\n      <td>...</td>\n      <td>...</td>\n      <td>...</td>\n      <td>...</td>\n      <td>...</td>\n    </tr>\n    <tr>\n      <td>512</td>\n      <td>0.00</td>\n      <td>0.50</td>\n      <td>0.000</td>\n      <td>0.397</td>\n      <td>-0.397</td>\n    </tr>\n    <tr>\n      <td>513</td>\n      <td>0.00</td>\n      <td>0.50</td>\n      <td>0.000</td>\n      <td>0.296</td>\n      <td>-0.296</td>\n    </tr>\n    <tr>\n      <td>514</td>\n      <td>0.18</td>\n      <td>0.47</td>\n      <td>0.375</td>\n      <td>0.362</td>\n      <td>0.013</td>\n    </tr>\n    <tr>\n      <td>515</td>\n      <td>0.20</td>\n      <td>0.40</td>\n      <td>0.500</td>\n      <td>0.199</td>\n      <td>0.301</td>\n    </tr>\n    <tr>\n      <td>516</td>\n      <td>0.00</td>\n      <td>0.25</td>\n      <td>0.000</td>\n      <td>0.417</td>\n      <td>-0.417</td>\n    </tr>\n  </tbody>\n</table>\n<p>2956 rows × 5 columns</p>\n</div>",
      "text/plain": "     FG3M  FG3A  FG3_PCT  NS_FG3_PCT  3P_PLUSMINUS\n0    1.88  5.24    0.360       0.356         0.004\n1    2.00  4.94    0.404       0.351         0.053\n2    1.83  4.87    0.376       0.360         0.016\n3    1.68  4.81    0.350       0.354        -0.004\n4    1.67  4.54    0.368       0.359         0.009\n..    ...   ...      ...         ...           ...\n512  0.00  0.50    0.000       0.397        -0.397\n513  0.00  0.50    0.000       0.296        -0.296\n514  0.18  0.47    0.375       0.362         0.013\n515  0.20  0.40    0.500       0.199         0.301\n516  0.00  0.25    0.000       0.417        -0.417\n\n[2956 rows x 5 columns]"
     },
     "execution_count": 25,
     "metadata": {},
     "output_type": "execute_result"
    }
   ],
   "source": [
    "perimeter_def_df[perimeter_def_df.columns[9:14]]"
   ]
  },
  {
   "cell_type": "code",
   "execution_count": 26,
   "metadata": {},
   "outputs": [
    {
     "data": {
      "text/html": "<div>\n<style scoped>\n    .dataframe tbody tr th:only-of-type {\n        vertical-align: middle;\n    }\n\n    .dataframe tbody tr th {\n        vertical-align: top;\n    }\n\n    .dataframe thead th {\n        text-align: right;\n    }\n</style>\n<table border=\"1\" class=\"dataframe\">\n  <thead>\n    <tr style=\"text-align: right;\">\n      <th></th>\n      <th>CLOSE_DEF_PERSON_ID</th>\n      <th>PLAYER_NAME</th>\n      <th>PLAYER_LAST_TEAM_ID</th>\n      <th>PLAYER_LAST_TEAM_ABBREVIATION</th>\n      <th>PLAYER_POSITION</th>\n      <th>AGE</th>\n      <th>GP</th>\n      <th>G</th>\n      <th>3P_FREQ</th>\n      <th>FG3M</th>\n      <th>FG3A</th>\n      <th>FG3_PCT</th>\n      <th>NS_FG3_PCT</th>\n      <th>3P_PLUSMINUS</th>\n      <th>season</th>\n    </tr>\n  </thead>\n  <tbody>\n    <tr>\n      <td>512</td>\n      <td>201281</td>\n      <td>Andre Ingram</td>\n      <td>1610612747</td>\n      <td>LAL</td>\n      <td>G</td>\n      <td>33.0</td>\n      <td>2</td>\n      <td>1</td>\n      <td>0.333</td>\n      <td>0.00</td>\n      <td>0.50</td>\n      <td>0.000</td>\n      <td>0.397</td>\n      <td>-0.397</td>\n      <td>2018-19</td>\n    </tr>\n    <tr>\n      <td>513</td>\n      <td>1628505</td>\n      <td>Troy Caupain</td>\n      <td>1610612753</td>\n      <td>ORL</td>\n      <td>G</td>\n      <td>23.0</td>\n      <td>4</td>\n      <td>2</td>\n      <td>0.286</td>\n      <td>0.00</td>\n      <td>0.50</td>\n      <td>0.000</td>\n      <td>0.296</td>\n      <td>-0.296</td>\n      <td>2018-19</td>\n    </tr>\n    <tr>\n      <td>514</td>\n      <td>203101</td>\n      <td>Miles Plumlee</td>\n      <td>1610612737</td>\n      <td>ATL</td>\n      <td>C</td>\n      <td>30.0</td>\n      <td>17</td>\n      <td>7</td>\n      <td>0.100</td>\n      <td>0.18</td>\n      <td>0.47</td>\n      <td>0.375</td>\n      <td>0.362</td>\n      <td>0.013</td>\n      <td>2018-19</td>\n    </tr>\n    <tr>\n      <td>515</td>\n      <td>1629058</td>\n      <td>Dzanan Musa</td>\n      <td>1610612751</td>\n      <td>BKN</td>\n      <td>G-F</td>\n      <td>20.0</td>\n      <td>5</td>\n      <td>2</td>\n      <td>0.222</td>\n      <td>0.20</td>\n      <td>0.40</td>\n      <td>0.500</td>\n      <td>0.199</td>\n      <td>0.301</td>\n      <td>2018-19</td>\n    </tr>\n    <tr>\n      <td>516</td>\n      <td>1628463</td>\n      <td>Tyler Cavanaugh</td>\n      <td>1610612762</td>\n      <td>UTA</td>\n      <td>F</td>\n      <td>25.0</td>\n      <td>4</td>\n      <td>1</td>\n      <td>0.143</td>\n      <td>0.00</td>\n      <td>0.25</td>\n      <td>0.000</td>\n      <td>0.417</td>\n      <td>-0.417</td>\n      <td>2018-19</td>\n    </tr>\n  </tbody>\n</table>\n</div>",
      "text/plain": "     CLOSE_DEF_PERSON_ID      PLAYER_NAME  PLAYER_LAST_TEAM_ID  \\\n512               201281     Andre Ingram           1610612747   \n513              1628505     Troy Caupain           1610612753   \n514               203101    Miles Plumlee           1610612737   \n515              1629058      Dzanan Musa           1610612751   \n516              1628463  Tyler Cavanaugh           1610612762   \n\n    PLAYER_LAST_TEAM_ABBREVIATION PLAYER_POSITION   AGE  GP  G  3P_FREQ  FG3M  \\\n512                           LAL               G  33.0   2  1    0.333  0.00   \n513                           ORL               G  23.0   4  2    0.286  0.00   \n514                           ATL               C  30.0  17  7    0.100  0.18   \n515                           BKN             G-F  20.0   5  2    0.222  0.20   \n516                           UTA               F  25.0   4  1    0.143  0.00   \n\n     FG3A  FG3_PCT  NS_FG3_PCT  3P_PLUSMINUS   season  \n512  0.50    0.000       0.397        -0.397  2018-19  \n513  0.50    0.000       0.296        -0.296  2018-19  \n514  0.47    0.375       0.362         0.013  2018-19  \n515  0.40    0.500       0.199         0.301  2018-19  \n516  0.25    0.000       0.417        -0.417  2018-19  "
     },
     "execution_count": 26,
     "metadata": {},
     "output_type": "execute_result"
    }
   ],
   "source": [
    "perimeter_def_df.tail()"
   ]
  },
  {
   "cell_type": "code",
   "execution_count": 27,
   "metadata": {},
   "outputs": [],
   "source": [
    "filtered_perimeter_def_df = pd.concat([perimeter_def_df.PLAYER_NAME, perimeter_def_df.season, perimeter_def_df[perimeter_def_df.columns[8:14]]], axis=1)"
   ]
  },
  {
   "cell_type": "code",
   "execution_count": 28,
   "metadata": {},
   "outputs": [
    {
     "data": {
      "text/html": "<div>\n<style scoped>\n    .dataframe tbody tr th:only-of-type {\n        vertical-align: middle;\n    }\n\n    .dataframe tbody tr th {\n        vertical-align: top;\n    }\n\n    .dataframe thead th {\n        text-align: right;\n    }\n</style>\n<table border=\"1\" class=\"dataframe\">\n  <thead>\n    <tr style=\"text-align: right;\">\n      <th></th>\n      <th>PLAYER_NAME</th>\n      <th>season</th>\n      <th>3P_FREQ</th>\n      <th>FG3M</th>\n      <th>FG3A</th>\n      <th>FG3_PCT</th>\n      <th>NS_FG3_PCT</th>\n      <th>3P_PLUSMINUS</th>\n    </tr>\n  </thead>\n  <tbody>\n    <tr>\n      <td>0</td>\n      <td>Jrue Holiday</td>\n      <td>2013-14</td>\n      <td>0.466</td>\n      <td>1.88</td>\n      <td>5.24</td>\n      <td>0.360</td>\n      <td>0.356</td>\n      <td>0.004</td>\n    </tr>\n    <tr>\n      <td>1</td>\n      <td>Kemba Walker</td>\n      <td>2013-14</td>\n      <td>0.364</td>\n      <td>2.00</td>\n      <td>4.94</td>\n      <td>0.404</td>\n      <td>0.351</td>\n      <td>0.053</td>\n    </tr>\n    <tr>\n      <td>2</td>\n      <td>Kyrie Irving</td>\n      <td>2013-14</td>\n      <td>0.451</td>\n      <td>1.83</td>\n      <td>4.87</td>\n      <td>0.376</td>\n      <td>0.360</td>\n      <td>0.016</td>\n    </tr>\n    <tr>\n      <td>3</td>\n      <td>James Harden</td>\n      <td>2013-14</td>\n      <td>0.394</td>\n      <td>1.68</td>\n      <td>4.81</td>\n      <td>0.350</td>\n      <td>0.354</td>\n      <td>-0.004</td>\n    </tr>\n    <tr>\n      <td>4</td>\n      <td>Dion Waiters</td>\n      <td>2013-14</td>\n      <td>0.493</td>\n      <td>1.67</td>\n      <td>4.54</td>\n      <td>0.368</td>\n      <td>0.359</td>\n      <td>0.009</td>\n    </tr>\n    <tr>\n      <td>...</td>\n      <td>...</td>\n      <td>...</td>\n      <td>...</td>\n      <td>...</td>\n      <td>...</td>\n      <td>...</td>\n      <td>...</td>\n      <td>...</td>\n    </tr>\n    <tr>\n      <td>512</td>\n      <td>Andre Ingram</td>\n      <td>2018-19</td>\n      <td>0.333</td>\n      <td>0.00</td>\n      <td>0.50</td>\n      <td>0.000</td>\n      <td>0.397</td>\n      <td>-0.397</td>\n    </tr>\n    <tr>\n      <td>513</td>\n      <td>Troy Caupain</td>\n      <td>2018-19</td>\n      <td>0.286</td>\n      <td>0.00</td>\n      <td>0.50</td>\n      <td>0.000</td>\n      <td>0.296</td>\n      <td>-0.296</td>\n    </tr>\n    <tr>\n      <td>514</td>\n      <td>Miles Plumlee</td>\n      <td>2018-19</td>\n      <td>0.100</td>\n      <td>0.18</td>\n      <td>0.47</td>\n      <td>0.375</td>\n      <td>0.362</td>\n      <td>0.013</td>\n    </tr>\n    <tr>\n      <td>515</td>\n      <td>Dzanan Musa</td>\n      <td>2018-19</td>\n      <td>0.222</td>\n      <td>0.20</td>\n      <td>0.40</td>\n      <td>0.500</td>\n      <td>0.199</td>\n      <td>0.301</td>\n    </tr>\n    <tr>\n      <td>516</td>\n      <td>Tyler Cavanaugh</td>\n      <td>2018-19</td>\n      <td>0.143</td>\n      <td>0.00</td>\n      <td>0.25</td>\n      <td>0.000</td>\n      <td>0.417</td>\n      <td>-0.417</td>\n    </tr>\n  </tbody>\n</table>\n<p>2956 rows × 8 columns</p>\n</div>",
      "text/plain": "         PLAYER_NAME   season  3P_FREQ  FG3M  FG3A  FG3_PCT  NS_FG3_PCT  \\\n0       Jrue Holiday  2013-14    0.466  1.88  5.24    0.360       0.356   \n1       Kemba Walker  2013-14    0.364  2.00  4.94    0.404       0.351   \n2       Kyrie Irving  2013-14    0.451  1.83  4.87    0.376       0.360   \n3       James Harden  2013-14    0.394  1.68  4.81    0.350       0.354   \n4       Dion Waiters  2013-14    0.493  1.67  4.54    0.368       0.359   \n..               ...      ...      ...   ...   ...      ...         ...   \n512     Andre Ingram  2018-19    0.333  0.00  0.50    0.000       0.397   \n513     Troy Caupain  2018-19    0.286  0.00  0.50    0.000       0.296   \n514    Miles Plumlee  2018-19    0.100  0.18  0.47    0.375       0.362   \n515      Dzanan Musa  2018-19    0.222  0.20  0.40    0.500       0.199   \n516  Tyler Cavanaugh  2018-19    0.143  0.00  0.25    0.000       0.417   \n\n     3P_PLUSMINUS  \n0           0.004  \n1           0.053  \n2           0.016  \n3          -0.004  \n4           0.009  \n..            ...  \n512        -0.397  \n513        -0.296  \n514         0.013  \n515         0.301  \n516        -0.417  \n\n[2956 rows x 8 columns]"
     },
     "execution_count": 28,
     "metadata": {},
     "output_type": "execute_result"
    }
   ],
   "source": [
    "filtered_perimeter_def_df"
   ]
  },
  {
   "cell_type": "code",
   "execution_count": 29,
   "metadata": {},
   "outputs": [],
   "source": [
    "# Combine appropriate statistics\n",
    "combined_def_df = interior_def_df.merge(filtered_perimeter_def_df, on=['PLAYER_NAME', 'season'])"
   ]
  },
  {
   "cell_type": "code",
   "execution_count": 30,
   "metadata": {},
   "outputs": [
    {
     "data": {
      "text/plain": "2933"
     },
     "execution_count": 30,
     "metadata": {},
     "output_type": "execute_result"
    }
   ],
   "source": [
    "len(combined_def_df)"
   ]
  },
  {
   "cell_type": "code",
   "execution_count": 31,
   "metadata": {},
   "outputs": [
    {
     "data": {
      "text/plain": "Index(['CLOSE_DEF_PERSON_ID', 'PLAYER_NAME', 'PLAYER_LAST_TEAM_ID',\n       'PLAYER_LAST_TEAM_ABBREVIATION', 'PLAYER_POSITION', 'AGE', 'GP', 'G',\n       '6FT_FREQ', 'FGM_LT_06', 'FGA_LT_06', 'LT_06_PCT', 'NS_LT_06_PCT',\n       '6FT_PLUSMINUS', 'season', '3P_FREQ', 'FG3M', 'FG3A', 'FG3_PCT',\n       'NS_FG3_PCT', '3P_PLUSMINUS'],\n      dtype='object')"
     },
     "execution_count": 31,
     "metadata": {},
     "output_type": "execute_result"
    }
   ],
   "source": [
    "combined_def_df.columns"
   ]
  },
  {
   "cell_type": "code",
   "execution_count": 34,
   "metadata": {},
   "outputs": [
    {
     "data": {
      "text/plain": "3006"
     },
     "execution_count": 34,
     "metadata": {},
     "output_type": "execute_result"
    }
   ],
   "source": [
    "len(players_adv_df)"
   ]
  },
  {
   "cell_type": "code",
   "execution_count": 35,
   "metadata": {},
   "outputs": [
    {
     "data": {
      "text/plain": "2933"
     },
     "execution_count": 35,
     "metadata": {},
     "output_type": "execute_result"
    }
   ],
   "source": [
    "len(combined_def_df)"
   ]
  },
  {
   "cell_type": "code",
   "execution_count": 40,
   "metadata": {},
   "outputs": [
    {
     "data": {
      "text/html": "<div>\n<style scoped>\n    .dataframe tbody tr th:only-of-type {\n        vertical-align: middle;\n    }\n\n    .dataframe tbody tr th {\n        vertical-align: top;\n    }\n\n    .dataframe thead th {\n        text-align: right;\n    }\n</style>\n<table border=\"1\" class=\"dataframe\">\n  <thead>\n    <tr style=\"text-align: right;\">\n      <th></th>\n      <th>PLAYER_ID</th>\n      <th>DREB_PCT</th>\n    </tr>\n  </thead>\n  <tbody>\n    <tr>\n      <td>0</td>\n      <td>201985</td>\n      <td>0.075</td>\n    </tr>\n    <tr>\n      <td>1</td>\n      <td>201166</td>\n      <td>0.061</td>\n    </tr>\n    <tr>\n      <td>2</td>\n      <td>201189</td>\n      <td>0.199</td>\n    </tr>\n    <tr>\n      <td>3</td>\n      <td>203519</td>\n      <td>0.079</td>\n    </tr>\n    <tr>\n      <td>4</td>\n      <td>1733</td>\n      <td>0.138</td>\n    </tr>\n    <tr>\n      <td>...</td>\n      <td>...</td>\n      <td>...</td>\n    </tr>\n    <tr>\n      <td>525</td>\n      <td>203897</td>\n      <td>0.113</td>\n    </tr>\n    <tr>\n      <td>526</td>\n      <td>1629155</td>\n      <td>0.000</td>\n    </tr>\n    <tr>\n      <td>527</td>\n      <td>2585</td>\n      <td>0.184</td>\n    </tr>\n    <tr>\n      <td>528</td>\n      <td>1629015</td>\n      <td>0.087</td>\n    </tr>\n    <tr>\n      <td>529</td>\n      <td>1627753</td>\n      <td>0.000</td>\n    </tr>\n  </tbody>\n</table>\n<p>3006 rows × 2 columns</p>\n</div>",
      "text/plain": "     PLAYER_ID  DREB_PCT\n0       201985     0.075\n1       201166     0.061\n2       201189     0.199\n3       203519     0.079\n4         1733     0.138\n..         ...       ...\n525     203897     0.113\n526    1629155     0.000\n527       2585     0.184\n528    1629015     0.087\n529    1627753     0.000\n\n[3006 rows x 2 columns]"
     },
     "execution_count": 40,
     "metadata": {},
     "output_type": "execute_result"
    }
   ],
   "source": [
    "players_adv_df[['PLAYER_ID', 'DREB_PCT']]"
   ]
  },
  {
   "cell_type": "code",
   "execution_count": 41,
   "metadata": {},
   "outputs": [
    {
     "ename": "KeyError",
     "evalue": "'PLAYER_ID'",
     "output_type": "error",
     "traceback": [
      "\u001b[1;31m---------------------------------------------------------------------------\u001b[0m",
      "\u001b[1;31mKeyError\u001b[0m                                  Traceback (most recent call last)",
      "\u001b[1;32m<ipython-input-41-d04f5e13fd61>\u001b[0m in \u001b[0;36m<module>\u001b[1;34m\u001b[0m\n\u001b[0;32m      1\u001b[0m \u001b[1;31m# Add current defensive rebounding % to defensive stats\u001b[0m\u001b[1;33m\u001b[0m\u001b[1;33m\u001b[0m\u001b[1;33m\u001b[0m\u001b[0m\n\u001b[0;32m      2\u001b[0m combined_def_df = combined_def_df.merge(players_adv_df[['PLAYER_ID','PLAYER_NAME', 'DREB_PCT']], \n\u001b[1;32m----> 3\u001b[1;33m                                             on=['PLAYER_ID', 'PLAYER_NAME'], how='left')\n\u001b[0m\u001b[0;32m      4\u001b[0m \u001b[1;33m\u001b[0m\u001b[0m\n\u001b[0;32m      5\u001b[0m \u001b[1;31m# Add blocks and blocks attempted\u001b[0m\u001b[1;33m\u001b[0m\u001b[1;33m\u001b[0m\u001b[1;33m\u001b[0m\u001b[0m\n",
      "\u001b[1;32m~\\Anaconda3\\lib\\site-packages\\pandas\\core\\frame.py\u001b[0m in \u001b[0;36mmerge\u001b[1;34m(self, right, how, on, left_on, right_on, left_index, right_index, sort, suffixes, copy, indicator, validate)\u001b[0m\n\u001b[0;32m   7332\u001b[0m             \u001b[0mcopy\u001b[0m\u001b[1;33m=\u001b[0m\u001b[0mcopy\u001b[0m\u001b[1;33m,\u001b[0m\u001b[1;33m\u001b[0m\u001b[1;33m\u001b[0m\u001b[0m\n\u001b[0;32m   7333\u001b[0m             \u001b[0mindicator\u001b[0m\u001b[1;33m=\u001b[0m\u001b[0mindicator\u001b[0m\u001b[1;33m,\u001b[0m\u001b[1;33m\u001b[0m\u001b[1;33m\u001b[0m\u001b[0m\n\u001b[1;32m-> 7334\u001b[1;33m             \u001b[0mvalidate\u001b[0m\u001b[1;33m=\u001b[0m\u001b[0mvalidate\u001b[0m\u001b[1;33m,\u001b[0m\u001b[1;33m\u001b[0m\u001b[1;33m\u001b[0m\u001b[0m\n\u001b[0m\u001b[0;32m   7335\u001b[0m         )\n\u001b[0;32m   7336\u001b[0m \u001b[1;33m\u001b[0m\u001b[0m\n",
      "\u001b[1;32m~\\Anaconda3\\lib\\site-packages\\pandas\\core\\reshape\\merge.py\u001b[0m in \u001b[0;36mmerge\u001b[1;34m(left, right, how, on, left_on, right_on, left_index, right_index, sort, suffixes, copy, indicator, validate)\u001b[0m\n\u001b[0;32m     79\u001b[0m         \u001b[0mcopy\u001b[0m\u001b[1;33m=\u001b[0m\u001b[0mcopy\u001b[0m\u001b[1;33m,\u001b[0m\u001b[1;33m\u001b[0m\u001b[1;33m\u001b[0m\u001b[0m\n\u001b[0;32m     80\u001b[0m         \u001b[0mindicator\u001b[0m\u001b[1;33m=\u001b[0m\u001b[0mindicator\u001b[0m\u001b[1;33m,\u001b[0m\u001b[1;33m\u001b[0m\u001b[1;33m\u001b[0m\u001b[0m\n\u001b[1;32m---> 81\u001b[1;33m         \u001b[0mvalidate\u001b[0m\u001b[1;33m=\u001b[0m\u001b[0mvalidate\u001b[0m\u001b[1;33m,\u001b[0m\u001b[1;33m\u001b[0m\u001b[1;33m\u001b[0m\u001b[0m\n\u001b[0m\u001b[0;32m     82\u001b[0m     )\n\u001b[0;32m     83\u001b[0m     \u001b[1;32mreturn\u001b[0m \u001b[0mop\u001b[0m\u001b[1;33m.\u001b[0m\u001b[0mget_result\u001b[0m\u001b[1;33m(\u001b[0m\u001b[1;33m)\u001b[0m\u001b[1;33m\u001b[0m\u001b[1;33m\u001b[0m\u001b[0m\n",
      "\u001b[1;32m~\\Anaconda3\\lib\\site-packages\\pandas\\core\\reshape\\merge.py\u001b[0m in \u001b[0;36m__init__\u001b[1;34m(self, left, right, how, on, left_on, right_on, axis, left_index, right_index, sort, suffixes, copy, indicator, validate)\u001b[0m\n\u001b[0;32m    624\u001b[0m             \u001b[0mself\u001b[0m\u001b[1;33m.\u001b[0m\u001b[0mright_join_keys\u001b[0m\u001b[1;33m,\u001b[0m\u001b[1;33m\u001b[0m\u001b[1;33m\u001b[0m\u001b[0m\n\u001b[0;32m    625\u001b[0m             \u001b[0mself\u001b[0m\u001b[1;33m.\u001b[0m\u001b[0mjoin_names\u001b[0m\u001b[1;33m,\u001b[0m\u001b[1;33m\u001b[0m\u001b[1;33m\u001b[0m\u001b[0m\n\u001b[1;32m--> 626\u001b[1;33m         ) = self._get_merge_keys()\n\u001b[0m\u001b[0;32m    627\u001b[0m \u001b[1;33m\u001b[0m\u001b[0m\n\u001b[0;32m    628\u001b[0m         \u001b[1;31m# validate the merge keys dtypes. We may need to coerce\u001b[0m\u001b[1;33m\u001b[0m\u001b[1;33m\u001b[0m\u001b[1;33m\u001b[0m\u001b[0m\n",
      "\u001b[1;32m~\\Anaconda3\\lib\\site-packages\\pandas\\core\\reshape\\merge.py\u001b[0m in \u001b[0;36m_get_merge_keys\u001b[1;34m(self)\u001b[0m\n\u001b[0;32m    986\u001b[0m                         \u001b[0mright_keys\u001b[0m\u001b[1;33m.\u001b[0m\u001b[0mappend\u001b[0m\u001b[1;33m(\u001b[0m\u001b[0mrk\u001b[0m\u001b[1;33m)\u001b[0m\u001b[1;33m\u001b[0m\u001b[1;33m\u001b[0m\u001b[0m\n\u001b[0;32m    987\u001b[0m                     \u001b[1;32mif\u001b[0m \u001b[0mlk\u001b[0m \u001b[1;32mis\u001b[0m \u001b[1;32mnot\u001b[0m \u001b[1;32mNone\u001b[0m\u001b[1;33m:\u001b[0m\u001b[1;33m\u001b[0m\u001b[1;33m\u001b[0m\u001b[0m\n\u001b[1;32m--> 988\u001b[1;33m                         \u001b[0mleft_keys\u001b[0m\u001b[1;33m.\u001b[0m\u001b[0mappend\u001b[0m\u001b[1;33m(\u001b[0m\u001b[0mleft\u001b[0m\u001b[1;33m.\u001b[0m\u001b[0m_get_label_or_level_values\u001b[0m\u001b[1;33m(\u001b[0m\u001b[0mlk\u001b[0m\u001b[1;33m)\u001b[0m\u001b[1;33m)\u001b[0m\u001b[1;33m\u001b[0m\u001b[1;33m\u001b[0m\u001b[0m\n\u001b[0m\u001b[0;32m    989\u001b[0m                         \u001b[0mjoin_names\u001b[0m\u001b[1;33m.\u001b[0m\u001b[0mappend\u001b[0m\u001b[1;33m(\u001b[0m\u001b[0mlk\u001b[0m\u001b[1;33m)\u001b[0m\u001b[1;33m\u001b[0m\u001b[1;33m\u001b[0m\u001b[0m\n\u001b[0;32m    990\u001b[0m                     \u001b[1;32melse\u001b[0m\u001b[1;33m:\u001b[0m\u001b[1;33m\u001b[0m\u001b[1;33m\u001b[0m\u001b[0m\n",
      "\u001b[1;32m~\\Anaconda3\\lib\\site-packages\\pandas\\core\\generic.py\u001b[0m in \u001b[0;36m_get_label_or_level_values\u001b[1;34m(self, key, axis)\u001b[0m\n\u001b[0;32m   1772\u001b[0m             \u001b[0mvalues\u001b[0m \u001b[1;33m=\u001b[0m \u001b[0mself\u001b[0m\u001b[1;33m.\u001b[0m\u001b[0maxes\u001b[0m\u001b[1;33m[\u001b[0m\u001b[0maxis\u001b[0m\u001b[1;33m]\u001b[0m\u001b[1;33m.\u001b[0m\u001b[0mget_level_values\u001b[0m\u001b[1;33m(\u001b[0m\u001b[0mkey\u001b[0m\u001b[1;33m)\u001b[0m\u001b[1;33m.\u001b[0m\u001b[0m_values\u001b[0m\u001b[1;33m\u001b[0m\u001b[1;33m\u001b[0m\u001b[0m\n\u001b[0;32m   1773\u001b[0m         \u001b[1;32melse\u001b[0m\u001b[1;33m:\u001b[0m\u001b[1;33m\u001b[0m\u001b[1;33m\u001b[0m\u001b[0m\n\u001b[1;32m-> 1774\u001b[1;33m             \u001b[1;32mraise\u001b[0m \u001b[0mKeyError\u001b[0m\u001b[1;33m(\u001b[0m\u001b[0mkey\u001b[0m\u001b[1;33m)\u001b[0m\u001b[1;33m\u001b[0m\u001b[1;33m\u001b[0m\u001b[0m\n\u001b[0m\u001b[0;32m   1775\u001b[0m \u001b[1;33m\u001b[0m\u001b[0m\n\u001b[0;32m   1776\u001b[0m         \u001b[1;31m# Check for duplicates\u001b[0m\u001b[1;33m\u001b[0m\u001b[1;33m\u001b[0m\u001b[1;33m\u001b[0m\u001b[0m\n",
      "\u001b[1;31mKeyError\u001b[0m: 'PLAYER_ID'"
     ]
    }
   ],
   "source": [
    "# Add current defensive rebounding % to defensive stats\n",
    "combined_def_df = combined_def_df.merge(players_adv_df[['PLAYER_ID','PLAYER_NAME', 'DREB_PCT']], \n",
    "                                            on=['PLAYER_ID', 'PLAYER_NAME'], how='left', co)\n",
    "\n",
    "# Add blocks and blocks attempted\n",
    "# combined_def_df['BLK'] = players_misc_df['BLK']\n",
    "# combined_def_df['BLKA'] = players_misc_df['BLKA']"
   ]
  },
  {
   "cell_type": "code",
   "execution_count": 204,
   "metadata": {},
   "outputs": [],
   "source": [
    "def_filename = '2013-19_shot_defenses.csv'\n",
    "combined_def_df.to_csv(def_filename)"
   ]
  },
  {
   "cell_type": "markdown",
   "metadata": {},
   "source": [
    "# Gather data for current season"
   ]
  },
  {
   "cell_type": "markdown",
   "metadata": {},
   "source": [
    "## Offensive statistics"
   ]
  },
  {
   "cell_type": "code",
   "execution_count": 13,
   "metadata": {},
   "outputs": [],
   "source": [
    "# create empty dataframe for combined statistics\n",
    "curr_off_stats = pd.DataFrame()\n",
    "\n",
    "# working dataframes\n",
    "curr_adv_stats = pd.DataFrame()\n",
    "curr_misc_stats = pd.DataFrame()\n",
    "curr_scoring_stats = pd.DataFrame()\n",
    "\n",
    "curr_interior_def_stats = pd.DataFrame()\n",
    "curr_peri_def_stats = pd.DataFrame()"
   ]
  },
  {
   "cell_type": "code",
   "execution_count": 28,
   "metadata": {},
   "outputs": [],
   "source": [
    "curr_adv_stats = get_adv_stats(out_df=curr_adv_stats, in_season=curr_season)\n",
    "curr_misc_stats = get_misc_stats(out_df=curr_misc_stats, in_season=curr_season)\n",
    "curr_scoring_stats = scoring_adv_stats(out_df=curr_scoring_stats, in_season=curr_season)"
   ]
  },
  {
   "cell_type": "code",
   "execution_count": 35,
   "metadata": {},
   "outputs": [],
   "source": [
    "curr_filtered_scoring = pd.concat([curr_scoring_stats.PLAYER_ID, curr_scoring_stats.season, \n",
    "                        curr_scoring_stats[curr_scoring_stats.columns[10:25]]], axis=1)"
   ]
  },
  {
   "cell_type": "code",
   "execution_count": 38,
   "metadata": {},
   "outputs": [],
   "source": [
    "# combine offensive dataframes\n",
    "\n",
    "curr_filtered_misc = curr_misc_stats[['PLAYER_ID','season', 'PTS_FB', 'PTS_PAINT', 'PFD', 'BLKA']]\n",
    "curr_filtered_scoring = pd.concat([curr_scoring_stats.PLAYER_ID, curr_scoring_stats.season, \n",
    "                        curr_scoring_stats[curr_scoring_stats.columns[10:25]]], axis=1)\n",
    "\n",
    "# merge dataframes\n",
    "curr_off_stats = curr_adv_stats.merge(curr_filtered_misc, on=['PLAYER_ID', 'season'], how='left')\n",
    "curr_off_stats = curr_off_stats.merge(curr_filtered_scoring, on=['PLAYER_ID', 'season'], how='left')"
   ]
  },
  {
   "cell_type": "markdown",
   "metadata": {},
   "source": [
    "## Defensive statistics"
   ]
  },
  {
   "cell_type": "code",
   "execution_count": 33,
   "metadata": {},
   "outputs": [],
   "source": [
    "curr_interior_def_stats = get_interior_defs(in_season=curr_season, out_df=curr_interior_def_stats)\n",
    "curr_peri_def_stats = get_perimeter_defs(in_season=curr_season, out_df = curr_peri_def_stats)"
   ]
  },
  {
   "cell_type": "code",
   "execution_count": 39,
   "metadata": {},
   "outputs": [],
   "source": [
    "curr_filtered_perimeter_def_df = pd.concat([curr_peri_def_stats.PLAYER_NAME, curr_peri_def_stats.season, \n",
    "                                            curr_peri_def_stats[curr_peri_def_stats.columns[8:14]]], axis=1)"
   ]
  },
  {
   "cell_type": "code",
   "execution_count": 40,
   "metadata": {},
   "outputs": [],
   "source": [
    "# combine defensive dataframes\n",
    "curr_def_stats = pd.DataFrame()\n",
    "\n",
    "curr_def_stats = curr_interior_def_stats.merge(curr_filtered_perimeter_def_df, on=['PLAYER_NAME', 'season'], how='left')"
   ]
  },
  {
   "cell_type": "code",
   "execution_count": null,
   "metadata": {},
   "outputs": [],
   "source": [
    "# Add blocks and def % stats\n",
    "# Add current defensive rebounding % to defensive stats\n",
    "curr_def_stats['DREB_PCT'] = curr_off_stats['DREB_PCT']\n",
    "\n",
    "# Add blocks and blocks attempted\n",
    "curr_def_stats['BLK'] = curr_off_stats['BLK']\n",
    "curr_def_stats['BLKA'] = curr_off_stats['BLKA']"
   ]
  },
  {
   "cell_type": "code",
   "execution_count": 41,
   "metadata": {},
   "outputs": [],
   "source": [
    "# Export to csv files\n",
    "curr_off_filename = '2019-20_offensive_stats.csv'\n",
    "curr_def_filename = '2019-20_defensive_stats.csv'\n",
    "\n",
    "curr_off_stats.to_csv(curr_off_filename)\n",
    "curr_def_stats.to_csv(curr_def_filename)"
   ]
  }
 ]
}